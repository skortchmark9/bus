{
 "cells": [
  {
   "cell_type": "code",
   "execution_count": 5,
   "id": "ce324bab-2f4b-43de-a28a-9d997aec06eb",
   "metadata": {},
   "outputs": [
    {
     "name": "stdout",
     "output_type": "stream",
     "text": [
      "Requirement already satisfied: nest_asyncio in c:\\users\\allis\\appdata\\roaming\\python\\python312\\site-packages (1.6.0)Note: you may need to restart the kernel to use updated packages.\n",
      "\n"
     ]
    }
   ],
   "source": [
    "%pip install nest_asyncio"
   ]
  },
  {
   "cell_type": "code",
   "execution_count": 7,
   "id": "265772e8-371c-4701-8310-d976606ad3df",
   "metadata": {},
   "outputs": [],
   "source": [
    "# Allow nested asyncio loops\n",
    "import nest_asyncio\n",
    "nest_asyncio.apply()\n",
    "\n",
    "# Run your async function in the existing event loop\n",
    "#loop = asyncio.get_event_loop()\n",
    "#loop.run_until_complete(main())"
   ]
  },
  {
   "cell_type": "code",
   "execution_count": 9,
   "id": "33e9c09a-e926-4273-9e8b-baed8bd0524a",
   "metadata": {},
   "outputs": [
    {
     "ename": "IndentationError",
     "evalue": "unexpected indent (scrape.py, line 115)",
     "output_type": "error",
     "traceback": [
      "\u001b[1;36m  File \u001b[1;32m~\\ML_Civ_Eng\\bus_git\\bus\\scrape.py:115\u001b[1;36m\u001b[0m\n\u001b[1;33m    continue\u001b[0m\n\u001b[1;37m    ^\u001b[0m\n\u001b[1;31mIndentationError\u001b[0m\u001b[1;31m:\u001b[0m unexpected indent\n"
     ]
    }
   ],
   "source": [
    "%run scrape.py"
   ]
  }
 ],
 "metadata": {
  "kernelspec": {
   "display_name": "Python 3 (ipykernel)",
   "language": "python",
   "name": "python3"
  },
  "language_info": {
   "codemirror_mode": {
    "name": "ipython",
    "version": 3
   },
   "file_extension": ".py",
   "mimetype": "text/x-python",
   "name": "python",
   "nbconvert_exporter": "python",
   "pygments_lexer": "ipython3",
   "version": "3.12.4"
  }
 },
 "nbformat": 4,
 "nbformat_minor": 5
}
