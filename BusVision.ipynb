{
 "cells": [
  {
   "cell_type": "markdown",
   "id": "8a11324b-3a95-4b78-ac51-a97cf6f84e50",
   "metadata": {},
   "source": [
    "## Formatting for YOLO Training"
   ]
  },
  {
   "cell_type": "code",
   "execution_count": 1,
   "id": "85ae34c5-617a-40c2-b109-01897edff1f0",
   "metadata": {},
   "outputs": [],
   "source": [
    "import os\n",
    "import shutil\n",
    "import random\n",
    "import numpy as np\n",
    "import yaml"
   ]
  },
  {
   "cell_type": "code",
   "execution_count": 4,
   "id": "0d273269-aa24-426b-a44e-b340992ac720",
   "metadata": {},
   "outputs": [
    {
     "data": {
      "text/plain": [
       "3425"
      ]
     },
     "execution_count": 4,
     "metadata": {},
     "output_type": "execute_result"
    }
   ],
   "source": [
    "d = os.listdir(\"./data/bus_images_annotations/all_bus_images_annotations/images\")\n",
    "len(d)"
   ]
  },
  {
   "cell_type": "code",
   "execution_count": 36,
   "id": "10baa910-54c3-4f16-a923-71efaf5d8e4f",
   "metadata": {},
   "outputs": [],
   "source": [
    "# pull images (+ labels) containing buses\n",
    "def pull_bus(camera):\n",
    "    # imported .txt labels from CVAT AI\n",
    "    labels = os.listdir(os.path.join(\"./data/annotations/\", camera, 'obj_Train_data'))\n",
    "    \n",
    "    for lbl in labels:\n",
    "        lbl_path = os.path.join(\"./data/annotations/\", camera, 'obj_Train_data', lbl)\n",
    "        \n",
    "        # check if .txt empty (aka no annotations/buses)\n",
    "        if os.path.getsize(lbl_path) != 0:\n",
    "\n",
    "            # get corresponding img\n",
    "            name, ext = os.path.splitext(lbl)\n",
    "            img = name + \".jpg\"\n",
    "            img_path = os.path.join(\"./data/camera_images/\", camera, img)\n",
    "\n",
    "            # copy corresponding img to all_bus_images_annotations images folder\n",
    "            move_path_img = os.path.join(\"./data/bus_images_annotations/\", \"all_bus_images_annotations\", \"images\", img)\n",
    "            shutil.copyfile(img_path, move_path_img)\n",
    "\n",
    "            # copy .txt annotation to all_bus_images_annotations annotations folder\n",
    "            move_path_lbl = os.path.join(\"./data/bus_images_annotations/\", \"all_bus_images_annotations\", \"labels\", lbl)\n",
    "            shutil.copyfile(lbl_path, move_path_lbl)\n",
    "\n",
    "            # rename to add camera to img, label file name\n",
    "            new_img_nm = camera + \"_\" + name + \".jpg\"\n",
    "            new_img_path = os.path.join(\"./data/bus_images_annotations/\", \"all_bus_images_annotations\", \"images\", new_img_nm)\n",
    "            os.rename(move_path_img, new_img_path)\n",
    "\n",
    "            new_lbl_nm = camera + \"_\" + name + \".txt\"\n",
    "            new_lbl_path = os.path.join(\"./data/bus_images_annotations/\", \"all_bus_images_annotations\", \"labels\", new_lbl_nm)\n",
    "            os.rename(move_path_lbl, new_lbl_path)"
   ]
  },
  {
   "cell_type": "raw",
   "id": "cfc96fbb-b95c-4d01-b960-408785b365d0",
   "metadata": {},
   "source": [
    "# EXAMPLE FILE STRUCTURE REQ FOR YOLO TRAINING\n",
    "\n",
    "|-- datasetA\n",
    "|   |-- images\n",
    "|       |-- test\n",
    "|       |-- train\n",
    "|   |-- labels\n",
    "|       |-- test\n",
    "|       |-- train\n"
   ]
  },
  {
   "cell_type": "code",
   "execution_count": 60,
   "id": "331b6a5a-6be9-426a-a881-8a64f44dc4dd",
   "metadata": {},
   "outputs": [],
   "source": [
    "test = [1, 2, 3, 4, 5, 6, 7, 8, 9, 10]\n",
    "\n",
    "train_split = 0.7\n",
    "\n",
    "valid_split = 0.2\n",
    "test_split = 0.1\n",
    "\n",
    "valid_ratio = valid_split/(test_split + valid_split)\n",
    "test_ratio = test_split/(test_split + valid_split)\n",
    "\n",
    "train_img, rest = np.array_split(test, [int(len(test)*train_split)])\n",
    "valid_img, test_img = np.array_split(rest, [int(len(rest)*valid_ratio)]) \n"
   ]
  },
  {
   "cell_type": "code",
   "execution_count": 61,
   "id": "6fdd1f5a-1d6d-4c6c-8d4d-b9c2baf6d224",
   "metadata": {},
   "outputs": [
    {
     "data": {
      "text/plain": [
       "array([1, 2, 3, 4, 5, 6, 7])"
      ]
     },
     "execution_count": 61,
     "metadata": {},
     "output_type": "execute_result"
    }
   ],
   "source": [
    "train_img"
   ]
  },
  {
   "cell_type": "code",
   "execution_count": 62,
   "id": "c7ad033d-cf43-498d-85ef-750ce1accc0f",
   "metadata": {},
   "outputs": [
    {
     "data": {
      "text/plain": [
       "array([ 8,  9, 10])"
      ]
     },
     "execution_count": 62,
     "metadata": {},
     "output_type": "execute_result"
    }
   ],
   "source": [
    "rest"
   ]
  },
  {
   "cell_type": "code",
   "execution_count": 63,
   "id": "2b100e86-d07e-4765-88d5-ceaf73c54d48",
   "metadata": {},
   "outputs": [
    {
     "data": {
      "text/plain": [
       "array([8, 9])"
      ]
     },
     "execution_count": 63,
     "metadata": {},
     "output_type": "execute_result"
    }
   ],
   "source": [
    "valid_img"
   ]
  },
  {
   "cell_type": "code",
   "execution_count": 64,
   "id": "0b0102a0-d8de-4edb-9473-7062883321e6",
   "metadata": {},
   "outputs": [
    {
     "data": {
      "text/plain": [
       "array([10])"
      ]
     },
     "execution_count": 64,
     "metadata": {},
     "output_type": "execute_result"
    }
   ],
   "source": [
    "test_img"
   ]
  },
  {
   "cell_type": "code",
   "execution_count": 74,
   "id": "372fd01b-a45e-4735-8473-9569269148c5",
   "metadata": {},
   "outputs": [],
   "source": [
    "# sort TRAIN v VALID v TEST\n",
    "def split_train_test_val(camera, train_split, test_split, valid_split):\n",
    "\n",
    "    # make sure adds up to 100%\n",
    "    if train_split + test_split + valid_split != 1.0:\n",
    "        sys.exit(1)\n",
    "\n",
    "    img_path = os.path.join(\"./data/bus_images_annotations/\", \"all_bus_images_annotations\", \"images\")\n",
    "    label_path = os.path.join(\"./data/bus_images_annotations/\", \"all_bus_images_annotations\", \"labels\")\n",
    "\n",
    "    # SHUFFLE\n",
    "    imgs = os.listdir(img_path)\n",
    "    random.seed(42) # set random seed\n",
    "    random.shuffle(imgs) # randomly rearrange \n",
    "\n",
    "    # split into TRAIN v VALID v TEST\n",
    "    valid_ratio = valid_split/(test_split + valid_split)\n",
    "    test_ratio = test_split/(test_split + valid_split)\n",
    "\n",
    "    train_img, rest = np.array_split(imgs, [int(len(imgs)*train_split)])\n",
    "    valid_img, test_img = np.array_split(rest, [int(len(rest)*valid_ratio)]) \n",
    "\n",
    "    # copy img + label to corresponding train/test folder\n",
    "    for img in train_img:   \n",
    "        name, ext = os.path.splitext(img)\n",
    "        lbl = name + \".txt\"\n",
    "\n",
    "        source_img_path = os.path.join(img_path, img)\n",
    "        source_lbl_path = os.path.join(label_path, lbl)\n",
    "        \n",
    "        train_img_path = os.path.join(\"./data/YOLO_bus/\", \"all_bus\", \"train\", \"images\", img)\n",
    "        train_lbl_path = os.path.join(\"./data/YOLO_bus/\", \"all_bus\", \"train\", \"labels\", lbl)\n",
    "\n",
    "        shutil.copyfile(source_img_path, train_img_path)\n",
    "        shutil.copyfile(source_lbl_path, train_lbl_path)\n",
    "\n",
    "    for img in valid_img:   \n",
    "        name, ext = os.path.splitext(img)\n",
    "        lbl = name + \".txt\"\n",
    "\n",
    "        source_img_path = os.path.join(img_path, img)\n",
    "        source_lbl_path = os.path.join(label_path, lbl)\n",
    "        \n",
    "        valid_img_path = os.path.join(\"./data/YOLO_bus/\", \"all_bus\", \"val\", \"images\", img)\n",
    "        valid_lbl_path = os.path.join(\"./data/YOLO_bus/\", \"all_bus\", \"val\", \"labels\", lbl)\n",
    "\n",
    "        shutil.copyfile(source_img_path, valid_img_path)\n",
    "        shutil.copyfile(source_lbl_path, valid_lbl_path)\n",
    "\n",
    "    for img in test_img:   \n",
    "        name, ext = os.path.splitext(img)\n",
    "        lbl = name + \".txt\"\n",
    "\n",
    "        source_img_path = os.path.join(img_path, img)\n",
    "        source_lbl_path = os.path.join(label_path, lbl)\n",
    "        \n",
    "        test_img_path = os.path.join(\"./data/YOLO_bus/\", \"all_bus\", \"test\", \"images\", img)\n",
    "        test_lbl_path = os.path.join(\"./data/YOLO_bus/\", \"all_bus\", \"test\", \"labels\", lbl)\n",
    "\n",
    "        shutil.copyfile(source_img_path, test_img_path)\n",
    "        shutil.copyfile(source_lbl_path, test_lbl_path)\n",
    "\n",
    "    # check\n",
    "    train_len  = len(os.listdir(os.path.join(\"./data/YOLO_bus/\", \"all_bus\", \"train\", \"images\")))\n",
    "    val_len  = len(os.listdir(os.path.join(\"./data/YOLO_bus/\", \"all_bus\", \"val\", \"images\")))\n",
    "    test_len  = len(os.listdir(os.path.join(\"./data/YOLO_bus/\", \"all_bus\", \"test\", \"images\")))\n",
    "    tot = train_len + val_len + test_len\n",
    "    print(\"Train % = \", train_len/tot)\n",
    "    print(\"Val % = \", val_len/tot)\n",
    "    print(\"Test % = \", test_len/tot)"
   ]
  },
  {
   "cell_type": "code",
   "execution_count": 80,
   "id": "ab60ee09-2441-4fc9-bfd6-973d20f9c14c",
   "metadata": {},
   "outputs": [],
   "source": [
    "def make_yaml():\n",
    "\n",
    "    root = \"C:/Users/allis/ML_Civ_Eng/bus_git/bus/data/YOLO_bus/all_bus/\"\n",
    "    train_path = os.path.join(root, \"train\", \"images\")\n",
    "    val_path = os.path.join(root, \"val\", \"images\")\n",
    "    test_path = os.path.join(root, \"test\", \"images\")\n",
    "    \n",
    "    data = {\n",
    "    'train': train_path, # training set images\n",
    "    'val': val_path, # validating set images\n",
    "    'test': test_path, # testing set images\n",
    "    'nc': 1,\n",
    "    'names' : [\"bus\"] \n",
    "    }\n",
    "\n",
    "    # Writing the data to a YAML file\n",
    "    yaml_name = \"all_bus.yaml\"\n",
    "    yaml_path = os.path.join(\"./data/YOLO_yaml/\", yaml_name)\n",
    "    \n",
    "    with open(yaml_path, 'w') as file:\n",
    "        yaml.dump(data, file)"
   ]
  },
  {
   "cell_type": "code",
   "execution_count": 22,
   "id": "73c927e6-6b59-40c5-9e9a-51bf93b28622",
   "metadata": {},
   "outputs": [],
   "source": [
    "cameras_42 = [\n",
    "    \"8f692f55-8118-423b-8bcb-1ea49eaf442b\",\n",
    "    \"1546f761-039c-4b5c-af5e-75c83c9f603f\",\n",
    "    \"F0e5c9aa-7700-4918-834f-c106189bde4b\",\n",
    "    \"83bf2591-579d-415b-a0d4-fe39868b46d1\"\n",
    "]"
   ]
  },
  {
   "cell_type": "code",
   "execution_count": 38,
   "id": "2b5bbe0b-c123-400a-b0eb-ff23fad794ac",
   "metadata": {},
   "outputs": [
    {
     "name": "stdout",
     "output_type": "stream",
     "text": [
      "8f692f55-8118-423b-8bcb-1ea49eaf442b : DONE\n",
      "1546f761-039c-4b5c-af5e-75c83c9f603f : DONE\n",
      "F0e5c9aa-7700-4918-834f-c106189bde4b : DONE\n",
      "83bf2591-579d-415b-a0d4-fe39868b46d1 : DONE\n"
     ]
    }
   ],
   "source": [
    "# pull bus images/annotations\n",
    "for camera in cameras_42:\n",
    "    pull_bus(camera)\n",
    "    print(camera, \": DONE\")"
   ]
  },
  {
   "cell_type": "code",
   "execution_count": 75,
   "id": "084c784c-dd30-4aa1-977e-30719042add5",
   "metadata": {},
   "outputs": [
    {
     "name": "stdout",
     "output_type": "stream",
     "text": [
      "Train % =  0.6998540145985401\n",
      "Val % =  0.15007299270072993\n",
      "Test % =  0.15007299270072993\n"
     ]
    }
   ],
   "source": [
    "# split into TRAINING/TESTING/VALIDATION sets\n",
    "split_train_test_val(camera, train_split = 0.7, test_split = 0.15, valid_split = 0.15)"
   ]
  },
  {
   "cell_type": "code",
   "execution_count": 81,
   "id": "7ef7dd9c-0122-4dff-a9d4-6d1547b6d11b",
   "metadata": {},
   "outputs": [],
   "source": [
    "# make YAML files for YOLO training\n",
    "make_yaml()"
   ]
  },
  {
   "cell_type": "markdown",
   "id": "fd21b982-3225-4c05-aaa4-51efada7e858",
   "metadata": {},
   "source": [
    "## Training YOLO"
   ]
  },
  {
   "cell_type": "code",
   "execution_count": 2,
   "id": "e897f6f9-12d4-4a62-b918-4cd48bcce512",
   "metadata": {},
   "outputs": [],
   "source": [
    "from ultralytics import YOLO"
   ]
  },
  {
   "cell_type": "code",
   "execution_count": 3,
   "id": "91dc04d9-8a8e-4b6e-a4ec-45b56d742cb1",
   "metadata": {},
   "outputs": [],
   "source": [
    "# testing\n",
    "model = YOLO(\"yolov8m.pt\")"
   ]
  },
  {
   "cell_type": "code",
   "execution_count": 5,
   "id": "4717c019-c2ca-4ec6-8f86-b3af390fff73",
   "metadata": {},
   "outputs": [
    {
     "name": "stdout",
     "output_type": "stream",
     "text": [
      "New https://pypi.org/project/ultralytics/8.3.116 available  Update with 'pip install -U ultralytics'\n",
      "Ultralytics 8.3.107  Python-3.12.4 torch-2.6.0+cpu CPU (13th Gen Intel Core(TM) i9-13900H)\n",
      "\u001b[34m\u001b[1mengine\\trainer: \u001b[0mtask=detect, mode=train, model=yolov8m.pt, data=./data/YOLO_yaml/all_bus.yaml, epochs=2, time=None, patience=100, batch=-1, imgsz=640, save=True, save_period=-1, cache=False, device=None, workers=1, project=None, name=train9, exist_ok=False, pretrained=True, optimizer=auto, verbose=True, seed=0, deterministic=True, single_cls=False, rect=False, cos_lr=False, close_mosaic=10, resume=False, amp=True, fraction=1.0, profile=False, freeze=None, multi_scale=False, overlap_mask=True, mask_ratio=4, dropout=0.0, val=True, split=val, save_json=False, conf=None, iou=0.7, max_det=300, half=False, dnn=False, plots=True, source=None, vid_stride=1, stream_buffer=False, visualize=False, augment=False, agnostic_nms=False, classes=None, retina_masks=False, embed=None, show=False, save_frames=False, save_txt=False, save_conf=False, save_crop=False, show_labels=True, show_conf=True, show_boxes=True, line_width=None, format=torchscript, keras=False, optimize=False, int8=False, dynamic=False, simplify=True, opset=None, workspace=None, nms=False, lr0=0.01, lrf=0.01, momentum=0.937, weight_decay=0.0005, warmup_epochs=3.0, warmup_momentum=0.8, warmup_bias_lr=0.1, box=7.5, cls=0.5, dfl=1.5, pose=12.0, kobj=1.0, nbs=64, hsv_h=0.015, hsv_s=0.7, hsv_v=0.4, degrees=0.0, translate=0.1, scale=0.5, shear=0.0, perspective=0.0, flipud=0.0, fliplr=0.5, bgr=0.0, mosaic=1.0, mixup=0.0, copy_paste=0.0, copy_paste_mode=flip, auto_augment=randaugment, erasing=0.4, crop_fraction=1.0, cfg=None, tracker=botsort.yaml, save_dir=runs\\detect\\train9\n",
      "Overriding model.yaml nc=80 with nc=1\n",
      "\n",
      "                   from  n    params  module                                       arguments                     \n",
      "  0                  -1  1      1392  ultralytics.nn.modules.conv.Conv             [3, 48, 3, 2]                 \n",
      "  1                  -1  1     41664  ultralytics.nn.modules.conv.Conv             [48, 96, 3, 2]                \n",
      "  2                  -1  2    111360  ultralytics.nn.modules.block.C2f             [96, 96, 2, True]             \n",
      "  3                  -1  1    166272  ultralytics.nn.modules.conv.Conv             [96, 192, 3, 2]               \n",
      "  4                  -1  4    813312  ultralytics.nn.modules.block.C2f             [192, 192, 4, True]           \n",
      "  5                  -1  1    664320  ultralytics.nn.modules.conv.Conv             [192, 384, 3, 2]              \n",
      "  6                  -1  4   3248640  ultralytics.nn.modules.block.C2f             [384, 384, 4, True]           \n",
      "  7                  -1  1   1991808  ultralytics.nn.modules.conv.Conv             [384, 576, 3, 2]              \n",
      "  8                  -1  2   3985920  ultralytics.nn.modules.block.C2f             [576, 576, 2, True]           \n",
      "  9                  -1  1    831168  ultralytics.nn.modules.block.SPPF            [576, 576, 5]                 \n",
      " 10                  -1  1         0  torch.nn.modules.upsampling.Upsample         [None, 2, 'nearest']          \n",
      " 11             [-1, 6]  1         0  ultralytics.nn.modules.conv.Concat           [1]                           \n",
      " 12                  -1  2   1993728  ultralytics.nn.modules.block.C2f             [960, 384, 2]                 \n",
      " 13                  -1  1         0  torch.nn.modules.upsampling.Upsample         [None, 2, 'nearest']          \n",
      " 14             [-1, 4]  1         0  ultralytics.nn.modules.conv.Concat           [1]                           \n",
      " 15                  -1  2    517632  ultralytics.nn.modules.block.C2f             [576, 192, 2]                 \n",
      " 16                  -1  1    332160  ultralytics.nn.modules.conv.Conv             [192, 192, 3, 2]              \n",
      " 17            [-1, 12]  1         0  ultralytics.nn.modules.conv.Concat           [1]                           \n",
      " 18                  -1  2   1846272  ultralytics.nn.modules.block.C2f             [576, 384, 2]                 \n",
      " 19                  -1  1   1327872  ultralytics.nn.modules.conv.Conv             [384, 384, 3, 2]              \n",
      " 20             [-1, 9]  1         0  ultralytics.nn.modules.conv.Concat           [1]                           \n",
      " 21                  -1  2   4207104  ultralytics.nn.modules.block.C2f             [960, 576, 2]                 \n",
      " 22        [15, 18, 21]  1   3776275  ultralytics.nn.modules.head.Detect           [1, [192, 384, 576]]          \n",
      "Model summary: 169 layers, 25,856,899 parameters, 25,856,883 gradients, 79.1 GFLOPs\n",
      "\n",
      "Transferred 469/475 items from pretrained weights\n",
      "Freezing layer 'model.22.dfl.conv.weight'\n"
     ]
    },
    {
     "name": "stderr",
     "output_type": "stream",
     "text": [
      "\u001b[34m\u001b[1mtrain: \u001b[0mScanning C:\\Users\\allis\\ML_Civ_Eng\\bus_git\\bus\\data\\YOLO_bus\\all_bus\\train\\labels.cache... 2397 images, 0 backgr\u001b[0m"
     ]
    },
    {
     "name": "stdout",
     "output_type": "stream",
     "text": [
      "\u001b[34m\u001b[1mtrain: \u001b[0mWARNING  C:\\Users\\allis\\ML_Civ_Eng\\bus_git\\bus\\data\\YOLO_bus\\all_bus\\train\\images\\83bf2591-579d-415b-a0d4-fe39868b46d1_20250412T233001.jpg: 1 duplicate labels removed\n",
      "\u001b[34m\u001b[1mtrain: \u001b[0mWARNING  C:\\Users\\allis\\ML_Civ_Eng\\bus_git\\bus\\data\\YOLO_bus\\all_bus\\train\\images\\83bf2591-579d-415b-a0d4-fe39868b46d1_20250413T000739.jpg: 1 duplicate labels removed\n",
      "\u001b[34m\u001b[1mtrain: \u001b[0mWARNING  C:\\Users\\allis\\ML_Civ_Eng\\bus_git\\bus\\data\\YOLO_bus\\all_bus\\train\\images\\F0e5c9aa-7700-4918-834f-c106189bde4b_20250413T181343.jpg: 1 duplicate labels removed\n"
     ]
    },
    {
     "name": "stderr",
     "output_type": "stream",
     "text": [
      "\n"
     ]
    },
    {
     "name": "stdout",
     "output_type": "stream",
     "text": [
      "\u001b[34m\u001b[1mAutoBatch: \u001b[0mComputing optimal batch size for imgsz=640 at 60.0% CUDA memory utilization.\n",
      "\u001b[34m\u001b[1mAutoBatch: \u001b[0m  intended for CUDA devices, using default batch-size 16\n"
     ]
    },
    {
     "name": "stderr",
     "output_type": "stream",
     "text": [
      "\u001b[34m\u001b[1mtrain: \u001b[0mScanning C:\\Users\\allis\\ML_Civ_Eng\\bus_git\\bus\\data\\YOLO_bus\\all_bus\\train\\labels.cache... 2397 images, 0 backgr\u001b[0m"
     ]
    },
    {
     "name": "stdout",
     "output_type": "stream",
     "text": [
      "\u001b[34m\u001b[1mtrain: \u001b[0mWARNING  C:\\Users\\allis\\ML_Civ_Eng\\bus_git\\bus\\data\\YOLO_bus\\all_bus\\train\\images\\83bf2591-579d-415b-a0d4-fe39868b46d1_20250412T233001.jpg: 1 duplicate labels removed\n",
      "\u001b[34m\u001b[1mtrain: \u001b[0mWARNING  C:\\Users\\allis\\ML_Civ_Eng\\bus_git\\bus\\data\\YOLO_bus\\all_bus\\train\\images\\83bf2591-579d-415b-a0d4-fe39868b46d1_20250413T000739.jpg: 1 duplicate labels removed\n",
      "\u001b[34m\u001b[1mtrain: \u001b[0mWARNING  C:\\Users\\allis\\ML_Civ_Eng\\bus_git\\bus\\data\\YOLO_bus\\all_bus\\train\\images\\F0e5c9aa-7700-4918-834f-c106189bde4b_20250413T181343.jpg: 1 duplicate labels removed\n"
     ]
    },
    {
     "name": "stderr",
     "output_type": "stream",
     "text": [
      "\n",
      "\u001b[34m\u001b[1mval: \u001b[0mScanning C:\\Users\\allis\\ML_Civ_Eng\\bus_git\\bus\\data\\YOLO_bus\\all_bus\\val\\labels.cache... 514 images, 0 backgrounds\u001b[0m\n"
     ]
    },
    {
     "name": "stdout",
     "output_type": "stream",
     "text": [
      "Plotting labels to runs\\detect\\train9\\labels.jpg... \n",
      "\u001b[34m\u001b[1moptimizer:\u001b[0m 'optimizer=auto' found, ignoring 'lr0=0.01' and 'momentum=0.937' and determining best 'optimizer', 'lr0' and 'momentum' automatically... \n",
      "\u001b[34m\u001b[1moptimizer:\u001b[0m AdamW(lr=0.002, momentum=0.9) with parameter groups 77 weight(decay=0.0), 84 weight(decay=0.0005), 83 bias(decay=0.0)\n",
      "Image sizes 640 train, 640 val\n",
      "Using 0 dataloader workers\n",
      "Logging results to \u001b[1mruns\\detect\\train9\u001b[0m\n",
      "Starting training for 2 epochs...\n",
      "\n",
      "      Epoch    GPU_mem   box_loss   cls_loss   dfl_loss  Instances       Size\n"
     ]
    },
    {
     "name": "stderr",
     "output_type": "stream",
     "text": [
      "        1/2         0G      1.126      1.205      1.222         22        640: 100%|██████████| 150/150 [2:02:00<00:00,\n",
      "                 Class     Images  Instances      Box(P          R      mAP50  mAP50-95): 100%|██████████| 17/17 [06:07"
     ]
    },
    {
     "name": "stdout",
     "output_type": "stream",
     "text": [
      "                   all        514        559      0.271      0.651      0.549      0.375\n"
     ]
    },
    {
     "name": "stderr",
     "output_type": "stream",
     "text": [
      "\n"
     ]
    },
    {
     "name": "stdout",
     "output_type": "stream",
     "text": [
      "\n",
      "      Epoch    GPU_mem   box_loss   cls_loss   dfl_loss  Instances       Size\n"
     ]
    },
    {
     "name": "stderr",
     "output_type": "stream",
     "text": [
      "        2/2         0G      1.032     0.7892      1.186         29        640: 100%|██████████| 150/150 [1:59:46<00:00,\n",
      "                 Class     Images  Instances      Box(P          R      mAP50  mAP50-95): 100%|██████████| 17/17 [06:32"
     ]
    },
    {
     "name": "stdout",
     "output_type": "stream",
     "text": [
      "                   all        514        559      0.924      0.843      0.918      0.671\n"
     ]
    },
    {
     "name": "stderr",
     "output_type": "stream",
     "text": [
      "\n"
     ]
    },
    {
     "name": "stdout",
     "output_type": "stream",
     "text": [
      "\n",
      "2 epochs completed in 4.243 hours.\n",
      "Optimizer stripped from runs\\detect\\train9\\weights\\last.pt, 52.0MB\n",
      "Optimizer stripped from runs\\detect\\train9\\weights\\best.pt, 52.0MB\n",
      "\n",
      "Validating runs\\detect\\train9\\weights\\best.pt...\n",
      "Ultralytics 8.3.107  Python-3.12.4 torch-2.6.0+cpu CPU (13th Gen Intel Core(TM) i9-13900H)\n",
      "Model summary (fused): 92 layers, 25,840,339 parameters, 0 gradients, 78.7 GFLOPs\n"
     ]
    },
    {
     "name": "stderr",
     "output_type": "stream",
     "text": [
      "                 Class     Images  Instances      Box(P          R      mAP50  mAP50-95): 100%|██████████| 17/17 [05:33\n"
     ]
    },
    {
     "name": "stdout",
     "output_type": "stream",
     "text": [
      "                   all        514        559      0.922      0.843      0.918      0.671\n",
      "Speed: 6.5ms preprocess, 628.8ms inference, 0.0ms loss, 0.9ms postprocess per image\n",
      "Results saved to \u001b[1mruns\\detect\\train9\u001b[0m\n"
     ]
    }
   ],
   "source": [
    "trained = model.train(data = \"./data/YOLO_yaml/all_bus.yaml\", \n",
    "                      epochs = 2,\n",
    "                      workers = 1,\n",
    "                      batch = -1)"
   ]
  },
  {
   "cell_type": "markdown",
   "id": "6750d412-f316-4c68-96c5-d76b6cec6135",
   "metadata": {},
   "source": [
    "## YOLO"
   ]
  },
  {
   "cell_type": "code",
   "execution_count": 2,
   "id": "47f5fbc4-cb3e-4c6e-9c54-145762c238c9",
   "metadata": {},
   "outputs": [],
   "source": [
    "from ultralytics import YOLO\n",
    "import os"
   ]
  },
  {
   "cell_type": "code",
   "execution_count": 3,
   "id": "b01eeb04-c157-4abf-843e-fad8ce715cd6",
   "metadata": {},
   "outputs": [],
   "source": [
    "# get paths to TESTING YOLO IMAGES (DATE: 4/19)\n",
    "folder_path = \"./data/YOLO_test_camera_images/1546f761-039c-4b5c-af5e-75c83c9f603f/\"\n",
    "paths = []\n",
    "\n",
    "for img in os.listdir(folder_path):\n",
    "    paths.append(os.path.join(folder_path, img))"
   ]
  },
  {
   "cell_type": "code",
   "execution_count": 4,
   "id": "97190459-bb7a-45b4-a2c0-b67b0a7ff197",
   "metadata": {},
   "outputs": [],
   "source": [
    "# get best .pt model from training\n",
    "best_model = YOLO(\"./runs/detect/train/weights/best.pt\")"
   ]
  },
  {
   "cell_type": "code",
   "execution_count": 9,
   "id": "737894e0-90ba-4a89-b342-062fff0f8ca9",
   "metadata": {},
   "outputs": [
    {
     "name": "stdout",
     "output_type": "stream",
     "text": [
      "\n",
      "0: 448x640 (no detections), 704.7ms\n",
      "1: 448x640 (no detections), 704.7ms\n",
      "2: 448x640 1 bus, 704.7ms\n",
      "3: 448x640 (no detections), 704.7ms\n",
      "4: 448x640 1 bus, 704.7ms\n",
      "5: 448x640 2 buss, 704.7ms\n",
      "6: 448x640 1 bus, 704.7ms\n",
      "7: 448x640 1 bus, 704.7ms\n",
      "8: 448x640 2 buss, 704.7ms\n",
      "9: 448x640 3 buss, 704.7ms\n",
      "10: 448x640 3 buss, 704.7ms\n",
      "11: 448x640 3 buss, 704.7ms\n",
      "12: 448x640 3 buss, 704.7ms\n",
      "13: 448x640 1 bus, 704.7ms\n",
      "14: 448x640 1 bus, 704.7ms\n",
      "15: 448x640 2 buss, 704.7ms\n",
      "16: 448x640 1 bus, 704.7ms\n",
      "17: 448x640 1 bus, 704.7ms\n",
      "18: 448x640 5 buss, 704.7ms\n",
      "19: 448x640 3 buss, 704.7ms\n",
      "20: 448x640 3 buss, 704.7ms\n",
      "21: 448x640 4 buss, 704.7ms\n",
      "22: 448x640 4 buss, 704.7ms\n",
      "23: 448x640 3 buss, 704.7ms\n",
      "24: 448x640 4 buss, 704.7ms\n",
      "25: 448x640 2 buss, 704.7ms\n",
      "26: 448x640 2 buss, 704.7ms\n",
      "27: 448x640 3 buss, 704.7ms\n",
      "28: 448x640 4 buss, 704.7ms\n",
      "29: 448x640 3 buss, 704.7ms\n",
      "30: 448x640 3 buss, 704.7ms\n",
      "31: 448x640 1 bus, 704.7ms\n",
      "32: 448x640 2 buss, 704.7ms\n",
      "33: 448x640 2 buss, 704.7ms\n",
      "34: 448x640 2 buss, 704.7ms\n",
      "35: 448x640 1 bus, 704.7ms\n",
      "36: 448x640 1 bus, 704.7ms\n",
      "37: 448x640 (no detections), 704.7ms\n",
      "38: 448x640 4 buss, 704.7ms\n",
      "39: 448x640 (no detections), 704.7ms\n",
      "40: 448x640 (no detections), 704.7ms\n",
      "41: 448x640 2 buss, 704.7ms\n",
      "42: 448x640 1 bus, 704.7ms\n",
      "43: 448x640 (no detections), 704.7ms\n",
      "44: 448x640 1 bus, 704.7ms\n",
      "45: 448x640 (no detections), 704.7ms\n",
      "46: 448x640 3 buss, 704.7ms\n",
      "47: 448x640 1 bus, 704.7ms\n",
      "48: 448x640 1 bus, 704.7ms\n",
      "49: 448x640 1 bus, 704.7ms\n",
      "50: 448x640 1 bus, 704.7ms\n",
      "51: 448x640 3 buss, 704.7ms\n",
      "52: 448x640 1 bus, 704.7ms\n",
      "53: 448x640 2 buss, 704.7ms\n",
      "54: 448x640 1 bus, 704.7ms\n",
      "55: 448x640 1 bus, 704.7ms\n",
      "56: 448x640 1 bus, 704.7ms\n",
      "57: 448x640 1 bus, 704.7ms\n",
      "58: 448x640 1 bus, 704.7ms\n",
      "59: 448x640 2 buss, 704.7ms\n",
      "60: 448x640 3 buss, 704.7ms\n",
      "61: 448x640 5 buss, 704.7ms\n",
      "62: 448x640 5 buss, 704.7ms\n",
      "63: 448x640 5 buss, 704.7ms\n",
      "64: 448x640 2 buss, 704.7ms\n",
      "65: 448x640 2 buss, 704.7ms\n",
      "66: 448x640 2 buss, 704.7ms\n",
      "67: 448x640 3 buss, 704.7ms\n",
      "68: 448x640 3 buss, 704.7ms\n",
      "69: 448x640 4 buss, 704.7ms\n",
      "70: 448x640 5 buss, 704.7ms\n",
      "71: 448x640 3 buss, 704.7ms\n",
      "72: 448x640 3 buss, 704.7ms\n",
      "73: 448x640 4 buss, 704.7ms\n",
      "74: 448x640 3 buss, 704.7ms\n",
      "75: 448x640 2 buss, 704.7ms\n",
      "76: 448x640 2 buss, 704.7ms\n",
      "77: 448x640 1 bus, 704.7ms\n",
      "78: 448x640 2 buss, 704.7ms\n",
      "79: 448x640 1 bus, 704.7ms\n",
      "80: 448x640 2 buss, 704.7ms\n",
      "81: 448x640 1 bus, 704.7ms\n",
      "82: 448x640 2 buss, 704.7ms\n",
      "83: 448x640 1 bus, 704.7ms\n",
      "84: 448x640 1 bus, 704.7ms\n",
      "85: 448x640 1 bus, 704.7ms\n",
      "86: 448x640 2 buss, 704.7ms\n",
      "87: 448x640 1 bus, 704.7ms\n",
      "88: 448x640 3 buss, 704.7ms\n",
      "89: 448x640 1 bus, 704.7ms\n",
      "90: 448x640 1 bus, 704.7ms\n",
      "91: 448x640 (no detections), 704.7ms\n",
      "92: 448x640 1 bus, 704.7ms\n",
      "93: 448x640 2 buss, 704.7ms\n",
      "94: 448x640 2 buss, 704.7ms\n",
      "95: 448x640 1 bus, 704.7ms\n",
      "96: 448x640 2 buss, 704.7ms\n",
      "97: 448x640 1 bus, 704.7ms\n",
      "98: 448x640 1 bus, 704.7ms\n",
      "99: 448x640 1 bus, 704.7ms\n",
      "Speed: 7.2ms preprocess, 704.7ms inference, 2.9ms postprocess per image at shape (1, 3, 448, 640)\n",
      "Results saved to \u001b[1mruns\\detect\\inference\u001b[0m\n"
     ]
    }
   ],
   "source": [
    "# run prediction model - creates NAME folder in PROJECT path and saves annotated images\n",
    "results = best_model.predict(paths[0:100], save = True, \n",
    "                             project=\"runs/detect\", name=\"inference\", exist_ok=True)"
   ]
  },
  {
   "cell_type": "code",
   "execution_count": null,
   "id": "e6f32048-98b6-4156-b943-757868043920",
   "metadata": {},
   "outputs": [
    {
     "name": "stdout",
     "output_type": "stream",
     "text": [
      "\n"
     ]
    }
   ],
   "source": [
    "for res in results:\n",
    "    for box in result.boxes:\n",
    "      class_id = result.names[box.cls[0].item()]\n",
    "      cords = box.xyxy[0].tolist()\n",
    "      cords = [round(x) for x in cords]\n",
    "      conf = round(box.conf[0].item(), 2)\n",
    "    \n",
    "      print(\"Object type:\", class_id)\n",
    "      print(\"Coordinates:\", cords)\n",
    "      print(\"Probability:\", conf)\n",
    "      print(\"---\")"
   ]
  },
  {
   "cell_type": "code",
   "execution_count": 12,
   "id": "ccee2a7c-891f-48a5-85d1-de34ecaf3bf4",
   "metadata": {},
   "outputs": [
    {
     "name": "stdout",
     "output_type": "stream",
     "text": [
      "Object type: car\n",
      "Coordinates: [229, 61, 260, 93]\n",
      "Probability: 0.82\n",
      "---\n",
      "Object type: car\n",
      "Coordinates: [156, 50, 184, 79]\n",
      "Probability: 0.74\n",
      "---\n",
      "Object type: car\n",
      "Coordinates: [193, 47, 215, 75]\n",
      "Probability: 0.57\n",
      "---\n",
      "Object type: car\n",
      "Coordinates: [225, 35, 246, 53]\n",
      "Probability: 0.36\n",
      "---\n",
      "Object type: car\n",
      "Coordinates: [215, 23, 236, 34]\n",
      "Probability: 0.35\n",
      "---\n",
      "Object type: car\n",
      "Coordinates: [171, 28, 189, 47]\n",
      "Probability: 0.29\n",
      "---\n",
      "Object type: car\n",
      "Coordinates: [112, 62, 142, 90]\n",
      "Probability: 0.28\n",
      "---\n",
      "Object type: car\n",
      "Coordinates: [196, 26, 214, 45]\n",
      "Probability: 0.25\n",
      "---\n"
     ]
    }
   ],
   "source": [
    "result = results[0]\n",
    "# len(result.boxes)\n",
    "\n",
    "box = result.boxes[0]\n",
    "\n",
    "for box in result.boxes:\n",
    "  class_id = result.names[box.cls[0].item()]\n",
    "  cords = box.xyxy[0].tolist()\n",
    "  cords = [round(x) for x in cords]\n",
    "  conf = round(box.conf[0].item(), 2)\n",
    "\n",
    "  print(\"Object type:\", class_id)\n",
    "  print(\"Coordinates:\", cords)\n",
    "  print(\"Probability:\", conf)\n",
    "  print(\"---\")"
   ]
  }
 ],
 "metadata": {
  "kernelspec": {
   "display_name": "Python 3 (ipykernel)",
   "language": "python",
   "name": "python3"
  },
  "language_info": {
   "codemirror_mode": {
    "name": "ipython",
    "version": 3
   },
   "file_extension": ".py",
   "mimetype": "text/x-python",
   "name": "python",
   "nbconvert_exporter": "python",
   "pygments_lexer": "ipython3",
   "version": "3.12.4"
  }
 },
 "nbformat": 4,
 "nbformat_minor": 5
}
