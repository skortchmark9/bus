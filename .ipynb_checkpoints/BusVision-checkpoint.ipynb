{
 "cells": [
  {
   "cell_type": "markdown",
   "id": "8a11324b-3a95-4b78-ac51-a97cf6f84e50",
   "metadata": {},
   "source": [
    "## Formatting for YOLO Training"
   ]
  },
  {
   "cell_type": "code",
   "execution_count": 9,
   "id": "85ae34c5-617a-40c2-b109-01897edff1f0",
   "metadata": {},
   "outputs": [],
   "source": [
    "import os\n",
    "import shutil\n",
    "import random\n",
    "import numpy as np\n",
    "import yaml"
   ]
  },
  {
   "cell_type": "code",
   "execution_count": 36,
   "id": "10baa910-54c3-4f16-a923-71efaf5d8e4f",
   "metadata": {},
   "outputs": [],
   "source": [
    "# pull images (+ labels) containing buses\n",
    "def pull_bus(camera):\n",
    "    # imported .txt labels from CVAT AI\n",
    "    labels = os.listdir(os.path.join(\"./data/annotations/\", camera, 'obj_Train_data'))\n",
    "    \n",
    "    for lbl in labels:\n",
    "        lbl_path = os.path.join(\"./data/annotations/\", camera, 'obj_Train_data', lbl)\n",
    "        \n",
    "        # check if .txt empty (aka no annotations/buses)\n",
    "        if os.path.getsize(lbl_path) != 0:\n",
    "\n",
    "            # get corresponding img\n",
    "            name, ext = os.path.splitext(lbl)\n",
    "            img = name + \".jpg\"\n",
    "            img_path = os.path.join(\"./data/camera_images/\", camera, img)\n",
    "\n",
    "            # copy corresponding img to all_bus_images_annotations images folder\n",
    "            move_path_img = os.path.join(\"./data/bus_images_annotations/\", \"all_bus_images_annotations\", \"images\", img)\n",
    "            shutil.copyfile(img_path, move_path_img)\n",
    "\n",
    "            # copy .txt annotation to all_bus_images_annotations annotations folder\n",
    "            move_path_lbl = os.path.join(\"./data/bus_images_annotations/\", \"all_bus_images_annotations\", \"labels\", lbl)\n",
    "            shutil.copyfile(lbl_path, move_path_lbl)\n",
    "\n",
    "            # rename to add camera to img, label file name\n",
    "            new_img_nm = camera + \"_\" + name + \".jpg\"\n",
    "            new_img_path = os.path.join(\"./data/bus_images_annotations/\", \"all_bus_images_annotations\", \"images\", new_img_nm)\n",
    "            os.rename(move_path_img, new_img_path)\n",
    "\n",
    "            new_lbl_nm = camera + \"_\" + name + \".txt\"\n",
    "            new_lbl_path = os.path.join(\"./data/bus_images_annotations/\", \"all_bus_images_annotations\", \"labels\", new_lbl_nm)\n",
    "            os.rename(move_path_lbl, new_lbl_path)"
   ]
  },
  {
   "cell_type": "raw",
   "id": "cfc96fbb-b95c-4d01-b960-408785b365d0",
   "metadata": {},
   "source": [
    "# EXAMPLE FILE STRUCTURE REQ FOR YOLO TRAINING\n",
    "\n",
    "|-- datasetA\n",
    "|   |-- images\n",
    "|       |-- test\n",
    "|       |-- train\n",
    "|   |-- labels\n",
    "|       |-- test\n",
    "|       |-- train\n"
   ]
  },
  {
   "cell_type": "code",
   "execution_count": 60,
   "id": "331b6a5a-6be9-426a-a881-8a64f44dc4dd",
   "metadata": {},
   "outputs": [],
   "source": [
    "test = [1, 2, 3, 4, 5, 6, 7, 8, 9, 10]\n",
    "\n",
    "train_split = 0.7\n",
    "\n",
    "valid_split = 0.2\n",
    "test_split = 0.1\n",
    "\n",
    "valid_ratio = valid_split/(test_split + valid_split)\n",
    "test_ratio = test_split/(test_split + valid_split)\n",
    "\n",
    "train_img, rest = np.array_split(test, [int(len(test)*train_split)])\n",
    "valid_img, test_img = np.array_split(rest, [int(len(rest)*valid_ratio)]) \n"
   ]
  },
  {
   "cell_type": "code",
   "execution_count": 61,
   "id": "6fdd1f5a-1d6d-4c6c-8d4d-b9c2baf6d224",
   "metadata": {},
   "outputs": [
    {
     "data": {
      "text/plain": [
       "array([1, 2, 3, 4, 5, 6, 7])"
      ]
     },
     "execution_count": 61,
     "metadata": {},
     "output_type": "execute_result"
    }
   ],
   "source": [
    "train_img"
   ]
  },
  {
   "cell_type": "code",
   "execution_count": 62,
   "id": "c7ad033d-cf43-498d-85ef-750ce1accc0f",
   "metadata": {},
   "outputs": [
    {
     "data": {
      "text/plain": [
       "array([ 8,  9, 10])"
      ]
     },
     "execution_count": 62,
     "metadata": {},
     "output_type": "execute_result"
    }
   ],
   "source": [
    "rest"
   ]
  },
  {
   "cell_type": "code",
   "execution_count": 63,
   "id": "2b100e86-d07e-4765-88d5-ceaf73c54d48",
   "metadata": {},
   "outputs": [
    {
     "data": {
      "text/plain": [
       "array([8, 9])"
      ]
     },
     "execution_count": 63,
     "metadata": {},
     "output_type": "execute_result"
    }
   ],
   "source": [
    "valid_img"
   ]
  },
  {
   "cell_type": "code",
   "execution_count": 64,
   "id": "0b0102a0-d8de-4edb-9473-7062883321e6",
   "metadata": {},
   "outputs": [
    {
     "data": {
      "text/plain": [
       "array([10])"
      ]
     },
     "execution_count": 64,
     "metadata": {},
     "output_type": "execute_result"
    }
   ],
   "source": [
    "test_img"
   ]
  },
  {
   "cell_type": "code",
   "execution_count": 74,
   "id": "372fd01b-a45e-4735-8473-9569269148c5",
   "metadata": {},
   "outputs": [],
   "source": [
    "# sort TRAIN v VALID v TEST\n",
    "def split_train_test_val(camera, train_split, test_split, valid_split):\n",
    "\n",
    "    # make sure adds up to 100%\n",
    "    if train_split + test_split + valid_split != 1.0:\n",
    "        sys.exit(1)\n",
    "\n",
    "    img_path = os.path.join(\"./data/bus_images_annotations/\", \"all_bus_images_annotations\", \"images\")\n",
    "    label_path = os.path.join(\"./data/bus_images_annotations/\", \"all_bus_images_annotations\", \"labels\")\n",
    "\n",
    "    # SHUFFLE\n",
    "    imgs = os.listdir(img_path)\n",
    "    random.seed(42) # set random seed\n",
    "    random.shuffle(imgs) # randomly rearrange \n",
    "\n",
    "    # split into TRAIN v VALID v TEST\n",
    "    valid_ratio = valid_split/(test_split + valid_split)\n",
    "    test_ratio = test_split/(test_split + valid_split)\n",
    "\n",
    "    train_img, rest = np.array_split(imgs, [int(len(imgs)*train_split)])\n",
    "    valid_img, test_img = np.array_split(rest, [int(len(rest)*valid_ratio)]) \n",
    "\n",
    "    # copy img + label to corresponding train/test folder\n",
    "    for img in train_img:   \n",
    "        name, ext = os.path.splitext(img)\n",
    "        lbl = name + \".txt\"\n",
    "\n",
    "        source_img_path = os.path.join(img_path, img)\n",
    "        source_lbl_path = os.path.join(label_path, lbl)\n",
    "        \n",
    "        train_img_path = os.path.join(\"./data/YOLO_bus/\", \"all_bus\", \"train\", \"images\", img)\n",
    "        train_lbl_path = os.path.join(\"./data/YOLO_bus/\", \"all_bus\", \"train\", \"labels\", lbl)\n",
    "\n",
    "        shutil.copyfile(source_img_path, train_img_path)\n",
    "        shutil.copyfile(source_lbl_path, train_lbl_path)\n",
    "\n",
    "    for img in valid_img:   \n",
    "        name, ext = os.path.splitext(img)\n",
    "        lbl = name + \".txt\"\n",
    "\n",
    "        source_img_path = os.path.join(img_path, img)\n",
    "        source_lbl_path = os.path.join(label_path, lbl)\n",
    "        \n",
    "        valid_img_path = os.path.join(\"./data/YOLO_bus/\", \"all_bus\", \"val\", \"images\", img)\n",
    "        valid_lbl_path = os.path.join(\"./data/YOLO_bus/\", \"all_bus\", \"val\", \"labels\", lbl)\n",
    "\n",
    "        shutil.copyfile(source_img_path, valid_img_path)\n",
    "        shutil.copyfile(source_lbl_path, valid_lbl_path)\n",
    "\n",
    "    for img in test_img:   \n",
    "        name, ext = os.path.splitext(img)\n",
    "        lbl = name + \".txt\"\n",
    "\n",
    "        source_img_path = os.path.join(img_path, img)\n",
    "        source_lbl_path = os.path.join(label_path, lbl)\n",
    "        \n",
    "        test_img_path = os.path.join(\"./data/YOLO_bus/\", \"all_bus\", \"test\", \"images\", img)\n",
    "        test_lbl_path = os.path.join(\"./data/YOLO_bus/\", \"all_bus\", \"test\", \"labels\", lbl)\n",
    "\n",
    "        shutil.copyfile(source_img_path, test_img_path)\n",
    "        shutil.copyfile(source_lbl_path, test_lbl_path)\n",
    "\n",
    "    # check\n",
    "    train_len  = len(os.listdir(os.path.join(\"./data/YOLO_bus/\", \"all_bus\", \"train\", \"images\")))\n",
    "    val_len  = len(os.listdir(os.path.join(\"./data/YOLO_bus/\", \"all_bus\", \"val\", \"images\")))\n",
    "    test_len  = len(os.listdir(os.path.join(\"./data/YOLO_bus/\", \"all_bus\", \"test\", \"images\")))\n",
    "    tot = train_len + val_len + test_len\n",
    "    print(\"Train % = \", train_len/tot)\n",
    "    print(\"Val % = \", val_len/tot)\n",
    "    print(\"Test % = \", test_len/tot)"
   ]
  },
  {
   "cell_type": "code",
   "execution_count": 72,
   "id": "ab60ee09-2441-4fc9-bfd6-973d20f9c14c",
   "metadata": {},
   "outputs": [],
   "source": [
    "def make_yaml():\n",
    "\n",
    "    root = \"C:/Users/allis/ML_Civ_Eng/bus_git/bus/data/YOLO_bus/\"\n",
    "    train_path = os.path.join(root, \"train\", \"images\")\n",
    "    val_path = os.path.join(root, \"val\", \"images\")\n",
    "    test_path = os.path.join(root, \"test\", \"images\")\n",
    "    \n",
    "    data = {\n",
    "    'train': train_path, # training set images\n",
    "    'val': val_path, # validating set images\n",
    "    'test': test_path, # testing set images\n",
    "    'nc': 1,\n",
    "    'names' : [\"bus\"] \n",
    "    }\n",
    "\n",
    "    # Writing the data to a YAML file\n",
    "    yaml_name = \"all_bus.yaml\"\n",
    "    yaml_path = os.path.join(\"./data/YOLO_yaml/\", yaml_name)\n",
    "    \n",
    "    with open(yaml_path, 'w') as file:\n",
    "        yaml.dump(data, file)"
   ]
  },
  {
   "cell_type": "code",
   "execution_count": 22,
   "id": "73c927e6-6b59-40c5-9e9a-51bf93b28622",
   "metadata": {},
   "outputs": [],
   "source": [
    "cameras_42 = [\n",
    "    \"8f692f55-8118-423b-8bcb-1ea49eaf442b\",\n",
    "    \"1546f761-039c-4b5c-af5e-75c83c9f603f\",\n",
    "    \"F0e5c9aa-7700-4918-834f-c106189bde4b\",\n",
    "    \"83bf2591-579d-415b-a0d4-fe39868b46d1\"\n",
    "]"
   ]
  },
  {
   "cell_type": "code",
   "execution_count": 38,
   "id": "2b5bbe0b-c123-400a-b0eb-ff23fad794ac",
   "metadata": {},
   "outputs": [
    {
     "name": "stdout",
     "output_type": "stream",
     "text": [
      "8f692f55-8118-423b-8bcb-1ea49eaf442b : DONE\n",
      "1546f761-039c-4b5c-af5e-75c83c9f603f : DONE\n",
      "F0e5c9aa-7700-4918-834f-c106189bde4b : DONE\n",
      "83bf2591-579d-415b-a0d4-fe39868b46d1 : DONE\n"
     ]
    }
   ],
   "source": [
    "# pull bus images/annotations\n",
    "for camera in cameras_42:\n",
    "    pull_bus(camera)\n",
    "    print(camera, \": DONE\")"
   ]
  },
  {
   "cell_type": "code",
   "execution_count": 75,
   "id": "084c784c-dd30-4aa1-977e-30719042add5",
   "metadata": {},
   "outputs": [
    {
     "name": "stdout",
     "output_type": "stream",
     "text": [
      "Train % =  0.6998540145985401\n",
      "Val % =  0.15007299270072993\n",
      "Test % =  0.15007299270072993\n"
     ]
    }
   ],
   "source": [
    "# split into TRAINING/TESTING/VALIDATION sets\n",
    "split_train_test_val(camera, train_split = 0.7, test_split = 0.15, valid_split = 0.15)"
   ]
  },
  {
   "cell_type": "code",
   "execution_count": 73,
   "id": "7ef7dd9c-0122-4dff-a9d4-6d1547b6d11b",
   "metadata": {},
   "outputs": [],
   "source": [
    "# make YAML files for YOLO training\n",
    "make_yaml()"
   ]
  },
  {
   "cell_type": "markdown",
   "id": "fd21b982-3225-4c05-aaa4-51efada7e858",
   "metadata": {
    "jp-MarkdownHeadingCollapsed": true
   },
   "source": [
    "## Training YOLO"
   ]
  },
  {
   "cell_type": "code",
   "execution_count": 2,
   "id": "e897f6f9-12d4-4a62-b918-4cd48bcce512",
   "metadata": {},
   "outputs": [],
   "source": [
    "from ultralytics import YOLO"
   ]
  },
  {
   "cell_type": "code",
   "execution_count": 21,
   "id": "4522e644-bc60-4932-87f4-5b7c23844b73",
   "metadata": {},
   "outputs": [],
   "source": [
    "# init YOLO model\n",
    "models = []\n",
    "\n",
    "for nm in model_nms:\n",
    "    models.append(YOLO(\"yolov8m.pt\"))"
   ]
  },
  {
   "cell_type": "code",
   "execution_count": 3,
   "id": "676c8018-44a6-4714-bc2a-1e2945016271",
   "metadata": {},
   "outputs": [],
   "source": [
    "yamls = os.listdir(\"./data/YOLO_yaml/\")"
   ]
  },
  {
   "cell_type": "code",
   "execution_count": 23,
   "id": "56339e75-745d-4f68-8c56-2686adb9d44a",
   "metadata": {},
   "outputs": [
    {
     "name": "stdout",
     "output_type": "stream",
     "text": [
      "./data/YOLO_yaml\\1546f761-039c-4b5c-af5e-75c83c9f603f.yaml\n",
      "./data/YOLO_yaml\\83bf2591-579d-415b-a0d4-fe39868b46d1.yaml\n",
      "./data/YOLO_yaml\\8f692f55-8118-423b-8bcb-1ea49eaf442b.yaml\n",
      "./data/YOLO_yaml\\F0e5c9aa-7700-4918-834f-c106189bde4b.yaml\n"
     ]
    }
   ],
   "source": [
    "if not len(models) == len(yamls):\n",
    "    print(\"# of Models != # of YAMLs\")\n",
    "    sys.exit()\n",
    "    \n",
    "for n in range(len(models)):\n",
    "    yaml = os.path.join(\"./data/YOLO_yaml\", yamls[n])\n",
    "    models[n].train(data = yaml, epochs = 1)"
   ]
  },
  {
   "cell_type": "code",
   "execution_count": 5,
   "id": "91dc04d9-8a8e-4b6e-a4ec-45b56d742cb1",
   "metadata": {},
   "outputs": [],
   "source": [
    "# testing\n",
    "model = YOLO(\"yolov8m.pt\")\n",
    "yaml = os.path.join(\"./data/YOLO_yaml\", yamls[0])"
   ]
  },
  {
   "cell_type": "code",
   "execution_count": 6,
   "id": "4717c019-c2ca-4ec6-8f86-b3af390fff73",
   "metadata": {},
   "outputs": [
    {
     "name": "stdout",
     "output_type": "stream",
     "text": [
      "New https://pypi.org/project/ultralytics/8.3.112 available  Update with 'pip install -U ultralytics'\n",
      "Ultralytics 8.3.107  Python-3.12.4 torch-2.6.0+cpu CPU (13th Gen Intel Core(TM) i9-13900H)\n",
      "\u001b[34m\u001b[1mengine\\trainer: \u001b[0mtask=detect, mode=train, model=yolov8m.pt, data=./data/YOLO_yaml\\1546f761-039c-4b5c-af5e-75c83c9f603f.yaml, epochs=2, time=None, patience=100, batch=16, imgsz=640, save=True, save_period=-1, cache=False, device=None, workers=8, project=None, name=train, exist_ok=False, pretrained=True, optimizer=auto, verbose=True, seed=0, deterministic=True, single_cls=False, rect=False, cos_lr=False, close_mosaic=10, resume=False, amp=True, fraction=1.0, profile=False, freeze=None, multi_scale=False, overlap_mask=True, mask_ratio=4, dropout=0.0, val=True, split=val, save_json=False, conf=None, iou=0.7, max_det=300, half=False, dnn=False, plots=True, source=None, vid_stride=1, stream_buffer=False, visualize=False, augment=False, agnostic_nms=False, classes=None, retina_masks=False, embed=None, show=False, save_frames=False, save_txt=False, save_conf=False, save_crop=False, show_labels=True, show_conf=True, show_boxes=True, line_width=None, format=torchscript, keras=False, optimize=False, int8=False, dynamic=False, simplify=True, opset=None, workspace=None, nms=False, lr0=0.01, lrf=0.01, momentum=0.937, weight_decay=0.0005, warmup_epochs=3.0, warmup_momentum=0.8, warmup_bias_lr=0.1, box=7.5, cls=0.5, dfl=1.5, pose=12.0, kobj=1.0, nbs=64, hsv_h=0.015, hsv_s=0.7, hsv_v=0.4, degrees=0.0, translate=0.1, scale=0.5, shear=0.0, perspective=0.0, flipud=0.0, fliplr=0.5, bgr=0.0, mosaic=1.0, mixup=0.0, copy_paste=0.0, copy_paste_mode=flip, auto_augment=randaugment, erasing=0.4, crop_fraction=1.0, cfg=None, tracker=botsort.yaml, save_dir=runs\\detect\\train\n",
      "Overriding model.yaml nc=80 with nc=1\n",
      "\n",
      "                   from  n    params  module                                       arguments                     \n",
      "  0                  -1  1      1392  ultralytics.nn.modules.conv.Conv             [3, 48, 3, 2]                 \n",
      "  1                  -1  1     41664  ultralytics.nn.modules.conv.Conv             [48, 96, 3, 2]                \n",
      "  2                  -1  2    111360  ultralytics.nn.modules.block.C2f             [96, 96, 2, True]             \n",
      "  3                  -1  1    166272  ultralytics.nn.modules.conv.Conv             [96, 192, 3, 2]               \n",
      "  4                  -1  4    813312  ultralytics.nn.modules.block.C2f             [192, 192, 4, True]           \n",
      "  5                  -1  1    664320  ultralytics.nn.modules.conv.Conv             [192, 384, 3, 2]              \n",
      "  6                  -1  4   3248640  ultralytics.nn.modules.block.C2f             [384, 384, 4, True]           \n",
      "  7                  -1  1   1991808  ultralytics.nn.modules.conv.Conv             [384, 576, 3, 2]              \n",
      "  8                  -1  2   3985920  ultralytics.nn.modules.block.C2f             [576, 576, 2, True]           \n",
      "  9                  -1  1    831168  ultralytics.nn.modules.block.SPPF            [576, 576, 5]                 \n",
      " 10                  -1  1         0  torch.nn.modules.upsampling.Upsample         [None, 2, 'nearest']          \n",
      " 11             [-1, 6]  1         0  ultralytics.nn.modules.conv.Concat           [1]                           \n",
      " 12                  -1  2   1993728  ultralytics.nn.modules.block.C2f             [960, 384, 2]                 \n",
      " 13                  -1  1         0  torch.nn.modules.upsampling.Upsample         [None, 2, 'nearest']          \n",
      " 14             [-1, 4]  1         0  ultralytics.nn.modules.conv.Concat           [1]                           \n",
      " 15                  -1  2    517632  ultralytics.nn.modules.block.C2f             [576, 192, 2]                 \n",
      " 16                  -1  1    332160  ultralytics.nn.modules.conv.Conv             [192, 192, 3, 2]              \n",
      " 17            [-1, 12]  1         0  ultralytics.nn.modules.conv.Concat           [1]                           \n",
      " 18                  -1  2   1846272  ultralytics.nn.modules.block.C2f             [576, 384, 2]                 \n",
      " 19                  -1  1   1327872  ultralytics.nn.modules.conv.Conv             [384, 384, 3, 2]              \n",
      " 20             [-1, 9]  1         0  ultralytics.nn.modules.conv.Concat           [1]                           \n",
      " 21                  -1  2   4207104  ultralytics.nn.modules.block.C2f             [960, 576, 2]                 \n",
      " 22        [15, 18, 21]  1   3776275  ultralytics.nn.modules.head.Detect           [1, [192, 384, 576]]          \n",
      "Model summary: 169 layers, 25,856,899 parameters, 25,856,883 gradients, 79.1 GFLOPs\n",
      "\n",
      "Transferred 469/475 items from pretrained weights\n",
      "Freezing layer 'model.22.dfl.conv.weight'\n"
     ]
    },
    {
     "name": "stderr",
     "output_type": "stream",
     "text": [
      "\u001b[34m\u001b[1mtrain: \u001b[0mScanning C:\\Users\\allis\\ML_Civ_Eng\\bus_git\\bus\\data\\YOLO_bus\\1546f761-039c-4b5c-af5e-75c83c9f603f\\train\\labels.c\u001b[0m\n",
      "\u001b[34m\u001b[1mval: \u001b[0mScanning C:\\Users\\allis\\ML_Civ_Eng\\bus_git\\bus\\data\\YOLO_bus\\1546f761-039c-4b5c-af5e-75c83c9f603f\\test\\labels.cach\u001b[0m\n"
     ]
    },
    {
     "name": "stdout",
     "output_type": "stream",
     "text": [
      "Plotting labels to runs\\detect\\train\\labels.jpg... \n",
      "\u001b[34m\u001b[1moptimizer:\u001b[0m 'optimizer=auto' found, ignoring 'lr0=0.01' and 'momentum=0.937' and determining best 'optimizer', 'lr0' and 'momentum' automatically... \n",
      "\u001b[34m\u001b[1moptimizer:\u001b[0m AdamW(lr=0.002, momentum=0.9) with parameter groups 77 weight(decay=0.0), 84 weight(decay=0.0005), 83 bias(decay=0.0)\n",
      "Image sizes 640 train, 640 val\n",
      "Using 0 dataloader workers\n",
      "Logging results to \u001b[1mruns\\detect\\train\u001b[0m\n",
      "Starting training for 2 epochs...\n",
      "\n",
      "      Epoch    GPU_mem   box_loss   cls_loss   dfl_loss  Instances       Size\n"
     ]
    },
    {
     "name": "stderr",
     "output_type": "stream",
     "text": [
      "        1/2         0G      1.172      2.265      1.331         16        640: 100%|██████████| 14/14 [11:31<00:00, 49.\n",
      "                 Class     Images  Instances      Box(P          R      mAP50  mAP50-95): 100%|██████████| 3/3 [01:07<0"
     ]
    },
    {
     "name": "stdout",
     "output_type": "stream",
     "text": [
      "                   all         94         96      0.793      0.599      0.717      0.492\n"
     ]
    },
    {
     "name": "stderr",
     "output_type": "stream",
     "text": [
      "\n"
     ]
    },
    {
     "name": "stdout",
     "output_type": "stream",
     "text": [
      "\n",
      "      Epoch    GPU_mem   box_loss   cls_loss   dfl_loss  Instances       Size\n"
     ]
    },
    {
     "name": "stderr",
     "output_type": "stream",
     "text": [
      "        2/2         0G     0.8665      1.102      1.122         17        640: 100%|██████████| 14/14 [10:11<00:00, 43.\n",
      "                 Class     Images  Instances      Box(P          R      mAP50  mAP50-95): 100%|██████████| 3/3 [01:05<0"
     ]
    },
    {
     "name": "stdout",
     "output_type": "stream",
     "text": [
      "                   all         94         96      0.746      0.833      0.799      0.611\n"
     ]
    },
    {
     "name": "stderr",
     "output_type": "stream",
     "text": [
      "\n"
     ]
    },
    {
     "name": "stdout",
     "output_type": "stream",
     "text": [
      "\n",
      "2 epochs completed in 0.401 hours.\n",
      "Optimizer stripped from runs\\detect\\train\\weights\\last.pt, 52.0MB\n",
      "Optimizer stripped from runs\\detect\\train\\weights\\best.pt, 52.0MB\n",
      "\n",
      "Validating runs\\detect\\train\\weights\\best.pt...\n",
      "Ultralytics 8.3.107  Python-3.12.4 torch-2.6.0+cpu CPU (13th Gen Intel Core(TM) i9-13900H)\n",
      "Model summary (fused): 92 layers, 25,840,339 parameters, 0 gradients, 78.7 GFLOPs\n"
     ]
    },
    {
     "name": "stderr",
     "output_type": "stream",
     "text": [
      "                 Class     Images  Instances      Box(P          R      mAP50  mAP50-95): 100%|██████████| 3/3 [01:00<0\n"
     ]
    },
    {
     "name": "stdout",
     "output_type": "stream",
     "text": [
      "                   all         94         96      0.747      0.833      0.799      0.611\n",
      "Speed: 5.1ms preprocess, 621.0ms inference, 0.0ms loss, 1.9ms postprocess per image\n",
      "Results saved to \u001b[1mruns\\detect\\train\u001b[0m\n"
     ]
    },
    {
     "data": {
      "text/plain": [
       "ultralytics.utils.metrics.DetMetrics object with attributes:\n",
       "\n",
       "ap_class_index: array([0])\n",
       "box: ultralytics.utils.metrics.Metric object\n",
       "confusion_matrix: <ultralytics.utils.metrics.ConfusionMatrix object at 0x00000216318B36B0>\n",
       "curves: ['Precision-Recall(B)', 'F1-Confidence(B)', 'Precision-Confidence(B)', 'Recall-Confidence(B)']\n",
       "curves_results: [[array([          0,    0.001001,    0.002002,    0.003003,    0.004004,    0.005005,    0.006006,    0.007007,    0.008008,    0.009009,     0.01001,    0.011011,    0.012012,    0.013013,    0.014014,    0.015015,    0.016016,    0.017017,    0.018018,    0.019019,     0.02002,    0.021021,    0.022022,    0.023023,\n",
       "          0.024024,    0.025025,    0.026026,    0.027027,    0.028028,    0.029029,     0.03003,    0.031031,    0.032032,    0.033033,    0.034034,    0.035035,    0.036036,    0.037037,    0.038038,    0.039039,     0.04004,    0.041041,    0.042042,    0.043043,    0.044044,    0.045045,    0.046046,    0.047047,\n",
       "          0.048048,    0.049049,     0.05005,    0.051051,    0.052052,    0.053053,    0.054054,    0.055055,    0.056056,    0.057057,    0.058058,    0.059059,     0.06006,    0.061061,    0.062062,    0.063063,    0.064064,    0.065065,    0.066066,    0.067067,    0.068068,    0.069069,     0.07007,    0.071071,\n",
       "          0.072072,    0.073073,    0.074074,    0.075075,    0.076076,    0.077077,    0.078078,    0.079079,     0.08008,    0.081081,    0.082082,    0.083083,    0.084084,    0.085085,    0.086086,    0.087087,    0.088088,    0.089089,     0.09009,    0.091091,    0.092092,    0.093093,    0.094094,    0.095095,\n",
       "          0.096096,    0.097097,    0.098098,    0.099099,      0.1001,      0.1011,      0.1021,      0.1031,      0.1041,     0.10511,     0.10611,     0.10711,     0.10811,     0.10911,     0.11011,     0.11111,     0.11211,     0.11311,     0.11411,     0.11512,     0.11612,     0.11712,     0.11812,     0.11912,\n",
       "           0.12012,     0.12112,     0.12212,     0.12312,     0.12412,     0.12513,     0.12613,     0.12713,     0.12813,     0.12913,     0.13013,     0.13113,     0.13213,     0.13313,     0.13413,     0.13514,     0.13614,     0.13714,     0.13814,     0.13914,     0.14014,     0.14114,     0.14214,     0.14314,\n",
       "           0.14414,     0.14515,     0.14615,     0.14715,     0.14815,     0.14915,     0.15015,     0.15115,     0.15215,     0.15315,     0.15415,     0.15516,     0.15616,     0.15716,     0.15816,     0.15916,     0.16016,     0.16116,     0.16216,     0.16316,     0.16416,     0.16517,     0.16617,     0.16717,\n",
       "           0.16817,     0.16917,     0.17017,     0.17117,     0.17217,     0.17317,     0.17417,     0.17518,     0.17618,     0.17718,     0.17818,     0.17918,     0.18018,     0.18118,     0.18218,     0.18318,     0.18418,     0.18519,     0.18619,     0.18719,     0.18819,     0.18919,     0.19019,     0.19119,\n",
       "           0.19219,     0.19319,     0.19419,      0.1952,      0.1962,      0.1972,      0.1982,      0.1992,      0.2002,      0.2012,      0.2022,      0.2032,      0.2042,     0.20521,     0.20621,     0.20721,     0.20821,     0.20921,     0.21021,     0.21121,     0.21221,     0.21321,     0.21421,     0.21522,\n",
       "           0.21622,     0.21722,     0.21822,     0.21922,     0.22022,     0.22122,     0.22222,     0.22322,     0.22422,     0.22523,     0.22623,     0.22723,     0.22823,     0.22923,     0.23023,     0.23123,     0.23223,     0.23323,     0.23423,     0.23524,     0.23624,     0.23724,     0.23824,     0.23924,\n",
       "           0.24024,     0.24124,     0.24224,     0.24324,     0.24424,     0.24525,     0.24625,     0.24725,     0.24825,     0.24925,     0.25025,     0.25125,     0.25225,     0.25325,     0.25425,     0.25526,     0.25626,     0.25726,     0.25826,     0.25926,     0.26026,     0.26126,     0.26226,     0.26326,\n",
       "           0.26426,     0.26527,     0.26627,     0.26727,     0.26827,     0.26927,     0.27027,     0.27127,     0.27227,     0.27327,     0.27427,     0.27528,     0.27628,     0.27728,     0.27828,     0.27928,     0.28028,     0.28128,     0.28228,     0.28328,     0.28428,     0.28529,     0.28629,     0.28729,\n",
       "           0.28829,     0.28929,     0.29029,     0.29129,     0.29229,     0.29329,     0.29429,      0.2953,      0.2963,      0.2973,      0.2983,      0.2993,      0.3003,      0.3013,      0.3023,      0.3033,      0.3043,     0.30531,     0.30631,     0.30731,     0.30831,     0.30931,     0.31031,     0.31131,\n",
       "           0.31231,     0.31331,     0.31431,     0.31532,     0.31632,     0.31732,     0.31832,     0.31932,     0.32032,     0.32132,     0.32232,     0.32332,     0.32432,     0.32533,     0.32633,     0.32733,     0.32833,     0.32933,     0.33033,     0.33133,     0.33233,     0.33333,     0.33433,     0.33534,\n",
       "           0.33634,     0.33734,     0.33834,     0.33934,     0.34034,     0.34134,     0.34234,     0.34334,     0.34434,     0.34535,     0.34635,     0.34735,     0.34835,     0.34935,     0.35035,     0.35135,     0.35235,     0.35335,     0.35435,     0.35536,     0.35636,     0.35736,     0.35836,     0.35936,\n",
       "           0.36036,     0.36136,     0.36236,     0.36336,     0.36436,     0.36537,     0.36637,     0.36737,     0.36837,     0.36937,     0.37037,     0.37137,     0.37237,     0.37337,     0.37437,     0.37538,     0.37638,     0.37738,     0.37838,     0.37938,     0.38038,     0.38138,     0.38238,     0.38338,\n",
       "           0.38438,     0.38539,     0.38639,     0.38739,     0.38839,     0.38939,     0.39039,     0.39139,     0.39239,     0.39339,     0.39439,      0.3954,      0.3964,      0.3974,      0.3984,      0.3994,      0.4004,      0.4014,      0.4024,      0.4034,      0.4044,     0.40541,     0.40641,     0.40741,\n",
       "           0.40841,     0.40941,     0.41041,     0.41141,     0.41241,     0.41341,     0.41441,     0.41542,     0.41642,     0.41742,     0.41842,     0.41942,     0.42042,     0.42142,     0.42242,     0.42342,     0.42442,     0.42543,     0.42643,     0.42743,     0.42843,     0.42943,     0.43043,     0.43143,\n",
       "           0.43243,     0.43343,     0.43443,     0.43544,     0.43644,     0.43744,     0.43844,     0.43944,     0.44044,     0.44144,     0.44244,     0.44344,     0.44444,     0.44545,     0.44645,     0.44745,     0.44845,     0.44945,     0.45045,     0.45145,     0.45245,     0.45345,     0.45445,     0.45546,\n",
       "           0.45646,     0.45746,     0.45846,     0.45946,     0.46046,     0.46146,     0.46246,     0.46346,     0.46446,     0.46547,     0.46647,     0.46747,     0.46847,     0.46947,     0.47047,     0.47147,     0.47247,     0.47347,     0.47447,     0.47548,     0.47648,     0.47748,     0.47848,     0.47948,\n",
       "           0.48048,     0.48148,     0.48248,     0.48348,     0.48448,     0.48549,     0.48649,     0.48749,     0.48849,     0.48949,     0.49049,     0.49149,     0.49249,     0.49349,     0.49449,      0.4955,      0.4965,      0.4975,      0.4985,      0.4995,      0.5005,      0.5015,      0.5025,      0.5035,\n",
       "            0.5045,     0.50551,     0.50651,     0.50751,     0.50851,     0.50951,     0.51051,     0.51151,     0.51251,     0.51351,     0.51451,     0.51552,     0.51652,     0.51752,     0.51852,     0.51952,     0.52052,     0.52152,     0.52252,     0.52352,     0.52452,     0.52553,     0.52653,     0.52753,\n",
       "           0.52853,     0.52953,     0.53053,     0.53153,     0.53253,     0.53353,     0.53453,     0.53554,     0.53654,     0.53754,     0.53854,     0.53954,     0.54054,     0.54154,     0.54254,     0.54354,     0.54454,     0.54555,     0.54655,     0.54755,     0.54855,     0.54955,     0.55055,     0.55155,\n",
       "           0.55255,     0.55355,     0.55455,     0.55556,     0.55656,     0.55756,     0.55856,     0.55956,     0.56056,     0.56156,     0.56256,     0.56356,     0.56456,     0.56557,     0.56657,     0.56757,     0.56857,     0.56957,     0.57057,     0.57157,     0.57257,     0.57357,     0.57457,     0.57558,\n",
       "           0.57658,     0.57758,     0.57858,     0.57958,     0.58058,     0.58158,     0.58258,     0.58358,     0.58458,     0.58559,     0.58659,     0.58759,     0.58859,     0.58959,     0.59059,     0.59159,     0.59259,     0.59359,     0.59459,      0.5956,      0.5966,      0.5976,      0.5986,      0.5996,\n",
       "            0.6006,      0.6016,      0.6026,      0.6036,      0.6046,     0.60561,     0.60661,     0.60761,     0.60861,     0.60961,     0.61061,     0.61161,     0.61261,     0.61361,     0.61461,     0.61562,     0.61662,     0.61762,     0.61862,     0.61962,     0.62062,     0.62162,     0.62262,     0.62362,\n",
       "           0.62462,     0.62563,     0.62663,     0.62763,     0.62863,     0.62963,     0.63063,     0.63163,     0.63263,     0.63363,     0.63463,     0.63564,     0.63664,     0.63764,     0.63864,     0.63964,     0.64064,     0.64164,     0.64264,     0.64364,     0.64464,     0.64565,     0.64665,     0.64765,\n",
       "           0.64865,     0.64965,     0.65065,     0.65165,     0.65265,     0.65365,     0.65465,     0.65566,     0.65666,     0.65766,     0.65866,     0.65966,     0.66066,     0.66166,     0.66266,     0.66366,     0.66466,     0.66567,     0.66667,     0.66767,     0.66867,     0.66967,     0.67067,     0.67167,\n",
       "           0.67267,     0.67367,     0.67467,     0.67568,     0.67668,     0.67768,     0.67868,     0.67968,     0.68068,     0.68168,     0.68268,     0.68368,     0.68468,     0.68569,     0.68669,     0.68769,     0.68869,     0.68969,     0.69069,     0.69169,     0.69269,     0.69369,     0.69469,      0.6957,\n",
       "            0.6967,      0.6977,      0.6987,      0.6997,      0.7007,      0.7017,      0.7027,      0.7037,      0.7047,     0.70571,     0.70671,     0.70771,     0.70871,     0.70971,     0.71071,     0.71171,     0.71271,     0.71371,     0.71471,     0.71572,     0.71672,     0.71772,     0.71872,     0.71972,\n",
       "           0.72072,     0.72172,     0.72272,     0.72372,     0.72472,     0.72573,     0.72673,     0.72773,     0.72873,     0.72973,     0.73073,     0.73173,     0.73273,     0.73373,     0.73473,     0.73574,     0.73674,     0.73774,     0.73874,     0.73974,     0.74074,     0.74174,     0.74274,     0.74374,\n",
       "           0.74474,     0.74575,     0.74675,     0.74775,     0.74875,     0.74975,     0.75075,     0.75175,     0.75275,     0.75375,     0.75475,     0.75576,     0.75676,     0.75776,     0.75876,     0.75976,     0.76076,     0.76176,     0.76276,     0.76376,     0.76476,     0.76577,     0.76677,     0.76777,\n",
       "           0.76877,     0.76977,     0.77077,     0.77177,     0.77277,     0.77377,     0.77477,     0.77578,     0.77678,     0.77778,     0.77878,     0.77978,     0.78078,     0.78178,     0.78278,     0.78378,     0.78478,     0.78579,     0.78679,     0.78779,     0.78879,     0.78979,     0.79079,     0.79179,\n",
       "           0.79279,     0.79379,     0.79479,      0.7958,      0.7968,      0.7978,      0.7988,      0.7998,      0.8008,      0.8018,      0.8028,      0.8038,      0.8048,     0.80581,     0.80681,     0.80781,     0.80881,     0.80981,     0.81081,     0.81181,     0.81281,     0.81381,     0.81481,     0.81582,\n",
       "           0.81682,     0.81782,     0.81882,     0.81982,     0.82082,     0.82182,     0.82282,     0.82382,     0.82482,     0.82583,     0.82683,     0.82783,     0.82883,     0.82983,     0.83083,     0.83183,     0.83283,     0.83383,     0.83483,     0.83584,     0.83684,     0.83784,     0.83884,     0.83984,\n",
       "           0.84084,     0.84184,     0.84284,     0.84384,     0.84484,     0.84585,     0.84685,     0.84785,     0.84885,     0.84985,     0.85085,     0.85185,     0.85285,     0.85385,     0.85485,     0.85586,     0.85686,     0.85786,     0.85886,     0.85986,     0.86086,     0.86186,     0.86286,     0.86386,\n",
       "           0.86486,     0.86587,     0.86687,     0.86787,     0.86887,     0.86987,     0.87087,     0.87187,     0.87287,     0.87387,     0.87487,     0.87588,     0.87688,     0.87788,     0.87888,     0.87988,     0.88088,     0.88188,     0.88288,     0.88388,     0.88488,     0.88589,     0.88689,     0.88789,\n",
       "           0.88889,     0.88989,     0.89089,     0.89189,     0.89289,     0.89389,     0.89489,      0.8959,      0.8969,      0.8979,      0.8989,      0.8999,      0.9009,      0.9019,      0.9029,      0.9039,      0.9049,     0.90591,     0.90691,     0.90791,     0.90891,     0.90991,     0.91091,     0.91191,\n",
       "           0.91291,     0.91391,     0.91491,     0.91592,     0.91692,     0.91792,     0.91892,     0.91992,     0.92092,     0.92192,     0.92292,     0.92392,     0.92492,     0.92593,     0.92693,     0.92793,     0.92893,     0.92993,     0.93093,     0.93193,     0.93293,     0.93393,     0.93493,     0.93594,\n",
       "           0.93694,     0.93794,     0.93894,     0.93994,     0.94094,     0.94194,     0.94294,     0.94394,     0.94494,     0.94595,     0.94695,     0.94795,     0.94895,     0.94995,     0.95095,     0.95195,     0.95295,     0.95395,     0.95495,     0.95596,     0.95696,     0.95796,     0.95896,     0.95996,\n",
       "           0.96096,     0.96196,     0.96296,     0.96396,     0.96496,     0.96597,     0.96697,     0.96797,     0.96897,     0.96997,     0.97097,     0.97197,     0.97297,     0.97397,     0.97497,     0.97598,     0.97698,     0.97798,     0.97898,     0.97998,     0.98098,     0.98198,     0.98298,     0.98398,\n",
       "           0.98498,     0.98599,     0.98699,     0.98799,     0.98899,     0.98999,     0.99099,     0.99199,     0.99299,     0.99399,     0.99499,       0.996,       0.997,       0.998,       0.999,           1]), array([[          1,           1,           1,           1,           1,           1,           1,           1,           1,           1,           1,           1,           1,           1,           1,           1,           1,           1,           1,           1,           1,           1,           1,\n",
       "                  1,           1,           1,           1,           1,           1,           1,           1,           1,           1,           1,           1,           1,           1,           1,           1,           1,           1,           1,           1,           1,           1,           1,\n",
       "                  1,           1,           1,           1,           1,           1,           1,           1,           1,           1,           1,           1,           1,           1,           1,           1,           1,           1,           1,           1,           1,           1,           1,\n",
       "                  1,           1,           1,           1,           1,           1,           1,           1,           1,           1,           1,           1,           1,           1,           1,           1,           1,           1,           1,           1,           1,           1,           1,\n",
       "                  1,           1,           1,           1,           1,           1,           1,           1,           1,           1,           1,           1,           1,           1,           1,           1,           1,           1,           1,           1,           1,           1,           1,\n",
       "                  1,           1,           1,           1,           1,           1,           1,           1,           1,           1,           1,           1,           1,           1,           1,           1,           1,           1,           1,           1,           1,           1,           1,\n",
       "                  1,           1,           1,           1,           1,           1,           1,           1,           1,           1,           1,           1,           1,           1,           1,           1,           1,           1,           1,           1,           1,           1,           1,\n",
       "                  1,           1,           1,           1,           1,           1,           1,           1,           1,           1,           1,           1,           1,           1,           1,           1,           1,           1,           1,           1,           1,           1,           1,\n",
       "                  1,           1,           1,           1,           1,           1,           1,           1,           1,           1,           1,           1,           1,           1,           1,           1,           1,           1,           1,           1,           1,           1,           1,\n",
       "                  1,           1,     0.96429,     0.96429,     0.96429,     0.96429,     0.96429,     0.96429,     0.96429,     0.96429,     0.96429,     0.96429,     0.96429,     0.96429,     0.96429,     0.96429,     0.96429,     0.96429,     0.96429,     0.96429,     0.96429,     0.96429,     0.96429,\n",
       "            0.96429,     0.96429,     0.96429,     0.96429,     0.96429,     0.96429,     0.96429,     0.96429,     0.96429,     0.96429,     0.96429,     0.96429,     0.96429,     0.96429,     0.96429,     0.96429,     0.96429,     0.96429,     0.96429,     0.96429,     0.96429,     0.96429,     0.96429,\n",
       "            0.96429,     0.96429,     0.96429,     0.96429,     0.96429,     0.96429,     0.96429,     0.96429,     0.96429,     0.96429,     0.96429,     0.96429,     0.96429,     0.96429,     0.96429,     0.96429,     0.96429,     0.96429,     0.96429,     0.96429,     0.96429,     0.96429,     0.96429,\n",
       "            0.96429,     0.96429,     0.96429,     0.96429,     0.96429,     0.93548,     0.93548,     0.93548,     0.93548,     0.93548,     0.93548,     0.93548,     0.93548,     0.93548,     0.93548,     0.93548,     0.93548,     0.93548,     0.93548,     0.93548,     0.93548,     0.93548,     0.93548,\n",
       "            0.93548,     0.93548,     0.93548,     0.90909,     0.90909,     0.90909,     0.90909,     0.90909,     0.90909,     0.90909,     0.90909,     0.90909,     0.90909,     0.90909,     0.84211,     0.84211,     0.84211,     0.84211,     0.84211,     0.84211,     0.84211,     0.84211,     0.84211,\n",
       "            0.84211,     0.84211,     0.84211,     0.84211,     0.84211,     0.84211,     0.84211,     0.84211,     0.84211,     0.84211,     0.84211,     0.82692,     0.82692,     0.82692,     0.82692,     0.82692,     0.82692,     0.82692,     0.82692,     0.82692,     0.82692,     0.82692,     0.82692,\n",
       "            0.82692,     0.82692,     0.82692,     0.82692,     0.82692,     0.82692,     0.82692,     0.82692,     0.82692,     0.82692,     0.82692,     0.82692,     0.82692,     0.82692,     0.82692,     0.82692,     0.82692,     0.82692,     0.82692,     0.82692,     0.82692,     0.82692,     0.82692,\n",
       "            0.82692,     0.82692,     0.82692,     0.82692,     0.82692,     0.82692,     0.82692,     0.82692,     0.82692,     0.82692,     0.82692,     0.82692,     0.82692,     0.82692,     0.82692,     0.82692,     0.82692,     0.82692,     0.82692,     0.82692,     0.82692,     0.82692,     0.82692,\n",
       "            0.82692,     0.82692,     0.82692,     0.82692,     0.82692,     0.82692,     0.82692,     0.82692,     0.82692,     0.82692,     0.82692,     0.82692,     0.82692,     0.82692,     0.82692,     0.82692,     0.82692,     0.82692,     0.82692,     0.82692,     0.82692,     0.82692,     0.82692,\n",
       "            0.82692,     0.82692,     0.82692,     0.82692,     0.82692,     0.82692,     0.82692,     0.82692,     0.82692,     0.82692,     0.82692,     0.82692,     0.82692,     0.82692,     0.82692,     0.82692,     0.82692,     0.82692,     0.82692,     0.82692,     0.82692,     0.82692,     0.82692,\n",
       "            0.82692,     0.82692,     0.82692,     0.82692,     0.82692,     0.82692,     0.82692,     0.82692,     0.82692,     0.82692,     0.82692,     0.82143,     0.82143,     0.82143,     0.82143,     0.82143,     0.82143,     0.82143,     0.82143,     0.82143,     0.82143,     0.82143,     0.82143,\n",
       "            0.82143,     0.82143,     0.82143,     0.82143,     0.82143,     0.82143,     0.82143,     0.82143,     0.82143,     0.82143,     0.82143,     0.82143,     0.82143,     0.82143,     0.82143,     0.82143,     0.82143,     0.82143,     0.82143,     0.81967,     0.81967,     0.81967,     0.81967,\n",
       "            0.81967,     0.81967,     0.81967,     0.81967,     0.81967,     0.81967,     0.81967,     0.81967,     0.81967,     0.81967,     0.81967,     0.81967,     0.81967,     0.81967,     0.81967,     0.81967,     0.81967,     0.81967,     0.81967,     0.81967,     0.81967,     0.81967,     0.81967,\n",
       "            0.81967,     0.81967,     0.81967,     0.81967,     0.81967,     0.81967,     0.81967,     0.81967,     0.81967,     0.81967,     0.81967,     0.81967,     0.81967,     0.81967,     0.81967,     0.81538,     0.81538,     0.81538,     0.81538,     0.81538,     0.81538,     0.81538,     0.81538,\n",
       "            0.81538,     0.81538,     0.81538,     0.81538,     0.81538,     0.81538,     0.81538,     0.81538,     0.81538,     0.81538,     0.81538,     0.81538,     0.81538,     0.81538,     0.81538,     0.81538,     0.81538,     0.81538,     0.81538,     0.81538,     0.81538,     0.81538,     0.81538,\n",
       "            0.80597,     0.80597,     0.80597,     0.80597,     0.80597,     0.80597,     0.80597,     0.80597,     0.80597,     0.80597,     0.80519,     0.80519,     0.80519,     0.80519,     0.80519,     0.80519,     0.80519,     0.80519,     0.80519,     0.80519,     0.80519,     0.80519,     0.80519,\n",
       "            0.80519,     0.80519,     0.80519,     0.80519,     0.80519,     0.80519,     0.80519,     0.80519,     0.80519,     0.80519,     0.80519,     0.80519,     0.80519,     0.80519,     0.80519,     0.80519,     0.80519,     0.80519,     0.80519,     0.80519,     0.80519,     0.80519,     0.80519,\n",
       "            0.80519,     0.80519,     0.80519,     0.80519,     0.80519,     0.80519,     0.80519,     0.80519,     0.80519,     0.80519,     0.80519,     0.80519,     0.80519,     0.80519,     0.80519,     0.80519,     0.80519,     0.80519,     0.80519,     0.80519,     0.80519,     0.80519,     0.80519,\n",
       "            0.80519,     0.80519,     0.80519,     0.80519,     0.80519,     0.80519,     0.80519,     0.80519,     0.80519,     0.80519,     0.80519,     0.80519,     0.80519,     0.80519,     0.80519,     0.80519,     0.80519,     0.80519,     0.80519,     0.80519,     0.80519,     0.80519,     0.80519,\n",
       "            0.80519,     0.80519,         0.8,         0.8,         0.8,         0.8,         0.8,         0.8,         0.8,         0.8,         0.8,         0.8,         0.8,         0.8,         0.8,         0.8,         0.8,         0.8,         0.8,         0.8,         0.8,         0.8,     0.79268,\n",
       "            0.79268,     0.79268,     0.79268,     0.79268,     0.79268,     0.79268,     0.79268,     0.79268,     0.79268,     0.79268,      0.7907,      0.7907,      0.7907,      0.7907,      0.7907,      0.7907,      0.7907,      0.7907,      0.7907,      0.7907,      0.7907,      0.7907,      0.7907,\n",
       "             0.7907,      0.7907,      0.7907,      0.7907,      0.7907,      0.7907,      0.7907,      0.7907,      0.7907,      0.7907,      0.7907,      0.7907,      0.7907,      0.7907,      0.7907,      0.7907,      0.7907,      0.7907,     0.78022,     0.78022,     0.78022,     0.78022,     0.78022,\n",
       "            0.78022,     0.78022,     0.78022,     0.78022,     0.78022,     0.78022,     0.78022,     0.78022,     0.78022,     0.78022,     0.78022,     0.78022,     0.78022,     0.78022,     0.78022,     0.78022,     0.78022,     0.78022,     0.78022,     0.78022,     0.78022,     0.78022,     0.78022,\n",
       "            0.78022,     0.78022,     0.78022,     0.76289,     0.76289,     0.76289,     0.76289,     0.76289,     0.76289,     0.76289,     0.76289,     0.76289,     0.76289,     0.76289,     0.76289,     0.76289,     0.76289,     0.76289,     0.76289,     0.76289,     0.76289,     0.76289,     0.76289,\n",
       "            0.76289,     0.76289,     0.76289,     0.76289,     0.76289,     0.76289,     0.76289,     0.76289,     0.76289,     0.76289,     0.76289,     0.76289,     0.75758,     0.75758,     0.75758,     0.75758,     0.75758,     0.75758,     0.75758,     0.75758,     0.75758,     0.75758,     0.75238,\n",
       "            0.75238,     0.75238,     0.75238,     0.75238,     0.75238,     0.75238,     0.75238,     0.75238,     0.75238,     0.75238,     0.75238,     0.75238,     0.75238,     0.75238,     0.75238,     0.75238,     0.75238,     0.75238,     0.75238,     0.75238,     0.75238,     0.75238,     0.75238,\n",
       "            0.75238,     0.75238,     0.75238,     0.75238,     0.75238,     0.75238,     0.75238,     0.75238,     0.75238,     0.75238,     0.75238,     0.75238,     0.75238,     0.75238,     0.75238,     0.75238,     0.75238,     0.75238,     0.74766,     0.74766,     0.74766,     0.74766,     0.74766,\n",
       "            0.74766,     0.74766,     0.74766,     0.74766,     0.74766,     0.73636,     0.73636,     0.73636,     0.73636,     0.73636,     0.73636,     0.73636,     0.73636,     0.73636,     0.73636,     0.72174,     0.72174,     0.72174,     0.72174,     0.72174,     0.72174,     0.72174,     0.72174,\n",
       "            0.72174,     0.72174,     0.72174,     0.72174,     0.72174,     0.72174,     0.72174,     0.72174,     0.72174,     0.72174,     0.72174,     0.72174,     0.72174,         0.7,         0.7,         0.7,         0.7,         0.7,         0.7,         0.7,         0.7,         0.7,         0.7,\n",
       "                0.7,     0.69672,     0.69672,     0.69672,     0.69672,     0.69672,     0.69672,     0.69672,     0.69672,     0.69672,     0.69672,       0.688,       0.688,       0.688,       0.688,       0.688,       0.688,       0.688,       0.688,       0.688,       0.688,     0.67442,     0.67442,\n",
       "            0.67442,     0.67442,     0.67442,     0.67442,     0.67442,     0.67442,     0.67442,     0.67442,     0.67442,     0.65672,     0.65672,     0.65672,     0.65672,     0.65672,     0.65672,     0.65672,     0.65672,     0.65672,     0.65672,     0.63121,     0.63121,     0.63121,     0.63121,\n",
       "            0.63121,     0.63121,     0.63121,     0.63121,     0.63121,     0.63121,     0.63121,     0.42654,     0.42654,     0.42654,     0.42654,     0.42654,     0.42654,     0.42654,     0.42654,     0.42654,     0.42654,     0.29545,     0.29545,     0.29545,     0.29545,     0.29545,     0.29545,\n",
       "            0.29545,     0.29545,     0.29545,     0.29545,     0.16697,     0.16697,     0.16697,     0.16697,     0.16697,     0.16697,     0.16697,     0.16697,     0.16697,     0.16697,     0.16697,    0.065126,    0.065126,    0.065126,    0.065126,    0.065126,    0.065126,    0.065126,    0.065126,\n",
       "           0.065126,    0.065126,    0.027199,    0.027199,    0.027199,    0.027199,    0.027199,    0.027199,    0.027199,    0.027199,    0.027199,    0.027199,    0.027199,   0.0083634,   0.0083634,   0.0083634,   0.0083634,   0.0083634,   0.0083634,   0.0083634,   0.0083634,   0.0083634,   0.0083634,\n",
       "          0.0055853,   0.0050267,   0.0044682,   0.0039097,   0.0033512,   0.0027926,   0.0022341,   0.0016756,   0.0011171,  0.00055853,           0]]), 'Recall', 'Precision'], [array([          0,    0.001001,    0.002002,    0.003003,    0.004004,    0.005005,    0.006006,    0.007007,    0.008008,    0.009009,     0.01001,    0.011011,    0.012012,    0.013013,    0.014014,    0.015015,    0.016016,    0.017017,    0.018018,    0.019019,     0.02002,    0.021021,    0.022022,    0.023023,\n",
       "          0.024024,    0.025025,    0.026026,    0.027027,    0.028028,    0.029029,     0.03003,    0.031031,    0.032032,    0.033033,    0.034034,    0.035035,    0.036036,    0.037037,    0.038038,    0.039039,     0.04004,    0.041041,    0.042042,    0.043043,    0.044044,    0.045045,    0.046046,    0.047047,\n",
       "          0.048048,    0.049049,     0.05005,    0.051051,    0.052052,    0.053053,    0.054054,    0.055055,    0.056056,    0.057057,    0.058058,    0.059059,     0.06006,    0.061061,    0.062062,    0.063063,    0.064064,    0.065065,    0.066066,    0.067067,    0.068068,    0.069069,     0.07007,    0.071071,\n",
       "          0.072072,    0.073073,    0.074074,    0.075075,    0.076076,    0.077077,    0.078078,    0.079079,     0.08008,    0.081081,    0.082082,    0.083083,    0.084084,    0.085085,    0.086086,    0.087087,    0.088088,    0.089089,     0.09009,    0.091091,    0.092092,    0.093093,    0.094094,    0.095095,\n",
       "          0.096096,    0.097097,    0.098098,    0.099099,      0.1001,      0.1011,      0.1021,      0.1031,      0.1041,     0.10511,     0.10611,     0.10711,     0.10811,     0.10911,     0.11011,     0.11111,     0.11211,     0.11311,     0.11411,     0.11512,     0.11612,     0.11712,     0.11812,     0.11912,\n",
       "           0.12012,     0.12112,     0.12212,     0.12312,     0.12412,     0.12513,     0.12613,     0.12713,     0.12813,     0.12913,     0.13013,     0.13113,     0.13213,     0.13313,     0.13413,     0.13514,     0.13614,     0.13714,     0.13814,     0.13914,     0.14014,     0.14114,     0.14214,     0.14314,\n",
       "           0.14414,     0.14515,     0.14615,     0.14715,     0.14815,     0.14915,     0.15015,     0.15115,     0.15215,     0.15315,     0.15415,     0.15516,     0.15616,     0.15716,     0.15816,     0.15916,     0.16016,     0.16116,     0.16216,     0.16316,     0.16416,     0.16517,     0.16617,     0.16717,\n",
       "           0.16817,     0.16917,     0.17017,     0.17117,     0.17217,     0.17317,     0.17417,     0.17518,     0.17618,     0.17718,     0.17818,     0.17918,     0.18018,     0.18118,     0.18218,     0.18318,     0.18418,     0.18519,     0.18619,     0.18719,     0.18819,     0.18919,     0.19019,     0.19119,\n",
       "           0.19219,     0.19319,     0.19419,      0.1952,      0.1962,      0.1972,      0.1982,      0.1992,      0.2002,      0.2012,      0.2022,      0.2032,      0.2042,     0.20521,     0.20621,     0.20721,     0.20821,     0.20921,     0.21021,     0.21121,     0.21221,     0.21321,     0.21421,     0.21522,\n",
       "           0.21622,     0.21722,     0.21822,     0.21922,     0.22022,     0.22122,     0.22222,     0.22322,     0.22422,     0.22523,     0.22623,     0.22723,     0.22823,     0.22923,     0.23023,     0.23123,     0.23223,     0.23323,     0.23423,     0.23524,     0.23624,     0.23724,     0.23824,     0.23924,\n",
       "           0.24024,     0.24124,     0.24224,     0.24324,     0.24424,     0.24525,     0.24625,     0.24725,     0.24825,     0.24925,     0.25025,     0.25125,     0.25225,     0.25325,     0.25425,     0.25526,     0.25626,     0.25726,     0.25826,     0.25926,     0.26026,     0.26126,     0.26226,     0.26326,\n",
       "           0.26426,     0.26527,     0.26627,     0.26727,     0.26827,     0.26927,     0.27027,     0.27127,     0.27227,     0.27327,     0.27427,     0.27528,     0.27628,     0.27728,     0.27828,     0.27928,     0.28028,     0.28128,     0.28228,     0.28328,     0.28428,     0.28529,     0.28629,     0.28729,\n",
       "           0.28829,     0.28929,     0.29029,     0.29129,     0.29229,     0.29329,     0.29429,      0.2953,      0.2963,      0.2973,      0.2983,      0.2993,      0.3003,      0.3013,      0.3023,      0.3033,      0.3043,     0.30531,     0.30631,     0.30731,     0.30831,     0.30931,     0.31031,     0.31131,\n",
       "           0.31231,     0.31331,     0.31431,     0.31532,     0.31632,     0.31732,     0.31832,     0.31932,     0.32032,     0.32132,     0.32232,     0.32332,     0.32432,     0.32533,     0.32633,     0.32733,     0.32833,     0.32933,     0.33033,     0.33133,     0.33233,     0.33333,     0.33433,     0.33534,\n",
       "           0.33634,     0.33734,     0.33834,     0.33934,     0.34034,     0.34134,     0.34234,     0.34334,     0.34434,     0.34535,     0.34635,     0.34735,     0.34835,     0.34935,     0.35035,     0.35135,     0.35235,     0.35335,     0.35435,     0.35536,     0.35636,     0.35736,     0.35836,     0.35936,\n",
       "           0.36036,     0.36136,     0.36236,     0.36336,     0.36436,     0.36537,     0.36637,     0.36737,     0.36837,     0.36937,     0.37037,     0.37137,     0.37237,     0.37337,     0.37437,     0.37538,     0.37638,     0.37738,     0.37838,     0.37938,     0.38038,     0.38138,     0.38238,     0.38338,\n",
       "           0.38438,     0.38539,     0.38639,     0.38739,     0.38839,     0.38939,     0.39039,     0.39139,     0.39239,     0.39339,     0.39439,      0.3954,      0.3964,      0.3974,      0.3984,      0.3994,      0.4004,      0.4014,      0.4024,      0.4034,      0.4044,     0.40541,     0.40641,     0.40741,\n",
       "           0.40841,     0.40941,     0.41041,     0.41141,     0.41241,     0.41341,     0.41441,     0.41542,     0.41642,     0.41742,     0.41842,     0.41942,     0.42042,     0.42142,     0.42242,     0.42342,     0.42442,     0.42543,     0.42643,     0.42743,     0.42843,     0.42943,     0.43043,     0.43143,\n",
       "           0.43243,     0.43343,     0.43443,     0.43544,     0.43644,     0.43744,     0.43844,     0.43944,     0.44044,     0.44144,     0.44244,     0.44344,     0.44444,     0.44545,     0.44645,     0.44745,     0.44845,     0.44945,     0.45045,     0.45145,     0.45245,     0.45345,     0.45445,     0.45546,\n",
       "           0.45646,     0.45746,     0.45846,     0.45946,     0.46046,     0.46146,     0.46246,     0.46346,     0.46446,     0.46547,     0.46647,     0.46747,     0.46847,     0.46947,     0.47047,     0.47147,     0.47247,     0.47347,     0.47447,     0.47548,     0.47648,     0.47748,     0.47848,     0.47948,\n",
       "           0.48048,     0.48148,     0.48248,     0.48348,     0.48448,     0.48549,     0.48649,     0.48749,     0.48849,     0.48949,     0.49049,     0.49149,     0.49249,     0.49349,     0.49449,      0.4955,      0.4965,      0.4975,      0.4985,      0.4995,      0.5005,      0.5015,      0.5025,      0.5035,\n",
       "            0.5045,     0.50551,     0.50651,     0.50751,     0.50851,     0.50951,     0.51051,     0.51151,     0.51251,     0.51351,     0.51451,     0.51552,     0.51652,     0.51752,     0.51852,     0.51952,     0.52052,     0.52152,     0.52252,     0.52352,     0.52452,     0.52553,     0.52653,     0.52753,\n",
       "           0.52853,     0.52953,     0.53053,     0.53153,     0.53253,     0.53353,     0.53453,     0.53554,     0.53654,     0.53754,     0.53854,     0.53954,     0.54054,     0.54154,     0.54254,     0.54354,     0.54454,     0.54555,     0.54655,     0.54755,     0.54855,     0.54955,     0.55055,     0.55155,\n",
       "           0.55255,     0.55355,     0.55455,     0.55556,     0.55656,     0.55756,     0.55856,     0.55956,     0.56056,     0.56156,     0.56256,     0.56356,     0.56456,     0.56557,     0.56657,     0.56757,     0.56857,     0.56957,     0.57057,     0.57157,     0.57257,     0.57357,     0.57457,     0.57558,\n",
       "           0.57658,     0.57758,     0.57858,     0.57958,     0.58058,     0.58158,     0.58258,     0.58358,     0.58458,     0.58559,     0.58659,     0.58759,     0.58859,     0.58959,     0.59059,     0.59159,     0.59259,     0.59359,     0.59459,      0.5956,      0.5966,      0.5976,      0.5986,      0.5996,\n",
       "            0.6006,      0.6016,      0.6026,      0.6036,      0.6046,     0.60561,     0.60661,     0.60761,     0.60861,     0.60961,     0.61061,     0.61161,     0.61261,     0.61361,     0.61461,     0.61562,     0.61662,     0.61762,     0.61862,     0.61962,     0.62062,     0.62162,     0.62262,     0.62362,\n",
       "           0.62462,     0.62563,     0.62663,     0.62763,     0.62863,     0.62963,     0.63063,     0.63163,     0.63263,     0.63363,     0.63463,     0.63564,     0.63664,     0.63764,     0.63864,     0.63964,     0.64064,     0.64164,     0.64264,     0.64364,     0.64464,     0.64565,     0.64665,     0.64765,\n",
       "           0.64865,     0.64965,     0.65065,     0.65165,     0.65265,     0.65365,     0.65465,     0.65566,     0.65666,     0.65766,     0.65866,     0.65966,     0.66066,     0.66166,     0.66266,     0.66366,     0.66466,     0.66567,     0.66667,     0.66767,     0.66867,     0.66967,     0.67067,     0.67167,\n",
       "           0.67267,     0.67367,     0.67467,     0.67568,     0.67668,     0.67768,     0.67868,     0.67968,     0.68068,     0.68168,     0.68268,     0.68368,     0.68468,     0.68569,     0.68669,     0.68769,     0.68869,     0.68969,     0.69069,     0.69169,     0.69269,     0.69369,     0.69469,      0.6957,\n",
       "            0.6967,      0.6977,      0.6987,      0.6997,      0.7007,      0.7017,      0.7027,      0.7037,      0.7047,     0.70571,     0.70671,     0.70771,     0.70871,     0.70971,     0.71071,     0.71171,     0.71271,     0.71371,     0.71471,     0.71572,     0.71672,     0.71772,     0.71872,     0.71972,\n",
       "           0.72072,     0.72172,     0.72272,     0.72372,     0.72472,     0.72573,     0.72673,     0.72773,     0.72873,     0.72973,     0.73073,     0.73173,     0.73273,     0.73373,     0.73473,     0.73574,     0.73674,     0.73774,     0.73874,     0.73974,     0.74074,     0.74174,     0.74274,     0.74374,\n",
       "           0.74474,     0.74575,     0.74675,     0.74775,     0.74875,     0.74975,     0.75075,     0.75175,     0.75275,     0.75375,     0.75475,     0.75576,     0.75676,     0.75776,     0.75876,     0.75976,     0.76076,     0.76176,     0.76276,     0.76376,     0.76476,     0.76577,     0.76677,     0.76777,\n",
       "           0.76877,     0.76977,     0.77077,     0.77177,     0.77277,     0.77377,     0.77477,     0.77578,     0.77678,     0.77778,     0.77878,     0.77978,     0.78078,     0.78178,     0.78278,     0.78378,     0.78478,     0.78579,     0.78679,     0.78779,     0.78879,     0.78979,     0.79079,     0.79179,\n",
       "           0.79279,     0.79379,     0.79479,      0.7958,      0.7968,      0.7978,      0.7988,      0.7998,      0.8008,      0.8018,      0.8028,      0.8038,      0.8048,     0.80581,     0.80681,     0.80781,     0.80881,     0.80981,     0.81081,     0.81181,     0.81281,     0.81381,     0.81481,     0.81582,\n",
       "           0.81682,     0.81782,     0.81882,     0.81982,     0.82082,     0.82182,     0.82282,     0.82382,     0.82482,     0.82583,     0.82683,     0.82783,     0.82883,     0.82983,     0.83083,     0.83183,     0.83283,     0.83383,     0.83483,     0.83584,     0.83684,     0.83784,     0.83884,     0.83984,\n",
       "           0.84084,     0.84184,     0.84284,     0.84384,     0.84484,     0.84585,     0.84685,     0.84785,     0.84885,     0.84985,     0.85085,     0.85185,     0.85285,     0.85385,     0.85485,     0.85586,     0.85686,     0.85786,     0.85886,     0.85986,     0.86086,     0.86186,     0.86286,     0.86386,\n",
       "           0.86486,     0.86587,     0.86687,     0.86787,     0.86887,     0.86987,     0.87087,     0.87187,     0.87287,     0.87387,     0.87487,     0.87588,     0.87688,     0.87788,     0.87888,     0.87988,     0.88088,     0.88188,     0.88288,     0.88388,     0.88488,     0.88589,     0.88689,     0.88789,\n",
       "           0.88889,     0.88989,     0.89089,     0.89189,     0.89289,     0.89389,     0.89489,      0.8959,      0.8969,      0.8979,      0.8989,      0.8999,      0.9009,      0.9019,      0.9029,      0.9039,      0.9049,     0.90591,     0.90691,     0.90791,     0.90891,     0.90991,     0.91091,     0.91191,\n",
       "           0.91291,     0.91391,     0.91491,     0.91592,     0.91692,     0.91792,     0.91892,     0.91992,     0.92092,     0.92192,     0.92292,     0.92392,     0.92492,     0.92593,     0.92693,     0.92793,     0.92893,     0.92993,     0.93093,     0.93193,     0.93293,     0.93393,     0.93493,     0.93594,\n",
       "           0.93694,     0.93794,     0.93894,     0.93994,     0.94094,     0.94194,     0.94294,     0.94394,     0.94494,     0.94595,     0.94695,     0.94795,     0.94895,     0.94995,     0.95095,     0.95195,     0.95295,     0.95395,     0.95495,     0.95596,     0.95696,     0.95796,     0.95896,     0.95996,\n",
       "           0.96096,     0.96196,     0.96296,     0.96396,     0.96496,     0.96597,     0.96697,     0.96797,     0.96897,     0.96997,     0.97097,     0.97197,     0.97297,     0.97397,     0.97497,     0.97598,     0.97698,     0.97798,     0.97898,     0.97998,     0.98098,     0.98198,     0.98298,     0.98398,\n",
       "           0.98498,     0.98599,     0.98699,     0.98799,     0.98899,     0.98999,     0.99099,     0.99199,     0.99299,     0.99399,     0.99499,       0.996,       0.997,       0.998,       0.999,           1]), array([[   0.011556,    0.011569,    0.023243,    0.035923,    0.051763,    0.070274,    0.092001,     0.11426,     0.13403,     0.15907,     0.18155,     0.20284,     0.22179,     0.24116,     0.26245,     0.28378,     0.29804,     0.31709,      0.3319,     0.34588,     0.36171,     0.37241,     0.38388,\n",
       "             0.3928,      0.3983,     0.40847,     0.41904,     0.42585,     0.42865,     0.43632,      0.4429,     0.44997,     0.45572,     0.46146,     0.46704,     0.47255,     0.47983,     0.48209,     0.48771,     0.49529,     0.50357,     0.50997,     0.51492,     0.52304,     0.52596,     0.53019,\n",
       "            0.53452,      0.5368,     0.54157,     0.55008,     0.55889,     0.56323,     0.56494,     0.56761,     0.57092,     0.57443,     0.58393,     0.58542,     0.58276,     0.58873,     0.59134,     0.59575,     0.59801,     0.60495,     0.61238,     0.61593,     0.61706,     0.62025,     0.62493,\n",
       "            0.62706,     0.63043,     0.63544,     0.63858,     0.63945,     0.64069,     0.64602,     0.64871,     0.65357,     0.65566,     0.66027,     0.66511,     0.66787,     0.67458,     0.67614,     0.67791,     0.68229,     0.68421,       0.688,     0.68957,     0.69111,     0.69262,     0.69335,\n",
       "            0.69408,     0.69481,     0.69536,     0.69553,     0.69569,     0.69585,     0.69601,     0.69618,     0.69634,      0.6965,     0.69666,     0.69682,     0.69699,     0.69715,     0.69731,     0.69747,     0.69764,      0.6978,     0.69796,     0.69873,      0.7001,     0.70119,     0.70199,\n",
       "            0.70279,     0.70512,     0.70715,     0.70798,      0.7088,     0.71251,     0.71402,     0.71509,     0.71561,     0.71612,     0.71664,     0.71716,     0.71767,     0.71901,     0.72048,     0.72157,      0.7226,      0.7236,     0.72393,     0.72427,      0.7246,     0.72494,     0.72528,\n",
       "            0.72561,     0.72595,     0.72628,       0.727,      0.7288,     0.73007,     0.73099,     0.73191,     0.73257,     0.73274,     0.73292,     0.73309,     0.73327,     0.73344,     0.73361,     0.73379,     0.73396,     0.73414,     0.73431,     0.73448,     0.73466,     0.73483,       0.735,\n",
       "            0.73518,     0.73535,     0.73552,     0.73851,     0.74177,     0.74344,     0.74481,     0.74501,     0.74521,     0.74541,     0.74561,     0.74581,     0.74602,     0.74622,     0.74642,     0.74662,     0.74682,     0.74702,     0.74722,     0.74742,     0.74762,     0.74782,      0.7494,\n",
       "            0.75014,     0.74744,     0.74585,     0.74606,     0.74628,      0.7465,     0.74672,     0.74694,     0.74715,     0.74737,     0.74759,     0.74781,     0.74802,     0.74824,     0.74846,     0.74867,     0.74889,     0.75028,     0.75197,     0.75286,     0.75367,     0.75447,     0.75527,\n",
       "            0.75582,     0.75634,     0.75686,     0.75738,     0.75789,     0.75841,     0.75871,     0.75886,     0.75901,     0.75916,     0.75931,     0.75946,     0.75961,     0.75976,     0.75991,     0.76006,     0.76021,     0.76036,     0.76051,     0.76065,      0.7608,     0.76095,      0.7611,\n",
       "            0.76125,      0.7614,     0.76155,      0.7617,     0.76185,     0.76307,     0.76495,     0.76017,     0.76087,     0.76156,     0.76225,     0.76294,     0.76333,     0.76359,     0.76384,     0.76409,     0.76435,      0.7646,     0.76485,     0.76511,     0.76536,     0.76561,     0.76586,\n",
       "            0.76612,     0.76637,     0.76717,     0.76879,     0.76999,     0.77026,     0.77053,      0.7708,     0.77107,     0.77134,     0.77161,     0.77188,     0.77215,     0.77242,     0.77269,     0.77296,     0.77322,     0.77272,     0.77168,     0.77065,     0.76961,     0.76857,     0.76841,\n",
       "            0.77014,      0.7722,     0.77486,     0.77672,     0.77797,     0.77606,     0.77415,     0.77277,     0.77296,     0.77314,     0.77332,     0.77351,     0.77369,     0.77387,     0.77406,     0.77424,     0.77442,      0.7746,     0.77479,     0.77497,     0.77515,     0.77533,     0.77552,\n",
       "             0.7757,     0.77588,     0.77606,     0.77624,     0.77642,     0.77661,     0.77679,     0.77697,     0.77715,     0.77733,     0.77751,     0.77769,     0.77787,     0.77805,     0.77823,     0.77841,     0.77859,     0.77877,     0.77895,     0.77913,     0.77931,     0.77949,     0.77967,\n",
       "            0.77974,     0.77926,     0.77878,      0.7783,     0.77781,     0.77733,     0.77685,     0.77637,     0.77589,     0.77541,     0.77492,     0.77444,      0.7745,     0.77513,     0.77575,     0.77638,       0.777,     0.77762,     0.77756,     0.77728,     0.77699,      0.7767,     0.77641,\n",
       "            0.77613,     0.77584,     0.77555,     0.77526,     0.77498,     0.77469,      0.7744,     0.77411,     0.77382,     0.77354,     0.77325,     0.77296,     0.77267,     0.77238,      0.7721,     0.77263,     0.77317,     0.77371,     0.77425,     0.77479,     0.77532,     0.77589,     0.77654,\n",
       "            0.77718,     0.77782,     0.77847,     0.77911,     0.77938,     0.77943,     0.77949,     0.77954,     0.77959,     0.77965,      0.7797,     0.77976,     0.77981,     0.77986,     0.77992,     0.77997,     0.78003,     0.78008,     0.78013,     0.78019,     0.78024,      0.7803,     0.78035,\n",
       "             0.7804,     0.78046,     0.78051,     0.78057,     0.78062,     0.78067,     0.78073,     0.78078,     0.78084,     0.78089,     0.78094,       0.781,     0.78105,     0.78111,     0.78116,     0.78121,     0.78127,     0.78132,     0.78138,     0.78143,     0.78148,     0.78154,     0.78159,\n",
       "            0.78164,      0.7817,     0.78175,     0.78181,     0.78186,     0.78191,     0.78197,     0.78202,     0.78208,     0.78213,     0.78218,     0.78224,     0.78229,     0.78234,      0.7824,     0.78245,     0.78251,     0.78256,     0.78261,     0.78267,     0.78272,     0.78277,     0.78283,\n",
       "            0.78288,     0.78294,     0.78299,     0.78309,     0.78323,     0.78338,     0.78352,     0.78367,     0.78382,     0.78396,     0.78411,     0.78426,      0.7844,     0.78455,     0.78469,     0.78484,     0.78499,     0.78513,     0.78528,     0.78542,     0.78557,     0.78572,     0.78586,\n",
       "            0.78601,     0.78615,      0.7863,     0.78644,     0.78659,     0.78672,     0.78638,     0.78605,     0.78572,     0.78538,     0.78505,     0.78472,     0.78438,     0.78405,     0.78372,     0.78338,     0.78305,     0.78271,     0.78238,     0.78205,     0.78171,     0.78138,     0.78104,\n",
       "            0.77986,     0.77835,     0.77685,     0.77534,     0.77537,     0.77567,     0.77596,     0.77626,     0.77655,     0.77685,     0.77714,     0.77744,     0.77773,     0.77802,     0.77832,     0.77861,     0.77886,     0.77895,     0.77903,     0.77911,      0.7792,     0.77928,     0.77937,\n",
       "            0.77945,     0.77953,     0.77962,      0.7797,     0.77979,     0.77987,     0.77995,     0.78004,     0.78012,      0.7802,     0.78029,     0.78037,     0.78045,     0.78054,     0.78062,     0.78071,     0.78079,     0.78087,     0.78096,     0.78104,     0.78112,     0.78121,     0.78129,\n",
       "            0.78137,     0.78146,     0.78154,     0.78162,     0.78171,     0.78179,     0.78187,     0.78196,     0.78204,     0.78212,     0.78221,     0.78229,     0.78237,     0.78246,     0.78254,     0.78269,     0.78311,     0.78353,     0.78395,     0.78437,     0.78479,     0.78521,     0.78563,\n",
       "            0.78604,     0.78547,      0.7806,     0.78096,     0.78131,     0.78166,     0.78202,     0.78237,     0.78272,     0.78308,     0.78343,     0.78378,     0.78413,      0.7845,     0.78489,     0.78528,     0.78567,     0.78606,     0.78645,     0.78684,     0.78723,     0.78761,       0.788,\n",
       "            0.78805,      0.7878,     0.78756,     0.78732,     0.78708,     0.78684,     0.78659,     0.78635,     0.78611,     0.78587,     0.78563,     0.78538,     0.78514,      0.7849,     0.78466,     0.78441,     0.78417,     0.78393,     0.78369,     0.78344,      0.7832,     0.78296,     0.78272,\n",
       "            0.78247,     0.78223,     0.78235,     0.78256,     0.78277,     0.78298,      0.7832,     0.78341,     0.78362,     0.78383,     0.78405,     0.78426,     0.78447,     0.78468,     0.78489,      0.7851,     0.78532,     0.78553,     0.78574,     0.78595,     0.78574,     0.78497,      0.7842,\n",
       "            0.78343,     0.78266,     0.78189,     0.78112,     0.78035,     0.77942,     0.77835,     0.77729,     0.77622,     0.77515,     0.77408,     0.77366,     0.77339,     0.77313,     0.77287,      0.7726,     0.77234,     0.77208,     0.77181,     0.77155,     0.77128,     0.77102,     0.77076,\n",
       "            0.77049,     0.77023,     0.76996,      0.7697,     0.76943,     0.76917,     0.76891,     0.76864,     0.76838,     0.76811,     0.76785,     0.76738,     0.76657,     0.76576,     0.76494,     0.76413,     0.76331,     0.76249,     0.76168,     0.76206,     0.76299,     0.76392,     0.76484,\n",
       "            0.76893,     0.76751,     0.76609,     0.76467,     0.76324,      0.7638,     0.76502,     0.76623,     0.76026,     0.75947,     0.75869,      0.7579,     0.75711,     0.75633,     0.75554,     0.75475,     0.75396,     0.75341,     0.75287,     0.75234,      0.7518,     0.75126,     0.75072,\n",
       "            0.75018,     0.74964,      0.7491,     0.74857,     0.74803,     0.74749,     0.74842,     0.74976,     0.75109,     0.75142,     0.75154,     0.75166,     0.75178,      0.7519,     0.75202,     0.75214,     0.75226,     0.75238,      0.7525,     0.75262,     0.75274,     0.75286,     0.75298,\n",
       "             0.7531,     0.75322,     0.75334,     0.75346,     0.75358,      0.7537,     0.75382,     0.75394,     0.75406,     0.75418,      0.7543,     0.75442,     0.75453,     0.75465,     0.75477,     0.75489,     0.75501,     0.75513,     0.75525,     0.75556,     0.75615,     0.75673,     0.75731,\n",
       "             0.7579,     0.75848,     0.75906,     0.75911,      0.7586,     0.75808,     0.75756,     0.75705,     0.75653,     0.75601,      0.7555,     0.75498,     0.75446,     0.75394,     0.75342,      0.7529,      0.7511,     0.74836,     0.74587,     0.74519,     0.74451,     0.74383,     0.74316,\n",
       "            0.74248,      0.7418,     0.74112,     0.74044,     0.73976,     0.73915,     0.73938,     0.73961,     0.73984,     0.74008,     0.74031,     0.74054,     0.74077,       0.741,     0.74123,     0.74146,     0.74169,     0.74192,     0.74215,     0.74238,     0.74261,     0.74284,     0.74307,\n",
       "            0.74691,     0.74605,     0.74519,     0.74433,     0.74347,     0.74261,     0.74175,     0.74089,     0.73995,     0.73887,     0.73779,     0.73671,     0.73563,     0.73455,     0.73347,     0.72907,     0.72817,     0.72929,     0.72726,     0.72522,     0.72318,     0.72341,     0.72367,\n",
       "            0.72392,     0.72417,     0.72442,     0.72468,     0.72493,     0.72518,     0.72543,     0.72568,     0.72593,     0.72618,     0.72643,     0.72669,     0.72694,     0.72719,     0.72002,     0.71267,     0.71296,     0.71325,     0.71355,     0.71384,     0.71413,     0.71442,     0.71471,\n",
       "              0.715,     0.71529,     0.71558,     0.71587,     0.71616,     0.71645,     0.71674,     0.71601,      0.7152,     0.71438,     0.71356,     0.71274,     0.71191,     0.71109,     0.71027,     0.70945,     0.70852,     0.70758,     0.70663,     0.70569,     0.70474,     0.70379,     0.70284,\n",
       "            0.70189,     0.70072,     0.69951,     0.69829,     0.69707,     0.69586,     0.69464,     0.69294,     0.69089,     0.68883,     0.68677,     0.68571,     0.68489,     0.68406,     0.68323,     0.68239,     0.68156,     0.68073,      0.6799,     0.67906,     0.67687,     0.67274,     0.66934,\n",
       "            0.66669,     0.66404,     0.66207,     0.66085,     0.65962,      0.6584,     0.65717,     0.65595,     0.65472,     0.65507,     0.65568,     0.65628,     0.65688,     0.65749,     0.65809,     0.65964,     0.66222,     0.66112,     0.66002,     0.65892,     0.65782,     0.65672,     0.65561,\n",
       "            0.65451,     0.65457,     0.65486,     0.65516,     0.65545,     0.65575,     0.65604,     0.65633,     0.65663,     0.65692,     0.65721,      0.6575,      0.6578,     0.65809,     0.65838,      0.6571,     0.65578,     0.65445,     0.65313,     0.65181,     0.65048,     0.64617,     0.64087,\n",
       "            0.63804,      0.6352,     0.63493,     0.62787,     0.62725,     0.62663,       0.626,     0.62538,     0.62476,     0.62414,     0.62351,     0.62289,     0.62226,     0.62164,     0.62101,     0.62039,     0.61976,     0.61006,     0.60499,     0.60051,     0.59601,     0.59378,     0.59154,\n",
       "             0.5893,     0.58705,     0.57734,     0.57779,     0.57824,     0.57868,     0.57913,     0.57957,     0.58001,     0.58045,     0.58089,     0.57958,     0.57695,     0.57432,     0.57168,     0.56826,     0.56474,     0.56127,     0.55828,     0.55527,     0.55226,     0.54954,     0.54689,\n",
       "            0.54423,     0.54152,     0.53805,     0.53456,      0.5311,     0.52801,      0.5249,     0.52178,     0.51417,     0.50658,      0.4991,     0.48342,     0.47768,     0.47627,     0.47484,     0.47342,     0.47199,     0.47057,     0.46914,     0.46771,     0.47208,     0.47444,     0.47548,\n",
       "             0.4765,     0.47752,     0.46174,     0.45623,      0.4579,     0.46484,     0.46149,     0.45812,     0.45473,      0.4556,           0]]), 'Confidence', 'F1'], [array([          0,    0.001001,    0.002002,    0.003003,    0.004004,    0.005005,    0.006006,    0.007007,    0.008008,    0.009009,     0.01001,    0.011011,    0.012012,    0.013013,    0.014014,    0.015015,    0.016016,    0.017017,    0.018018,    0.019019,     0.02002,    0.021021,    0.022022,    0.023023,\n",
       "          0.024024,    0.025025,    0.026026,    0.027027,    0.028028,    0.029029,     0.03003,    0.031031,    0.032032,    0.033033,    0.034034,    0.035035,    0.036036,    0.037037,    0.038038,    0.039039,     0.04004,    0.041041,    0.042042,    0.043043,    0.044044,    0.045045,    0.046046,    0.047047,\n",
       "          0.048048,    0.049049,     0.05005,    0.051051,    0.052052,    0.053053,    0.054054,    0.055055,    0.056056,    0.057057,    0.058058,    0.059059,     0.06006,    0.061061,    0.062062,    0.063063,    0.064064,    0.065065,    0.066066,    0.067067,    0.068068,    0.069069,     0.07007,    0.071071,\n",
       "          0.072072,    0.073073,    0.074074,    0.075075,    0.076076,    0.077077,    0.078078,    0.079079,     0.08008,    0.081081,    0.082082,    0.083083,    0.084084,    0.085085,    0.086086,    0.087087,    0.088088,    0.089089,     0.09009,    0.091091,    0.092092,    0.093093,    0.094094,    0.095095,\n",
       "          0.096096,    0.097097,    0.098098,    0.099099,      0.1001,      0.1011,      0.1021,      0.1031,      0.1041,     0.10511,     0.10611,     0.10711,     0.10811,     0.10911,     0.11011,     0.11111,     0.11211,     0.11311,     0.11411,     0.11512,     0.11612,     0.11712,     0.11812,     0.11912,\n",
       "           0.12012,     0.12112,     0.12212,     0.12312,     0.12412,     0.12513,     0.12613,     0.12713,     0.12813,     0.12913,     0.13013,     0.13113,     0.13213,     0.13313,     0.13413,     0.13514,     0.13614,     0.13714,     0.13814,     0.13914,     0.14014,     0.14114,     0.14214,     0.14314,\n",
       "           0.14414,     0.14515,     0.14615,     0.14715,     0.14815,     0.14915,     0.15015,     0.15115,     0.15215,     0.15315,     0.15415,     0.15516,     0.15616,     0.15716,     0.15816,     0.15916,     0.16016,     0.16116,     0.16216,     0.16316,     0.16416,     0.16517,     0.16617,     0.16717,\n",
       "           0.16817,     0.16917,     0.17017,     0.17117,     0.17217,     0.17317,     0.17417,     0.17518,     0.17618,     0.17718,     0.17818,     0.17918,     0.18018,     0.18118,     0.18218,     0.18318,     0.18418,     0.18519,     0.18619,     0.18719,     0.18819,     0.18919,     0.19019,     0.19119,\n",
       "           0.19219,     0.19319,     0.19419,      0.1952,      0.1962,      0.1972,      0.1982,      0.1992,      0.2002,      0.2012,      0.2022,      0.2032,      0.2042,     0.20521,     0.20621,     0.20721,     0.20821,     0.20921,     0.21021,     0.21121,     0.21221,     0.21321,     0.21421,     0.21522,\n",
       "           0.21622,     0.21722,     0.21822,     0.21922,     0.22022,     0.22122,     0.22222,     0.22322,     0.22422,     0.22523,     0.22623,     0.22723,     0.22823,     0.22923,     0.23023,     0.23123,     0.23223,     0.23323,     0.23423,     0.23524,     0.23624,     0.23724,     0.23824,     0.23924,\n",
       "           0.24024,     0.24124,     0.24224,     0.24324,     0.24424,     0.24525,     0.24625,     0.24725,     0.24825,     0.24925,     0.25025,     0.25125,     0.25225,     0.25325,     0.25425,     0.25526,     0.25626,     0.25726,     0.25826,     0.25926,     0.26026,     0.26126,     0.26226,     0.26326,\n",
       "           0.26426,     0.26527,     0.26627,     0.26727,     0.26827,     0.26927,     0.27027,     0.27127,     0.27227,     0.27327,     0.27427,     0.27528,     0.27628,     0.27728,     0.27828,     0.27928,     0.28028,     0.28128,     0.28228,     0.28328,     0.28428,     0.28529,     0.28629,     0.28729,\n",
       "           0.28829,     0.28929,     0.29029,     0.29129,     0.29229,     0.29329,     0.29429,      0.2953,      0.2963,      0.2973,      0.2983,      0.2993,      0.3003,      0.3013,      0.3023,      0.3033,      0.3043,     0.30531,     0.30631,     0.30731,     0.30831,     0.30931,     0.31031,     0.31131,\n",
       "           0.31231,     0.31331,     0.31431,     0.31532,     0.31632,     0.31732,     0.31832,     0.31932,     0.32032,     0.32132,     0.32232,     0.32332,     0.32432,     0.32533,     0.32633,     0.32733,     0.32833,     0.32933,     0.33033,     0.33133,     0.33233,     0.33333,     0.33433,     0.33534,\n",
       "           0.33634,     0.33734,     0.33834,     0.33934,     0.34034,     0.34134,     0.34234,     0.34334,     0.34434,     0.34535,     0.34635,     0.34735,     0.34835,     0.34935,     0.35035,     0.35135,     0.35235,     0.35335,     0.35435,     0.35536,     0.35636,     0.35736,     0.35836,     0.35936,\n",
       "           0.36036,     0.36136,     0.36236,     0.36336,     0.36436,     0.36537,     0.36637,     0.36737,     0.36837,     0.36937,     0.37037,     0.37137,     0.37237,     0.37337,     0.37437,     0.37538,     0.37638,     0.37738,     0.37838,     0.37938,     0.38038,     0.38138,     0.38238,     0.38338,\n",
       "           0.38438,     0.38539,     0.38639,     0.38739,     0.38839,     0.38939,     0.39039,     0.39139,     0.39239,     0.39339,     0.39439,      0.3954,      0.3964,      0.3974,      0.3984,      0.3994,      0.4004,      0.4014,      0.4024,      0.4034,      0.4044,     0.40541,     0.40641,     0.40741,\n",
       "           0.40841,     0.40941,     0.41041,     0.41141,     0.41241,     0.41341,     0.41441,     0.41542,     0.41642,     0.41742,     0.41842,     0.41942,     0.42042,     0.42142,     0.42242,     0.42342,     0.42442,     0.42543,     0.42643,     0.42743,     0.42843,     0.42943,     0.43043,     0.43143,\n",
       "           0.43243,     0.43343,     0.43443,     0.43544,     0.43644,     0.43744,     0.43844,     0.43944,     0.44044,     0.44144,     0.44244,     0.44344,     0.44444,     0.44545,     0.44645,     0.44745,     0.44845,     0.44945,     0.45045,     0.45145,     0.45245,     0.45345,     0.45445,     0.45546,\n",
       "           0.45646,     0.45746,     0.45846,     0.45946,     0.46046,     0.46146,     0.46246,     0.46346,     0.46446,     0.46547,     0.46647,     0.46747,     0.46847,     0.46947,     0.47047,     0.47147,     0.47247,     0.47347,     0.47447,     0.47548,     0.47648,     0.47748,     0.47848,     0.47948,\n",
       "           0.48048,     0.48148,     0.48248,     0.48348,     0.48448,     0.48549,     0.48649,     0.48749,     0.48849,     0.48949,     0.49049,     0.49149,     0.49249,     0.49349,     0.49449,      0.4955,      0.4965,      0.4975,      0.4985,      0.4995,      0.5005,      0.5015,      0.5025,      0.5035,\n",
       "            0.5045,     0.50551,     0.50651,     0.50751,     0.50851,     0.50951,     0.51051,     0.51151,     0.51251,     0.51351,     0.51451,     0.51552,     0.51652,     0.51752,     0.51852,     0.51952,     0.52052,     0.52152,     0.52252,     0.52352,     0.52452,     0.52553,     0.52653,     0.52753,\n",
       "           0.52853,     0.52953,     0.53053,     0.53153,     0.53253,     0.53353,     0.53453,     0.53554,     0.53654,     0.53754,     0.53854,     0.53954,     0.54054,     0.54154,     0.54254,     0.54354,     0.54454,     0.54555,     0.54655,     0.54755,     0.54855,     0.54955,     0.55055,     0.55155,\n",
       "           0.55255,     0.55355,     0.55455,     0.55556,     0.55656,     0.55756,     0.55856,     0.55956,     0.56056,     0.56156,     0.56256,     0.56356,     0.56456,     0.56557,     0.56657,     0.56757,     0.56857,     0.56957,     0.57057,     0.57157,     0.57257,     0.57357,     0.57457,     0.57558,\n",
       "           0.57658,     0.57758,     0.57858,     0.57958,     0.58058,     0.58158,     0.58258,     0.58358,     0.58458,     0.58559,     0.58659,     0.58759,     0.58859,     0.58959,     0.59059,     0.59159,     0.59259,     0.59359,     0.59459,      0.5956,      0.5966,      0.5976,      0.5986,      0.5996,\n",
       "            0.6006,      0.6016,      0.6026,      0.6036,      0.6046,     0.60561,     0.60661,     0.60761,     0.60861,     0.60961,     0.61061,     0.61161,     0.61261,     0.61361,     0.61461,     0.61562,     0.61662,     0.61762,     0.61862,     0.61962,     0.62062,     0.62162,     0.62262,     0.62362,\n",
       "           0.62462,     0.62563,     0.62663,     0.62763,     0.62863,     0.62963,     0.63063,     0.63163,     0.63263,     0.63363,     0.63463,     0.63564,     0.63664,     0.63764,     0.63864,     0.63964,     0.64064,     0.64164,     0.64264,     0.64364,     0.64464,     0.64565,     0.64665,     0.64765,\n",
       "           0.64865,     0.64965,     0.65065,     0.65165,     0.65265,     0.65365,     0.65465,     0.65566,     0.65666,     0.65766,     0.65866,     0.65966,     0.66066,     0.66166,     0.66266,     0.66366,     0.66466,     0.66567,     0.66667,     0.66767,     0.66867,     0.66967,     0.67067,     0.67167,\n",
       "           0.67267,     0.67367,     0.67467,     0.67568,     0.67668,     0.67768,     0.67868,     0.67968,     0.68068,     0.68168,     0.68268,     0.68368,     0.68468,     0.68569,     0.68669,     0.68769,     0.68869,     0.68969,     0.69069,     0.69169,     0.69269,     0.69369,     0.69469,      0.6957,\n",
       "            0.6967,      0.6977,      0.6987,      0.6997,      0.7007,      0.7017,      0.7027,      0.7037,      0.7047,     0.70571,     0.70671,     0.70771,     0.70871,     0.70971,     0.71071,     0.71171,     0.71271,     0.71371,     0.71471,     0.71572,     0.71672,     0.71772,     0.71872,     0.71972,\n",
       "           0.72072,     0.72172,     0.72272,     0.72372,     0.72472,     0.72573,     0.72673,     0.72773,     0.72873,     0.72973,     0.73073,     0.73173,     0.73273,     0.73373,     0.73473,     0.73574,     0.73674,     0.73774,     0.73874,     0.73974,     0.74074,     0.74174,     0.74274,     0.74374,\n",
       "           0.74474,     0.74575,     0.74675,     0.74775,     0.74875,     0.74975,     0.75075,     0.75175,     0.75275,     0.75375,     0.75475,     0.75576,     0.75676,     0.75776,     0.75876,     0.75976,     0.76076,     0.76176,     0.76276,     0.76376,     0.76476,     0.76577,     0.76677,     0.76777,\n",
       "           0.76877,     0.76977,     0.77077,     0.77177,     0.77277,     0.77377,     0.77477,     0.77578,     0.77678,     0.77778,     0.77878,     0.77978,     0.78078,     0.78178,     0.78278,     0.78378,     0.78478,     0.78579,     0.78679,     0.78779,     0.78879,     0.78979,     0.79079,     0.79179,\n",
       "           0.79279,     0.79379,     0.79479,      0.7958,      0.7968,      0.7978,      0.7988,      0.7998,      0.8008,      0.8018,      0.8028,      0.8038,      0.8048,     0.80581,     0.80681,     0.80781,     0.80881,     0.80981,     0.81081,     0.81181,     0.81281,     0.81381,     0.81481,     0.81582,\n",
       "           0.81682,     0.81782,     0.81882,     0.81982,     0.82082,     0.82182,     0.82282,     0.82382,     0.82482,     0.82583,     0.82683,     0.82783,     0.82883,     0.82983,     0.83083,     0.83183,     0.83283,     0.83383,     0.83483,     0.83584,     0.83684,     0.83784,     0.83884,     0.83984,\n",
       "           0.84084,     0.84184,     0.84284,     0.84384,     0.84484,     0.84585,     0.84685,     0.84785,     0.84885,     0.84985,     0.85085,     0.85185,     0.85285,     0.85385,     0.85485,     0.85586,     0.85686,     0.85786,     0.85886,     0.85986,     0.86086,     0.86186,     0.86286,     0.86386,\n",
       "           0.86486,     0.86587,     0.86687,     0.86787,     0.86887,     0.86987,     0.87087,     0.87187,     0.87287,     0.87387,     0.87487,     0.87588,     0.87688,     0.87788,     0.87888,     0.87988,     0.88088,     0.88188,     0.88288,     0.88388,     0.88488,     0.88589,     0.88689,     0.88789,\n",
       "           0.88889,     0.88989,     0.89089,     0.89189,     0.89289,     0.89389,     0.89489,      0.8959,      0.8969,      0.8979,      0.8989,      0.8999,      0.9009,      0.9019,      0.9029,      0.9039,      0.9049,     0.90591,     0.90691,     0.90791,     0.90891,     0.90991,     0.91091,     0.91191,\n",
       "           0.91291,     0.91391,     0.91491,     0.91592,     0.91692,     0.91792,     0.91892,     0.91992,     0.92092,     0.92192,     0.92292,     0.92392,     0.92492,     0.92593,     0.92693,     0.92793,     0.92893,     0.92993,     0.93093,     0.93193,     0.93293,     0.93393,     0.93493,     0.93594,\n",
       "           0.93694,     0.93794,     0.93894,     0.93994,     0.94094,     0.94194,     0.94294,     0.94394,     0.94494,     0.94595,     0.94695,     0.94795,     0.94895,     0.94995,     0.95095,     0.95195,     0.95295,     0.95395,     0.95495,     0.95596,     0.95696,     0.95796,     0.95896,     0.95996,\n",
       "           0.96096,     0.96196,     0.96296,     0.96396,     0.96496,     0.96597,     0.96697,     0.96797,     0.96897,     0.96997,     0.97097,     0.97197,     0.97297,     0.97397,     0.97497,     0.97598,     0.97698,     0.97798,     0.97898,     0.97998,     0.98098,     0.98198,     0.98298,     0.98398,\n",
       "           0.98498,     0.98599,     0.98699,     0.98799,     0.98899,     0.98999,     0.99099,     0.99199,     0.99299,     0.99399,     0.99499,       0.996,       0.997,       0.998,       0.999,           1]), array([[  0.0058122,   0.0058186,    0.011761,    0.018297,    0.026584,     0.03646,    0.048294,    0.060711,    0.072054,    0.086731,     0.10028,     0.11342,     0.12541,     0.13793,     0.15204,     0.16655,     0.17681,     0.19039,     0.20117,     0.21153,     0.22349,     0.23172,     0.24067,\n",
       "            0.24773,     0.25211,     0.26032,     0.26897,     0.27461,     0.27694,     0.28338,     0.28895,     0.29514,     0.30103,     0.30606,     0.31098,     0.31589,     0.32243,     0.32447,     0.32959,     0.33655,     0.34424,     0.35025,     0.35493,      0.3627,     0.36551,     0.36961,\n",
       "            0.37383,     0.37606,     0.38076,     0.38923,     0.39811,     0.40253,     0.40428,     0.40702,     0.41044,     0.41407,     0.42402,     0.42601,     0.42493,     0.43132,     0.43412,     0.43889,     0.44135,     0.44896,     0.45719,     0.46115,     0.46242,     0.46602,     0.47132,\n",
       "            0.47375,      0.4776,     0.48338,     0.48702,     0.48803,     0.48948,     0.49573,      0.4989,     0.50468,     0.50718,     0.51271,     0.51857,     0.52193,     0.53018,     0.53211,     0.53431,     0.53977,     0.54217,     0.54695,     0.54894,     0.55089,     0.55281,     0.55375,\n",
       "            0.55468,     0.55561,     0.55632,     0.55652,     0.55673,     0.55694,     0.55715,     0.55736,     0.55756,     0.55777,     0.55798,     0.55819,      0.5584,      0.5586,     0.55881,     0.55902,     0.55923,     0.55944,     0.55965,     0.56064,      0.5624,     0.56381,     0.56485,\n",
       "            0.56588,      0.5689,     0.57156,     0.57264,     0.57372,      0.5786,     0.58059,       0.582,     0.58269,     0.58337,     0.58406,     0.58475,     0.58543,     0.58722,     0.58918,     0.59063,     0.59202,     0.59336,     0.59381,     0.59426,     0.59472,     0.59517,     0.59562,\n",
       "            0.59608,     0.59653,     0.59698,     0.59795,     0.60039,     0.60211,     0.60337,     0.60462,     0.60552,     0.60576,       0.606,     0.60624,     0.60648,     0.60671,     0.60695,     0.60719,     0.60743,     0.60767,     0.60791,     0.60814,     0.60838,     0.60862,     0.60886,\n",
       "             0.6091,     0.60933,     0.60957,     0.61369,      0.6182,     0.62052,     0.62243,     0.62271,       0.623,     0.62328,     0.62356,     0.62384,     0.62412,      0.6244,     0.62468,     0.62496,     0.62524,     0.62552,      0.6258,     0.62609,     0.62637,     0.62665,     0.62888,\n",
       "            0.63075,     0.62941,     0.62869,       0.629,     0.62931,     0.62962,     0.62993,     0.63024,     0.63055,     0.63086,     0.63117,     0.63148,     0.63179,      0.6321,     0.63241,     0.63272,     0.63303,     0.63502,     0.63744,     0.63873,     0.63988,     0.64104,      0.6422,\n",
       "              0.643,     0.64375,      0.6445,     0.64525,       0.646,     0.64675,     0.64719,      0.6474,     0.64762,     0.64784,     0.64806,     0.64828,      0.6485,     0.64871,     0.64893,     0.64915,     0.64937,     0.64959,     0.64981,     0.65002,     0.65024,     0.65046,     0.65068,\n",
       "             0.6509,     0.65111,     0.65133,     0.65155,     0.65177,     0.65357,     0.65632,     0.65465,     0.65568,     0.65671,     0.65774,     0.65877,     0.65935,     0.65973,     0.66011,     0.66049,     0.66087,     0.66124,     0.66162,       0.662,     0.66238,     0.66276,     0.66314,\n",
       "            0.66352,      0.6639,      0.6651,     0.66754,     0.66936,     0.66976,     0.67017,     0.67058,     0.67099,      0.6714,      0.6718,     0.67221,     0.67262,     0.67303,     0.67344,     0.67384,     0.67425,     0.67413,     0.67365,     0.67317,     0.67269,      0.6722,     0.67272,\n",
       "            0.67538,     0.67855,     0.68268,     0.68557,     0.68786,     0.68699,     0.68613,     0.68556,     0.68585,     0.68613,     0.68642,     0.68671,       0.687,     0.68729,     0.68758,     0.68787,     0.68815,     0.68844,     0.68873,     0.68902,     0.68931,      0.6896,     0.68988,\n",
       "            0.69017,     0.69046,     0.69075,     0.69104,     0.69132,     0.69161,      0.6919,     0.69218,     0.69247,     0.69276,     0.69304,     0.69333,     0.69362,      0.6939,     0.69419,     0.69448,     0.69476,     0.69505,     0.69534,     0.69562,     0.69591,     0.69619,     0.69648,\n",
       "            0.69669,     0.69647,     0.69626,     0.69604,     0.69583,     0.69561,      0.6954,     0.69518,     0.69497,     0.69475,     0.69454,     0.69433,     0.69471,     0.69571,     0.69672,     0.69773,     0.69874,     0.69975,      0.6999,     0.69978,     0.69965,     0.69952,     0.69939,\n",
       "            0.69927,     0.69914,     0.69901,     0.69888,     0.69876,     0.69863,      0.6985,     0.69837,     0.69825,     0.69812,     0.69799,     0.69786,     0.69774,     0.69761,     0.69748,     0.69835,     0.69924,     0.70012,       0.701,     0.70189,     0.70277,     0.70371,     0.70477,\n",
       "            0.70583,     0.70689,     0.70795,     0.70901,     0.70946,     0.70955,     0.70964,     0.70973,     0.70982,     0.70991,        0.71,     0.71009,     0.71018,     0.71027,     0.71036,     0.71045,     0.71053,     0.71062,     0.71071,      0.7108,     0.71089,     0.71098,     0.71107,\n",
       "            0.71116,     0.71125,     0.71134,     0.71143,     0.71152,     0.71161,      0.7117,     0.71179,     0.71188,     0.71197,     0.71206,     0.71215,     0.71224,     0.71233,     0.71242,     0.71251,      0.7126,     0.71269,     0.71278,     0.71287,     0.71296,     0.71305,     0.71314,\n",
       "            0.71323,     0.71332,     0.71341,     0.71349,     0.71358,     0.71367,     0.71376,     0.71385,     0.71394,     0.71403,     0.71412,     0.71421,      0.7143,     0.71439,     0.71448,     0.71457,     0.71466,     0.71475,     0.71484,     0.71493,     0.71502,     0.71511,      0.7152,\n",
       "            0.71529,     0.71538,     0.71547,     0.71563,     0.71587,     0.71612,     0.71636,     0.71661,     0.71685,      0.7171,     0.71734,     0.71759,     0.71783,     0.71808,     0.71832,     0.71857,     0.71881,     0.71906,      0.7193,     0.71954,     0.71979,     0.72003,     0.72028,\n",
       "            0.72052,     0.72077,     0.72101,     0.72126,      0.7215,     0.72173,     0.72159,     0.72145,     0.72131,     0.72117,     0.72103,     0.72089,     0.72075,     0.72061,     0.72046,     0.72032,     0.72018,     0.72004,      0.7199,     0.71976,     0.71962,     0.71948,     0.71934,\n",
       "            0.71883,     0.71819,     0.71755,     0.71691,     0.71725,     0.71775,     0.71826,     0.71876,     0.71927,     0.71977,     0.72028,     0.72079,     0.72129,      0.7218,      0.7223,     0.72281,     0.72324,     0.72339,     0.72353,     0.72368,     0.72382,     0.72397,     0.72411,\n",
       "            0.72426,      0.7244,     0.72455,     0.72469,     0.72484,     0.72498,     0.72512,     0.72527,     0.72541,     0.72556,      0.7257,     0.72585,     0.72599,     0.72614,     0.72628,     0.72643,     0.72657,     0.72672,     0.72686,     0.72701,     0.72715,      0.7273,     0.72744,\n",
       "            0.72759,     0.72773,     0.72787,     0.72802,     0.72816,     0.72831,     0.72845,      0.7286,     0.72874,     0.72889,     0.72903,     0.72918,     0.72932,     0.72947,     0.72961,     0.72986,      0.7306,     0.73133,     0.73206,     0.73279,     0.73353,     0.73426,     0.73499,\n",
       "            0.73572,     0.73598,     0.73415,     0.73477,      0.7354,     0.73603,     0.73666,     0.73728,     0.73791,     0.73854,     0.73916,     0.73979,     0.74042,     0.74108,     0.74178,     0.74247,     0.74317,     0.74386,     0.74456,     0.74526,     0.74595,     0.74665,     0.74735,\n",
       "            0.74761,     0.74752,     0.74742,     0.74732,     0.74723,     0.74713,     0.74703,     0.74694,     0.74684,     0.74675,     0.74665,     0.74655,     0.74646,     0.74636,     0.74626,     0.74617,     0.74607,     0.74598,     0.74588,     0.74578,     0.74569,     0.74559,      0.7455,\n",
       "             0.7454,      0.7453,     0.74559,     0.74597,     0.74636,     0.74675,     0.74713,     0.74752,     0.74791,     0.74829,     0.74868,     0.74907,     0.74946,     0.74984,     0.75023,     0.75062,       0.751,     0.75139,     0.75178,     0.75216,     0.75225,     0.75195,     0.75165,\n",
       "            0.75134,     0.75104,     0.75074,     0.75044,     0.75014,     0.74977,     0.74935,     0.74892,      0.7485,     0.74808,     0.74765,     0.74749,     0.74738,     0.74728,     0.74717,     0.74707,     0.74696,     0.74685,     0.74675,     0.74664,     0.74654,     0.74643,     0.74633,\n",
       "            0.74622,     0.74612,     0.74601,      0.7459,      0.7458,     0.74569,     0.74559,     0.74548,     0.74538,     0.74527,     0.74517,     0.74498,     0.74465,     0.74432,     0.74399,     0.74366,     0.74334,     0.74301,     0.74268,     0.74379,     0.74557,     0.74734,     0.74911,\n",
       "            0.75746,      0.7569,     0.75635,     0.75579,     0.75524,      0.7569,     0.75929,     0.76169,     0.76036,     0.76005,     0.75974,     0.75944,     0.75913,     0.75883,     0.75852,     0.75821,     0.75791,     0.75769,     0.75748,     0.75727,     0.75706,     0.75685,     0.75663,\n",
       "            0.75642,     0.75621,       0.756,     0.75579,     0.75558,     0.75536,     0.75747,     0.76022,     0.76297,     0.76365,     0.76389,     0.76414,     0.76439,     0.76464,     0.76489,     0.76514,     0.76538,     0.76563,     0.76588,     0.76613,     0.76638,     0.76663,     0.76687,\n",
       "            0.76712,     0.76737,     0.76762,     0.76787,     0.76812,     0.76836,     0.76861,     0.76886,     0.76911,     0.76936,     0.76961,     0.76985,      0.7701,     0.77035,      0.7706,     0.77085,      0.7711,     0.77134,     0.77159,     0.77224,     0.77347,     0.77469,     0.77591,\n",
       "            0.77714,     0.77836,     0.77958,     0.78013,     0.77994,     0.77975,     0.77956,     0.77937,     0.77918,     0.77899,      0.7788,     0.77861,     0.77842,     0.77824,     0.77805,     0.77786,     0.77719,     0.77617,     0.77525,       0.775,     0.77474,     0.77449,     0.77423,\n",
       "            0.77398,     0.77373,     0.77347,     0.77322,     0.77296,     0.77277,     0.77327,     0.77378,     0.77429,      0.7748,      0.7753,     0.77581,     0.77632,     0.77683,     0.77734,     0.77784,     0.77835,     0.77886,     0.77937,     0.77988,     0.78038,     0.78089,      0.7814,\n",
       "            0.79057,     0.79027,     0.78996,     0.78966,     0.78935,     0.78904,     0.78874,     0.78843,      0.7881,     0.78771,     0.78732,     0.78693,     0.78654,     0.78615,     0.78576,     0.78416,      0.7876,     0.79231,     0.79158,     0.79086,     0.79013,     0.79072,     0.79133,\n",
       "            0.79193,     0.79254,     0.79314,     0.79374,     0.79435,     0.79495,     0.79556,     0.79616,     0.79677,     0.79737,     0.79797,     0.79858,     0.79918,     0.79979,     0.79748,     0.79493,     0.79566,     0.79639,     0.79712,     0.79785,     0.79858,      0.7993,     0.80003,\n",
       "            0.80076,     0.80149,     0.80222,     0.80295,     0.80368,      0.8044,     0.80513,     0.80494,     0.80465,     0.80437,     0.80409,     0.80381,     0.80353,     0.80324,     0.80296,     0.80268,     0.80236,     0.80203,      0.8017,     0.80137,     0.80104,     0.80071,     0.80038,\n",
       "            0.80005,     0.79963,      0.7992,     0.79877,     0.79834,     0.79791,     0.79748,     0.79687,     0.79613,      0.7954,     0.79466,     0.79427,     0.79397,     0.79367,     0.79336,     0.79306,     0.79276,     0.79245,     0.79215,     0.79185,     0.79104,      0.7895,     0.78823,\n",
       "            0.78723,     0.78624,     0.78549,     0.78502,     0.78455,     0.78408,     0.78361,     0.78314,     0.78267,     0.78411,     0.78585,     0.78759,     0.78933,     0.79107,     0.79281,     0.79732,     0.80584,     0.80545,     0.80506,     0.80467,     0.80427,     0.80388,     0.80349,\n",
       "             0.8031,     0.80377,     0.80466,     0.80556,     0.80645,     0.80734,     0.80823,     0.80912,     0.81001,     0.81091,      0.8118,     0.81269,     0.81358,     0.81447,     0.81536,     0.81494,     0.81448,     0.81403,     0.81357,     0.81312,     0.81266,     0.81115,     0.80929,\n",
       "            0.80828,     0.80727,     0.81303,     0.81655,     0.81633,     0.81611,     0.81589,     0.81567,     0.81545,     0.81523,     0.81502,      0.8148,     0.81458,     0.81436,     0.81414,     0.81392,      0.8137,     0.81022,     0.82133,     0.81975,     0.81818,     0.81737,     0.81657,\n",
       "            0.81576,     0.81495,     0.81196,     0.81374,     0.81551,     0.81729,     0.81906,     0.82084,     0.82262,     0.82439,     0.82617,     0.82639,     0.82547,     0.82454,     0.82362,     0.82238,     0.82111,     0.81986,     0.81875,     0.81764,     0.81652,     0.81549,     0.81448,\n",
       "            0.81347,     0.81244,     0.81108,     0.80971,     0.80836,     0.80711,     0.80586,     0.80461,     0.80146,     0.79826,     0.79506,     0.78806,     0.78544,     0.78477,      0.7841,     0.78343,     0.78276,     0.78209,     0.78142,     0.78075,     0.80868,     0.82269,     0.82897,\n",
       "            0.83525,     0.84153,     0.83612,     0.84476,     0.85633,     0.90903,     0.90823,     0.90743,     0.90663,     0.92637,           1]]), 'Confidence', 'Precision'], [array([          0,    0.001001,    0.002002,    0.003003,    0.004004,    0.005005,    0.006006,    0.007007,    0.008008,    0.009009,     0.01001,    0.011011,    0.012012,    0.013013,    0.014014,    0.015015,    0.016016,    0.017017,    0.018018,    0.019019,     0.02002,    0.021021,    0.022022,    0.023023,\n",
       "          0.024024,    0.025025,    0.026026,    0.027027,    0.028028,    0.029029,     0.03003,    0.031031,    0.032032,    0.033033,    0.034034,    0.035035,    0.036036,    0.037037,    0.038038,    0.039039,     0.04004,    0.041041,    0.042042,    0.043043,    0.044044,    0.045045,    0.046046,    0.047047,\n",
       "          0.048048,    0.049049,     0.05005,    0.051051,    0.052052,    0.053053,    0.054054,    0.055055,    0.056056,    0.057057,    0.058058,    0.059059,     0.06006,    0.061061,    0.062062,    0.063063,    0.064064,    0.065065,    0.066066,    0.067067,    0.068068,    0.069069,     0.07007,    0.071071,\n",
       "          0.072072,    0.073073,    0.074074,    0.075075,    0.076076,    0.077077,    0.078078,    0.079079,     0.08008,    0.081081,    0.082082,    0.083083,    0.084084,    0.085085,    0.086086,    0.087087,    0.088088,    0.089089,     0.09009,    0.091091,    0.092092,    0.093093,    0.094094,    0.095095,\n",
       "          0.096096,    0.097097,    0.098098,    0.099099,      0.1001,      0.1011,      0.1021,      0.1031,      0.1041,     0.10511,     0.10611,     0.10711,     0.10811,     0.10911,     0.11011,     0.11111,     0.11211,     0.11311,     0.11411,     0.11512,     0.11612,     0.11712,     0.11812,     0.11912,\n",
       "           0.12012,     0.12112,     0.12212,     0.12312,     0.12412,     0.12513,     0.12613,     0.12713,     0.12813,     0.12913,     0.13013,     0.13113,     0.13213,     0.13313,     0.13413,     0.13514,     0.13614,     0.13714,     0.13814,     0.13914,     0.14014,     0.14114,     0.14214,     0.14314,\n",
       "           0.14414,     0.14515,     0.14615,     0.14715,     0.14815,     0.14915,     0.15015,     0.15115,     0.15215,     0.15315,     0.15415,     0.15516,     0.15616,     0.15716,     0.15816,     0.15916,     0.16016,     0.16116,     0.16216,     0.16316,     0.16416,     0.16517,     0.16617,     0.16717,\n",
       "           0.16817,     0.16917,     0.17017,     0.17117,     0.17217,     0.17317,     0.17417,     0.17518,     0.17618,     0.17718,     0.17818,     0.17918,     0.18018,     0.18118,     0.18218,     0.18318,     0.18418,     0.18519,     0.18619,     0.18719,     0.18819,     0.18919,     0.19019,     0.19119,\n",
       "           0.19219,     0.19319,     0.19419,      0.1952,      0.1962,      0.1972,      0.1982,      0.1992,      0.2002,      0.2012,      0.2022,      0.2032,      0.2042,     0.20521,     0.20621,     0.20721,     0.20821,     0.20921,     0.21021,     0.21121,     0.21221,     0.21321,     0.21421,     0.21522,\n",
       "           0.21622,     0.21722,     0.21822,     0.21922,     0.22022,     0.22122,     0.22222,     0.22322,     0.22422,     0.22523,     0.22623,     0.22723,     0.22823,     0.22923,     0.23023,     0.23123,     0.23223,     0.23323,     0.23423,     0.23524,     0.23624,     0.23724,     0.23824,     0.23924,\n",
       "           0.24024,     0.24124,     0.24224,     0.24324,     0.24424,     0.24525,     0.24625,     0.24725,     0.24825,     0.24925,     0.25025,     0.25125,     0.25225,     0.25325,     0.25425,     0.25526,     0.25626,     0.25726,     0.25826,     0.25926,     0.26026,     0.26126,     0.26226,     0.26326,\n",
       "           0.26426,     0.26527,     0.26627,     0.26727,     0.26827,     0.26927,     0.27027,     0.27127,     0.27227,     0.27327,     0.27427,     0.27528,     0.27628,     0.27728,     0.27828,     0.27928,     0.28028,     0.28128,     0.28228,     0.28328,     0.28428,     0.28529,     0.28629,     0.28729,\n",
       "           0.28829,     0.28929,     0.29029,     0.29129,     0.29229,     0.29329,     0.29429,      0.2953,      0.2963,      0.2973,      0.2983,      0.2993,      0.3003,      0.3013,      0.3023,      0.3033,      0.3043,     0.30531,     0.30631,     0.30731,     0.30831,     0.30931,     0.31031,     0.31131,\n",
       "           0.31231,     0.31331,     0.31431,     0.31532,     0.31632,     0.31732,     0.31832,     0.31932,     0.32032,     0.32132,     0.32232,     0.32332,     0.32432,     0.32533,     0.32633,     0.32733,     0.32833,     0.32933,     0.33033,     0.33133,     0.33233,     0.33333,     0.33433,     0.33534,\n",
       "           0.33634,     0.33734,     0.33834,     0.33934,     0.34034,     0.34134,     0.34234,     0.34334,     0.34434,     0.34535,     0.34635,     0.34735,     0.34835,     0.34935,     0.35035,     0.35135,     0.35235,     0.35335,     0.35435,     0.35536,     0.35636,     0.35736,     0.35836,     0.35936,\n",
       "           0.36036,     0.36136,     0.36236,     0.36336,     0.36436,     0.36537,     0.36637,     0.36737,     0.36837,     0.36937,     0.37037,     0.37137,     0.37237,     0.37337,     0.37437,     0.37538,     0.37638,     0.37738,     0.37838,     0.37938,     0.38038,     0.38138,     0.38238,     0.38338,\n",
       "           0.38438,     0.38539,     0.38639,     0.38739,     0.38839,     0.38939,     0.39039,     0.39139,     0.39239,     0.39339,     0.39439,      0.3954,      0.3964,      0.3974,      0.3984,      0.3994,      0.4004,      0.4014,      0.4024,      0.4034,      0.4044,     0.40541,     0.40641,     0.40741,\n",
       "           0.40841,     0.40941,     0.41041,     0.41141,     0.41241,     0.41341,     0.41441,     0.41542,     0.41642,     0.41742,     0.41842,     0.41942,     0.42042,     0.42142,     0.42242,     0.42342,     0.42442,     0.42543,     0.42643,     0.42743,     0.42843,     0.42943,     0.43043,     0.43143,\n",
       "           0.43243,     0.43343,     0.43443,     0.43544,     0.43644,     0.43744,     0.43844,     0.43944,     0.44044,     0.44144,     0.44244,     0.44344,     0.44444,     0.44545,     0.44645,     0.44745,     0.44845,     0.44945,     0.45045,     0.45145,     0.45245,     0.45345,     0.45445,     0.45546,\n",
       "           0.45646,     0.45746,     0.45846,     0.45946,     0.46046,     0.46146,     0.46246,     0.46346,     0.46446,     0.46547,     0.46647,     0.46747,     0.46847,     0.46947,     0.47047,     0.47147,     0.47247,     0.47347,     0.47447,     0.47548,     0.47648,     0.47748,     0.47848,     0.47948,\n",
       "           0.48048,     0.48148,     0.48248,     0.48348,     0.48448,     0.48549,     0.48649,     0.48749,     0.48849,     0.48949,     0.49049,     0.49149,     0.49249,     0.49349,     0.49449,      0.4955,      0.4965,      0.4975,      0.4985,      0.4995,      0.5005,      0.5015,      0.5025,      0.5035,\n",
       "            0.5045,     0.50551,     0.50651,     0.50751,     0.50851,     0.50951,     0.51051,     0.51151,     0.51251,     0.51351,     0.51451,     0.51552,     0.51652,     0.51752,     0.51852,     0.51952,     0.52052,     0.52152,     0.52252,     0.52352,     0.52452,     0.52553,     0.52653,     0.52753,\n",
       "           0.52853,     0.52953,     0.53053,     0.53153,     0.53253,     0.53353,     0.53453,     0.53554,     0.53654,     0.53754,     0.53854,     0.53954,     0.54054,     0.54154,     0.54254,     0.54354,     0.54454,     0.54555,     0.54655,     0.54755,     0.54855,     0.54955,     0.55055,     0.55155,\n",
       "           0.55255,     0.55355,     0.55455,     0.55556,     0.55656,     0.55756,     0.55856,     0.55956,     0.56056,     0.56156,     0.56256,     0.56356,     0.56456,     0.56557,     0.56657,     0.56757,     0.56857,     0.56957,     0.57057,     0.57157,     0.57257,     0.57357,     0.57457,     0.57558,\n",
       "           0.57658,     0.57758,     0.57858,     0.57958,     0.58058,     0.58158,     0.58258,     0.58358,     0.58458,     0.58559,     0.58659,     0.58759,     0.58859,     0.58959,     0.59059,     0.59159,     0.59259,     0.59359,     0.59459,      0.5956,      0.5966,      0.5976,      0.5986,      0.5996,\n",
       "            0.6006,      0.6016,      0.6026,      0.6036,      0.6046,     0.60561,     0.60661,     0.60761,     0.60861,     0.60961,     0.61061,     0.61161,     0.61261,     0.61361,     0.61461,     0.61562,     0.61662,     0.61762,     0.61862,     0.61962,     0.62062,     0.62162,     0.62262,     0.62362,\n",
       "           0.62462,     0.62563,     0.62663,     0.62763,     0.62863,     0.62963,     0.63063,     0.63163,     0.63263,     0.63363,     0.63463,     0.63564,     0.63664,     0.63764,     0.63864,     0.63964,     0.64064,     0.64164,     0.64264,     0.64364,     0.64464,     0.64565,     0.64665,     0.64765,\n",
       "           0.64865,     0.64965,     0.65065,     0.65165,     0.65265,     0.65365,     0.65465,     0.65566,     0.65666,     0.65766,     0.65866,     0.65966,     0.66066,     0.66166,     0.66266,     0.66366,     0.66466,     0.66567,     0.66667,     0.66767,     0.66867,     0.66967,     0.67067,     0.67167,\n",
       "           0.67267,     0.67367,     0.67467,     0.67568,     0.67668,     0.67768,     0.67868,     0.67968,     0.68068,     0.68168,     0.68268,     0.68368,     0.68468,     0.68569,     0.68669,     0.68769,     0.68869,     0.68969,     0.69069,     0.69169,     0.69269,     0.69369,     0.69469,      0.6957,\n",
       "            0.6967,      0.6977,      0.6987,      0.6997,      0.7007,      0.7017,      0.7027,      0.7037,      0.7047,     0.70571,     0.70671,     0.70771,     0.70871,     0.70971,     0.71071,     0.71171,     0.71271,     0.71371,     0.71471,     0.71572,     0.71672,     0.71772,     0.71872,     0.71972,\n",
       "           0.72072,     0.72172,     0.72272,     0.72372,     0.72472,     0.72573,     0.72673,     0.72773,     0.72873,     0.72973,     0.73073,     0.73173,     0.73273,     0.73373,     0.73473,     0.73574,     0.73674,     0.73774,     0.73874,     0.73974,     0.74074,     0.74174,     0.74274,     0.74374,\n",
       "           0.74474,     0.74575,     0.74675,     0.74775,     0.74875,     0.74975,     0.75075,     0.75175,     0.75275,     0.75375,     0.75475,     0.75576,     0.75676,     0.75776,     0.75876,     0.75976,     0.76076,     0.76176,     0.76276,     0.76376,     0.76476,     0.76577,     0.76677,     0.76777,\n",
       "           0.76877,     0.76977,     0.77077,     0.77177,     0.77277,     0.77377,     0.77477,     0.77578,     0.77678,     0.77778,     0.77878,     0.77978,     0.78078,     0.78178,     0.78278,     0.78378,     0.78478,     0.78579,     0.78679,     0.78779,     0.78879,     0.78979,     0.79079,     0.79179,\n",
       "           0.79279,     0.79379,     0.79479,      0.7958,      0.7968,      0.7978,      0.7988,      0.7998,      0.8008,      0.8018,      0.8028,      0.8038,      0.8048,     0.80581,     0.80681,     0.80781,     0.80881,     0.80981,     0.81081,     0.81181,     0.81281,     0.81381,     0.81481,     0.81582,\n",
       "           0.81682,     0.81782,     0.81882,     0.81982,     0.82082,     0.82182,     0.82282,     0.82382,     0.82482,     0.82583,     0.82683,     0.82783,     0.82883,     0.82983,     0.83083,     0.83183,     0.83283,     0.83383,     0.83483,     0.83584,     0.83684,     0.83784,     0.83884,     0.83984,\n",
       "           0.84084,     0.84184,     0.84284,     0.84384,     0.84484,     0.84585,     0.84685,     0.84785,     0.84885,     0.84985,     0.85085,     0.85185,     0.85285,     0.85385,     0.85485,     0.85586,     0.85686,     0.85786,     0.85886,     0.85986,     0.86086,     0.86186,     0.86286,     0.86386,\n",
       "           0.86486,     0.86587,     0.86687,     0.86787,     0.86887,     0.86987,     0.87087,     0.87187,     0.87287,     0.87387,     0.87487,     0.87588,     0.87688,     0.87788,     0.87888,     0.87988,     0.88088,     0.88188,     0.88288,     0.88388,     0.88488,     0.88589,     0.88689,     0.88789,\n",
       "           0.88889,     0.88989,     0.89089,     0.89189,     0.89289,     0.89389,     0.89489,      0.8959,      0.8969,      0.8979,      0.8989,      0.8999,      0.9009,      0.9019,      0.9029,      0.9039,      0.9049,     0.90591,     0.90691,     0.90791,     0.90891,     0.90991,     0.91091,     0.91191,\n",
       "           0.91291,     0.91391,     0.91491,     0.91592,     0.91692,     0.91792,     0.91892,     0.91992,     0.92092,     0.92192,     0.92292,     0.92392,     0.92492,     0.92593,     0.92693,     0.92793,     0.92893,     0.92993,     0.93093,     0.93193,     0.93293,     0.93393,     0.93493,     0.93594,\n",
       "           0.93694,     0.93794,     0.93894,     0.93994,     0.94094,     0.94194,     0.94294,     0.94394,     0.94494,     0.94595,     0.94695,     0.94795,     0.94895,     0.94995,     0.95095,     0.95195,     0.95295,     0.95395,     0.95495,     0.95596,     0.95696,     0.95796,     0.95896,     0.95996,\n",
       "           0.96096,     0.96196,     0.96296,     0.96396,     0.96496,     0.96597,     0.96697,     0.96797,     0.96897,     0.96997,     0.97097,     0.97197,     0.97297,     0.97397,     0.97497,     0.97598,     0.97698,     0.97798,     0.97898,     0.97998,     0.98098,     0.98198,     0.98298,     0.98398,\n",
       "           0.98498,     0.98599,     0.98699,     0.98799,     0.98899,     0.98999,     0.99099,     0.99199,     0.99299,     0.99399,     0.99499,       0.996,       0.997,       0.998,       0.999,           1]), array([[    0.98958,     0.98958,     0.97917,     0.97917,     0.97917,     0.96875,     0.96875,     0.96875,     0.95833,     0.95833,     0.95833,     0.95833,     0.95833,     0.95833,     0.95833,     0.95833,     0.94792,     0.94792,     0.94792,     0.94792,     0.94792,     0.94792,     0.94792,\n",
       "            0.94792,     0.94792,     0.94792,     0.94792,     0.94792,     0.94792,     0.94792,     0.94792,     0.94649,      0.9375,      0.9375,      0.9375,      0.9375,      0.9375,      0.9375,      0.9375,      0.9375,      0.9375,      0.9375,      0.9375,      0.9375,      0.9375,      0.9375,\n",
       "             0.9375,      0.9375,      0.9375,      0.9375,      0.9375,      0.9375,      0.9375,      0.9375,      0.9375,      0.9375,      0.9375,     0.93546,     0.92708,     0.92708,     0.92708,     0.92708,     0.92708,     0.92708,     0.92708,     0.92708,     0.92708,     0.92708,     0.92708,\n",
       "            0.92708,     0.92708,     0.92708,     0.92708,     0.92708,     0.92708,     0.92708,     0.92708,     0.92708,     0.92708,     0.92708,     0.92708,     0.92708,     0.92708,     0.92708,     0.92708,     0.92708,     0.92708,     0.92708,     0.92708,     0.92708,     0.92708,     0.92708,\n",
       "            0.92708,     0.92708,     0.92708,     0.92708,     0.92708,     0.92708,     0.92708,     0.92708,     0.92708,     0.92708,     0.92708,     0.92708,     0.92708,     0.92708,     0.92708,     0.92708,     0.92708,     0.92708,     0.92708,     0.92708,     0.92708,     0.92708,     0.92708,\n",
       "            0.92708,     0.92708,     0.92708,     0.92708,     0.92708,     0.92708,     0.92708,     0.92708,     0.92708,     0.92708,     0.92708,     0.92708,     0.92708,     0.92708,     0.92708,     0.92708,     0.92708,     0.92708,     0.92708,     0.92708,     0.92708,     0.92708,     0.92708,\n",
       "            0.92708,     0.92708,     0.92708,     0.92708,     0.92708,     0.92708,     0.92708,     0.92708,     0.92708,     0.92708,     0.92708,     0.92708,     0.92708,     0.92708,     0.92708,     0.92708,     0.92708,     0.92708,     0.92708,     0.92708,     0.92708,     0.92708,     0.92708,\n",
       "            0.92708,     0.92708,     0.92708,     0.92708,     0.92708,     0.92708,     0.92708,     0.92708,     0.92708,     0.92708,     0.92708,     0.92708,     0.92708,     0.92708,     0.92708,     0.92708,     0.92708,     0.92708,     0.92708,     0.92708,     0.92708,     0.92708,     0.92708,\n",
       "            0.92528,     0.91997,     0.91667,     0.91667,     0.91667,     0.91667,     0.91667,     0.91667,     0.91667,     0.91667,     0.91667,     0.91667,     0.91667,     0.91667,     0.91667,     0.91667,     0.91667,     0.91667,     0.91667,     0.91667,     0.91667,     0.91667,     0.91667,\n",
       "            0.91667,     0.91667,     0.91667,     0.91667,     0.91667,     0.91667,     0.91667,     0.91667,     0.91667,     0.91667,     0.91667,     0.91667,     0.91667,     0.91667,     0.91667,     0.91667,     0.91667,     0.91667,     0.91667,     0.91667,     0.91667,     0.91667,     0.91667,\n",
       "            0.91667,     0.91667,     0.91667,     0.91667,     0.91667,     0.91667,     0.91667,     0.90625,     0.90625,     0.90625,     0.90625,     0.90625,     0.90625,     0.90625,     0.90625,     0.90625,     0.90625,     0.90625,     0.90625,     0.90625,     0.90625,     0.90625,     0.90625,\n",
       "            0.90625,     0.90625,     0.90625,     0.90625,     0.90625,     0.90625,     0.90625,     0.90625,     0.90625,     0.90625,     0.90625,     0.90625,     0.90625,     0.90625,     0.90625,     0.90625,     0.90625,     0.90508,     0.90311,     0.90113,     0.89916,     0.89718,     0.89583,\n",
       "            0.89583,     0.89583,     0.89583,     0.89583,     0.89526,     0.89167,     0.88808,     0.88542,     0.88542,     0.88542,     0.88542,     0.88542,     0.88542,     0.88542,     0.88542,     0.88542,     0.88542,     0.88542,     0.88542,     0.88542,     0.88542,     0.88542,     0.88542,\n",
       "            0.88542,     0.88542,     0.88542,     0.88542,     0.88542,     0.88542,     0.88542,     0.88542,     0.88542,     0.88542,     0.88542,     0.88542,     0.88542,     0.88542,     0.88542,     0.88542,     0.88542,     0.88542,     0.88542,     0.88542,     0.88542,     0.88542,     0.88542,\n",
       "            0.88527,     0.88438,     0.88349,      0.8826,      0.8817,     0.88081,     0.87992,     0.87903,     0.87813,     0.87724,     0.87635,     0.87546,       0.875,       0.875,       0.875,       0.875,       0.875,       0.875,      0.8746,     0.87408,     0.87355,     0.87302,      0.8725,\n",
       "            0.87197,     0.87144,     0.87091,     0.87039,     0.86986,     0.86933,     0.86881,     0.86828,     0.86775,     0.86722,      0.8667,     0.86617,     0.86564,     0.86512,     0.86459,     0.86458,     0.86458,     0.86458,     0.86458,     0.86458,     0.86458,     0.86458,     0.86458,\n",
       "            0.86458,     0.86458,     0.86458,     0.86458,     0.86458,     0.86458,     0.86458,     0.86458,     0.86458,     0.86458,     0.86458,     0.86458,     0.86458,     0.86458,     0.86458,     0.86458,     0.86458,     0.86458,     0.86458,     0.86458,     0.86458,     0.86458,     0.86458,\n",
       "            0.86458,     0.86458,     0.86458,     0.86458,     0.86458,     0.86458,     0.86458,     0.86458,     0.86458,     0.86458,     0.86458,     0.86458,     0.86458,     0.86458,     0.86458,     0.86458,     0.86458,     0.86458,     0.86458,     0.86458,     0.86458,     0.86458,     0.86458,\n",
       "            0.86458,     0.86458,     0.86458,     0.86458,     0.86458,     0.86458,     0.86458,     0.86458,     0.86458,     0.86458,     0.86458,     0.86458,     0.86458,     0.86458,     0.86458,     0.86458,     0.86458,     0.86458,     0.86458,     0.86458,     0.86458,     0.86458,     0.86458,\n",
       "            0.86458,     0.86458,     0.86458,     0.86458,     0.86458,     0.86458,     0.86458,     0.86458,     0.86458,     0.86458,     0.86458,     0.86458,     0.86458,     0.86458,     0.86458,     0.86458,     0.86458,     0.86458,     0.86458,     0.86458,     0.86458,     0.86458,     0.86458,\n",
       "            0.86458,     0.86458,     0.86458,     0.86458,     0.86458,     0.86456,     0.86396,     0.86336,     0.86276,     0.86215,     0.86155,     0.86095,     0.86035,     0.85975,     0.85914,     0.85854,     0.85794,     0.85734,     0.85674,     0.85613,     0.85553,     0.85493,     0.85433,\n",
       "            0.85221,     0.84952,     0.84683,     0.84415,     0.84375,     0.84375,     0.84375,     0.84375,     0.84375,     0.84375,     0.84375,     0.84375,     0.84375,     0.84375,     0.84375,     0.84375,     0.84375,     0.84375,     0.84375,     0.84375,     0.84375,     0.84375,     0.84375,\n",
       "            0.84375,     0.84375,     0.84375,     0.84375,     0.84375,     0.84375,     0.84375,     0.84375,     0.84375,     0.84375,     0.84375,     0.84375,     0.84375,     0.84375,     0.84375,     0.84375,     0.84375,     0.84375,     0.84375,     0.84375,     0.84375,     0.84375,     0.84375,\n",
       "            0.84375,     0.84375,     0.84375,     0.84375,     0.84375,     0.84375,     0.84375,     0.84375,     0.84375,     0.84375,     0.84375,     0.84375,     0.84375,     0.84375,     0.84375,     0.84375,     0.84375,     0.84375,     0.84375,     0.84375,     0.84375,     0.84375,     0.84375,\n",
       "            0.84375,     0.84209,     0.83333,     0.83333,     0.83333,     0.83333,     0.83333,     0.83333,     0.83333,     0.83333,     0.83333,     0.83333,     0.83333,     0.83333,     0.83333,     0.83333,     0.83333,     0.83333,     0.83333,     0.83333,     0.83333,     0.83333,     0.83333,\n",
       "             0.8331,     0.83268,     0.83226,     0.83184,     0.83142,       0.831,     0.83058,     0.83016,     0.82974,     0.82932,      0.8289,     0.82848,     0.82805,     0.82763,     0.82721,     0.82679,     0.82637,     0.82595,     0.82553,     0.82511,     0.82469,     0.82427,     0.82385,\n",
       "            0.82343,     0.82301,     0.82292,     0.82292,     0.82292,     0.82292,     0.82292,     0.82292,     0.82292,     0.82292,     0.82292,     0.82292,     0.82292,     0.82292,     0.82292,     0.82292,     0.82292,     0.82292,     0.82292,     0.82292,     0.82234,     0.82102,      0.8197,\n",
       "            0.81838,     0.81706,     0.81574,     0.81442,      0.8131,     0.81151,     0.80969,     0.80788,     0.80606,     0.80425,     0.80243,     0.80172,     0.80128,     0.80084,     0.80039,     0.79995,      0.7995,     0.79906,     0.79862,     0.79817,     0.79773,     0.79728,     0.79684,\n",
       "            0.79639,     0.79595,     0.79551,     0.79506,     0.79462,     0.79417,     0.79373,     0.79328,     0.79284,      0.7924,     0.79195,     0.79118,     0.78982,     0.78846,     0.78711,     0.78575,     0.78439,     0.78303,     0.78168,     0.78125,     0.78125,     0.78125,     0.78125,\n",
       "            0.78076,     0.77842,     0.77609,     0.77375,     0.77141,     0.77083,     0.77083,     0.77083,     0.76016,      0.7589,     0.75764,     0.75637,     0.75511,     0.75384,     0.75258,     0.75131,     0.75005,     0.74918,     0.74832,     0.74747,     0.74661,     0.74576,      0.7449,\n",
       "            0.74405,     0.74319,     0.74233,     0.74148,     0.74062,     0.73977,     0.73958,     0.73958,     0.73958,     0.73958,     0.73958,     0.73958,     0.73958,     0.73958,     0.73958,     0.73958,     0.73958,     0.73958,     0.73958,     0.73958,     0.73958,     0.73958,     0.73958,\n",
       "            0.73958,     0.73958,     0.73958,     0.73958,     0.73958,     0.73958,     0.73958,     0.73958,     0.73958,     0.73958,     0.73958,     0.73958,     0.73958,     0.73958,     0.73958,     0.73958,     0.73958,     0.73958,     0.73958,     0.73958,     0.73958,     0.73958,     0.73958,\n",
       "            0.73958,     0.73958,     0.73958,      0.7392,     0.73839,     0.73758,     0.73677,     0.73596,     0.73516,     0.73435,     0.73354,     0.73273,     0.73193,     0.73112,     0.73031,      0.7295,      0.7267,     0.72248,     0.71863,     0.71759,     0.71655,     0.71552,     0.71448,\n",
       "            0.71344,      0.7124,     0.71137,     0.71033,     0.70929,     0.70833,     0.70833,     0.70833,     0.70833,     0.70833,     0.70833,     0.70833,     0.70833,     0.70833,     0.70833,     0.70833,     0.70833,     0.70833,     0.70833,     0.70833,     0.70833,     0.70833,     0.70833,\n",
       "            0.70781,     0.70651,     0.70522,     0.70393,     0.70263,     0.70134,     0.70004,     0.69875,     0.69734,     0.69574,     0.69413,     0.69252,     0.69092,     0.68931,      0.6877,     0.68121,     0.67708,     0.67556,      0.6726,     0.66965,     0.66669,     0.66667,     0.66667,\n",
       "            0.66667,     0.66667,     0.66667,     0.66667,     0.66667,     0.66667,     0.66667,     0.66667,     0.66667,     0.66667,     0.66667,     0.66667,     0.66667,     0.66667,     0.65628,     0.64583,     0.64583,     0.64583,     0.64583,     0.64583,     0.64583,     0.64583,     0.64583,\n",
       "            0.64583,     0.64583,     0.64583,     0.64583,     0.64583,     0.64583,     0.64583,     0.64478,     0.64364,     0.64249,     0.64135,      0.6402,     0.63905,     0.63791,     0.63676,     0.63562,     0.63434,     0.63303,     0.63172,     0.63042,     0.62911,      0.6278,      0.6265,\n",
       "            0.62519,     0.62358,     0.62192,     0.62027,     0.61861,     0.61695,     0.61529,     0.61299,     0.61022,     0.60745,     0.60468,     0.60326,     0.60216,     0.60105,     0.59994,     0.59883,     0.59772,     0.59662,     0.59551,      0.5944,     0.59151,     0.58606,     0.58161,\n",
       "            0.57816,     0.57472,     0.57216,     0.57059,     0.56902,     0.56744,     0.56587,     0.56429,     0.56272,      0.5625,      0.5625,      0.5625,      0.5625,      0.5625,      0.5625,      0.5625,     0.56205,     0.56066,     0.55927,     0.55788,     0.55649,      0.5551,     0.55371,\n",
       "            0.55232,     0.55208,     0.55208,     0.55208,     0.55208,     0.55208,     0.55208,     0.55208,     0.55208,     0.55208,     0.55208,     0.55208,     0.55208,     0.55208,     0.55208,     0.55048,     0.54883,     0.54719,     0.54554,      0.5439,     0.54226,     0.53695,     0.53047,\n",
       "            0.52703,     0.52359,     0.52083,     0.51002,     0.50929,     0.50855,     0.50782,     0.50708,     0.50635,     0.50562,     0.50488,     0.50415,     0.50341,     0.50268,     0.50195,     0.50121,     0.50048,      0.4892,     0.47886,     0.47379,     0.46873,     0.46624,     0.46375,\n",
       "            0.46126,     0.45876,     0.44792,     0.44792,     0.44792,     0.44792,     0.44792,     0.44792,     0.44792,     0.44792,     0.44792,     0.44629,     0.44345,     0.44061,     0.43777,     0.43411,     0.43037,     0.42669,     0.42354,     0.42038,     0.41722,      0.4144,     0.41164,\n",
       "            0.40889,      0.4061,     0.40254,     0.39898,     0.39546,     0.39233,      0.3892,     0.38607,      0.3785,     0.37102,     0.36371,     0.34864,     0.34321,     0.34187,     0.34053,      0.3392,     0.33786,     0.33652,     0.33519,     0.33385,     0.33333,     0.33333,     0.33333,\n",
       "            0.33333,     0.33333,     0.31893,      0.3125,      0.3125,     0.31226,     0.30933,      0.3064,     0.30347,     0.30208,           0]]), 'Confidence', 'Recall']]\n",
       "fitness: 0.6295761405180085\n",
       "keys: ['metrics/precision(B)', 'metrics/recall(B)', 'metrics/mAP50(B)', 'metrics/mAP50-95(B)']\n",
       "maps: array([    0.61072])\n",
       "names: {0: 'bus'}\n",
       "plot: True\n",
       "results_dict: {'metrics/precision(B)': 0.7473463930818558, 'metrics/recall(B)': 0.8333333333333334, 'metrics/mAP50(B)': 0.7992491845236332, 'metrics/mAP50-95(B)': 0.6107235800729391, 'fitness': 0.6295761405180085}\n",
       "save_dir: WindowsPath('runs/detect/train')\n",
       "speed: {'preprocess': 5.137382978725153, 'inference': 620.9740414893613, 'loss': 7.127659665321574e-05, 'postprocess': 1.9316382978718623}\n",
       "task: 'detect'"
      ]
     },
     "execution_count": 6,
     "metadata": {},
     "output_type": "execute_result"
    }
   ],
   "source": [
    "model.train(data = yaml, epochs = 2)"
   ]
  },
  {
   "cell_type": "markdown",
   "id": "6750d412-f316-4c68-96c5-d76b6cec6135",
   "metadata": {},
   "source": [
    "## YOLO"
   ]
  },
  {
   "cell_type": "code",
   "execution_count": 2,
   "id": "47f5fbc4-cb3e-4c6e-9c54-145762c238c9",
   "metadata": {},
   "outputs": [],
   "source": [
    "from ultralytics import YOLO\n",
    "import os"
   ]
  },
  {
   "cell_type": "code",
   "execution_count": 3,
   "id": "b01eeb04-c157-4abf-843e-fad8ce715cd6",
   "metadata": {},
   "outputs": [],
   "source": [
    "# get paths to TESTING YOLO IMAGES (DATE: 4/19)\n",
    "folder_path = \"./data/YOLO_test_camera_images/1546f761-039c-4b5c-af5e-75c83c9f603f/\"\n",
    "paths = []\n",
    "\n",
    "for img in os.listdir(folder_path):\n",
    "    paths.append(os.path.join(folder_path, img))"
   ]
  },
  {
   "cell_type": "code",
   "execution_count": 4,
   "id": "97190459-bb7a-45b4-a2c0-b67b0a7ff197",
   "metadata": {},
   "outputs": [],
   "source": [
    "# get best .pt model from training\n",
    "best_model = YOLO(\"./runs/detect/train/weights/best.pt\")"
   ]
  },
  {
   "cell_type": "code",
   "execution_count": 9,
   "id": "737894e0-90ba-4a89-b342-062fff0f8ca9",
   "metadata": {},
   "outputs": [
    {
     "name": "stdout",
     "output_type": "stream",
     "text": [
      "\n",
      "0: 448x640 (no detections), 704.7ms\n",
      "1: 448x640 (no detections), 704.7ms\n",
      "2: 448x640 1 bus, 704.7ms\n",
      "3: 448x640 (no detections), 704.7ms\n",
      "4: 448x640 1 bus, 704.7ms\n",
      "5: 448x640 2 buss, 704.7ms\n",
      "6: 448x640 1 bus, 704.7ms\n",
      "7: 448x640 1 bus, 704.7ms\n",
      "8: 448x640 2 buss, 704.7ms\n",
      "9: 448x640 3 buss, 704.7ms\n",
      "10: 448x640 3 buss, 704.7ms\n",
      "11: 448x640 3 buss, 704.7ms\n",
      "12: 448x640 3 buss, 704.7ms\n",
      "13: 448x640 1 bus, 704.7ms\n",
      "14: 448x640 1 bus, 704.7ms\n",
      "15: 448x640 2 buss, 704.7ms\n",
      "16: 448x640 1 bus, 704.7ms\n",
      "17: 448x640 1 bus, 704.7ms\n",
      "18: 448x640 5 buss, 704.7ms\n",
      "19: 448x640 3 buss, 704.7ms\n",
      "20: 448x640 3 buss, 704.7ms\n",
      "21: 448x640 4 buss, 704.7ms\n",
      "22: 448x640 4 buss, 704.7ms\n",
      "23: 448x640 3 buss, 704.7ms\n",
      "24: 448x640 4 buss, 704.7ms\n",
      "25: 448x640 2 buss, 704.7ms\n",
      "26: 448x640 2 buss, 704.7ms\n",
      "27: 448x640 3 buss, 704.7ms\n",
      "28: 448x640 4 buss, 704.7ms\n",
      "29: 448x640 3 buss, 704.7ms\n",
      "30: 448x640 3 buss, 704.7ms\n",
      "31: 448x640 1 bus, 704.7ms\n",
      "32: 448x640 2 buss, 704.7ms\n",
      "33: 448x640 2 buss, 704.7ms\n",
      "34: 448x640 2 buss, 704.7ms\n",
      "35: 448x640 1 bus, 704.7ms\n",
      "36: 448x640 1 bus, 704.7ms\n",
      "37: 448x640 (no detections), 704.7ms\n",
      "38: 448x640 4 buss, 704.7ms\n",
      "39: 448x640 (no detections), 704.7ms\n",
      "40: 448x640 (no detections), 704.7ms\n",
      "41: 448x640 2 buss, 704.7ms\n",
      "42: 448x640 1 bus, 704.7ms\n",
      "43: 448x640 (no detections), 704.7ms\n",
      "44: 448x640 1 bus, 704.7ms\n",
      "45: 448x640 (no detections), 704.7ms\n",
      "46: 448x640 3 buss, 704.7ms\n",
      "47: 448x640 1 bus, 704.7ms\n",
      "48: 448x640 1 bus, 704.7ms\n",
      "49: 448x640 1 bus, 704.7ms\n",
      "50: 448x640 1 bus, 704.7ms\n",
      "51: 448x640 3 buss, 704.7ms\n",
      "52: 448x640 1 bus, 704.7ms\n",
      "53: 448x640 2 buss, 704.7ms\n",
      "54: 448x640 1 bus, 704.7ms\n",
      "55: 448x640 1 bus, 704.7ms\n",
      "56: 448x640 1 bus, 704.7ms\n",
      "57: 448x640 1 bus, 704.7ms\n",
      "58: 448x640 1 bus, 704.7ms\n",
      "59: 448x640 2 buss, 704.7ms\n",
      "60: 448x640 3 buss, 704.7ms\n",
      "61: 448x640 5 buss, 704.7ms\n",
      "62: 448x640 5 buss, 704.7ms\n",
      "63: 448x640 5 buss, 704.7ms\n",
      "64: 448x640 2 buss, 704.7ms\n",
      "65: 448x640 2 buss, 704.7ms\n",
      "66: 448x640 2 buss, 704.7ms\n",
      "67: 448x640 3 buss, 704.7ms\n",
      "68: 448x640 3 buss, 704.7ms\n",
      "69: 448x640 4 buss, 704.7ms\n",
      "70: 448x640 5 buss, 704.7ms\n",
      "71: 448x640 3 buss, 704.7ms\n",
      "72: 448x640 3 buss, 704.7ms\n",
      "73: 448x640 4 buss, 704.7ms\n",
      "74: 448x640 3 buss, 704.7ms\n",
      "75: 448x640 2 buss, 704.7ms\n",
      "76: 448x640 2 buss, 704.7ms\n",
      "77: 448x640 1 bus, 704.7ms\n",
      "78: 448x640 2 buss, 704.7ms\n",
      "79: 448x640 1 bus, 704.7ms\n",
      "80: 448x640 2 buss, 704.7ms\n",
      "81: 448x640 1 bus, 704.7ms\n",
      "82: 448x640 2 buss, 704.7ms\n",
      "83: 448x640 1 bus, 704.7ms\n",
      "84: 448x640 1 bus, 704.7ms\n",
      "85: 448x640 1 bus, 704.7ms\n",
      "86: 448x640 2 buss, 704.7ms\n",
      "87: 448x640 1 bus, 704.7ms\n",
      "88: 448x640 3 buss, 704.7ms\n",
      "89: 448x640 1 bus, 704.7ms\n",
      "90: 448x640 1 bus, 704.7ms\n",
      "91: 448x640 (no detections), 704.7ms\n",
      "92: 448x640 1 bus, 704.7ms\n",
      "93: 448x640 2 buss, 704.7ms\n",
      "94: 448x640 2 buss, 704.7ms\n",
      "95: 448x640 1 bus, 704.7ms\n",
      "96: 448x640 2 buss, 704.7ms\n",
      "97: 448x640 1 bus, 704.7ms\n",
      "98: 448x640 1 bus, 704.7ms\n",
      "99: 448x640 1 bus, 704.7ms\n",
      "Speed: 7.2ms preprocess, 704.7ms inference, 2.9ms postprocess per image at shape (1, 3, 448, 640)\n",
      "Results saved to \u001b[1mruns\\detect\\inference\u001b[0m\n"
     ]
    }
   ],
   "source": [
    "# run prediction model - creates NAME folder in PROJECT path and saves annotated images\n",
    "results = best_model.predict(paths[0:100], save = True, \n",
    "                             project=\"runs/detect\", name=\"inference\", exist_ok=True)"
   ]
  },
  {
   "cell_type": "code",
   "execution_count": null,
   "id": "e6f32048-98b6-4156-b943-757868043920",
   "metadata": {},
   "outputs": [
    {
     "name": "stdout",
     "output_type": "stream",
     "text": [
      "\n"
     ]
    }
   ],
   "source": [
    "for res in results:\n",
    "    for box in result.boxes:\n",
    "      class_id = result.names[box.cls[0].item()]\n",
    "      cords = box.xyxy[0].tolist()\n",
    "      cords = [round(x) for x in cords]\n",
    "      conf = round(box.conf[0].item(), 2)\n",
    "    \n",
    "      print(\"Object type:\", class_id)\n",
    "      print(\"Coordinates:\", cords)\n",
    "      print(\"Probability:\", conf)\n",
    "      print(\"---\")"
   ]
  },
  {
   "cell_type": "code",
   "execution_count": 12,
   "id": "ccee2a7c-891f-48a5-85d1-de34ecaf3bf4",
   "metadata": {},
   "outputs": [
    {
     "name": "stdout",
     "output_type": "stream",
     "text": [
      "Object type: car\n",
      "Coordinates: [229, 61, 260, 93]\n",
      "Probability: 0.82\n",
      "---\n",
      "Object type: car\n",
      "Coordinates: [156, 50, 184, 79]\n",
      "Probability: 0.74\n",
      "---\n",
      "Object type: car\n",
      "Coordinates: [193, 47, 215, 75]\n",
      "Probability: 0.57\n",
      "---\n",
      "Object type: car\n",
      "Coordinates: [225, 35, 246, 53]\n",
      "Probability: 0.36\n",
      "---\n",
      "Object type: car\n",
      "Coordinates: [215, 23, 236, 34]\n",
      "Probability: 0.35\n",
      "---\n",
      "Object type: car\n",
      "Coordinates: [171, 28, 189, 47]\n",
      "Probability: 0.29\n",
      "---\n",
      "Object type: car\n",
      "Coordinates: [112, 62, 142, 90]\n",
      "Probability: 0.28\n",
      "---\n",
      "Object type: car\n",
      "Coordinates: [196, 26, 214, 45]\n",
      "Probability: 0.25\n",
      "---\n"
     ]
    }
   ],
   "source": [
    "result = results[0]\n",
    "# len(result.boxes)\n",
    "\n",
    "box = result.boxes[0]\n",
    "\n",
    "for box in result.boxes:\n",
    "  class_id = result.names[box.cls[0].item()]\n",
    "  cords = box.xyxy[0].tolist()\n",
    "  cords = [round(x) for x in cords]\n",
    "  conf = round(box.conf[0].item(), 2)\n",
    "\n",
    "  print(\"Object type:\", class_id)\n",
    "  print(\"Coordinates:\", cords)\n",
    "  print(\"Probability:\", conf)\n",
    "  print(\"---\")"
   ]
  }
 ],
 "metadata": {
  "kernelspec": {
   "display_name": "Python 3 (ipykernel)",
   "language": "python",
   "name": "python3"
  },
  "language_info": {
   "codemirror_mode": {
    "name": "ipython",
    "version": 3
   },
   "file_extension": ".py",
   "mimetype": "text/x-python",
   "name": "python",
   "nbconvert_exporter": "python",
   "pygments_lexer": "ipython3",
   "version": "3.12.4"
  }
 },
 "nbformat": 4,
 "nbformat_minor": 5
}
