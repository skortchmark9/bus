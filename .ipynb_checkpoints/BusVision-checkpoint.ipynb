{
 "cells": [
  {
   "cell_type": "markdown",
   "id": "8a11324b-3a95-4b78-ac51-a97cf6f84e50",
   "metadata": {},
   "source": [
    "## Formatting for YOLO Training"
   ]
  },
  {
   "cell_type": "code",
   "execution_count": 138,
   "id": "85ae34c5-617a-40c2-b109-01897edff1f0",
   "metadata": {},
   "outputs": [],
   "source": [
    "import os\n",
    "import shutil\n",
    "import random\n",
    "import numpy as np\n",
    "import yaml"
   ]
  },
  {
   "cell_type": "code",
   "execution_count": 66,
   "id": "8ac81d95-3cde-42dc-9b78-9ab2afeea6fb",
   "metadata": {},
   "outputs": [],
   "source": [
    "# pull images (+ labels) containing buses\n",
    "def pull_bus(camera):\n",
    "    # imported .txt files from CVAT AI\n",
    "    files = os.listdir(os.path.join(\"./data/annotations/\", camera, 'obj_Train_data'))\n",
    "    \n",
    "    for file in files:\n",
    "        file_path = os.path.join(\"./data/annotations/\", camera, 'obj_Train_data', file)\n",
    "        \n",
    "        # check if .txt empty (aka no annotations/buses)\n",
    "        if os.path.getsize(file_path) != 0:\n",
    "\n",
    "            # get corresponding img\n",
    "            name, ext = os.path.splitext(file)\n",
    "            img = name + \".jpg\"\n",
    "            img_path = os.path.join(\"./data/camera_images/\", camera, img)\n",
    "\n",
    "            # copy corresponding img to all_bus_images_annotations images folder\n",
    "            move_path_img = os.path.join(\"./data/bus_images_annotations/\", camera, \"images\", img)\n",
    "            shutil.copyfile(img_path, move_path_img)\n",
    "\n",
    "            # copy .txt annotation to all_bus_images_annotations annotations folder\n",
    "            move_path_txt = os.path.join(\"./data/bus_images_annotations/\",camera, \"labels\", file)\n",
    "            shutil.copyfile(file_path, move_path_txt)\n",
    "            "
   ]
  },
  {
   "cell_type": "raw",
   "id": "cfc96fbb-b95c-4d01-b960-408785b365d0",
   "metadata": {},
   "source": [
    "# EXAMPLE FILE STRUCTURE REQ FOR YOLO TRAINING\n",
    "\n",
    "|-- datasetA\n",
    "|   |-- images\n",
    "|       |-- test\n",
    "|       |-- train\n",
    "|   |-- labels\n",
    "|       |-- test\n",
    "|       |-- train\n"
   ]
  },
  {
   "cell_type": "code",
   "execution_count": 136,
   "id": "372fd01b-a45e-4735-8473-9569269148c5",
   "metadata": {},
   "outputs": [],
   "source": [
    "# sort TRAIN vs TEST\n",
    "def split_train_test(camera, split):\n",
    "\n",
    "    img_path = os.path.join(\"./data/bus_images_annotations/\", camera, \"images\")\n",
    "    label_path = os.path.join(\"./data/bus_images_annotations/\", camera, \"labels\")\n",
    "\n",
    "    # split into train vs test\n",
    "    imgs = os.listdir(img_path)\n",
    "    random.seed(42) # set random seed\n",
    "    random.shuffle(imgs) # randomly rearrange \n",
    "    train_img, test_img = np.array_split(imgs, [int(len(imgs)*split)])\n",
    "\n",
    "    # copy img + label to corresponding train/test folder\n",
    "    for img in train_img:   \n",
    "        name, ext = os.path.splitext(img)\n",
    "        lbl = name + \".txt\"\n",
    "\n",
    "        # randomly choosen 70% for training\n",
    "        source_img_path = os.path.join(img_path, img)\n",
    "        source_lbl_path = os.path.join(label_path, lbl)\n",
    "        \n",
    "        train_img_path = os.path.join(\"./data/YOLO_bus/\", camera, \"train\", \"images\", img)\n",
    "        train_lbl_path = os.path.join(\"./data/YOLO_bus/\", camera, \"train\", \"labels\", lbl)\n",
    "\n",
    "        shutil.copyfile(source_img_path, train_img_path)\n",
    "        shutil.copyfile(source_lbl_path, train_lbl_path)\n",
    "\n",
    "    for img in test_img:   \n",
    "        name, ext = os.path.splitext(img)\n",
    "        lbl = name + \".txt\"\n",
    "\n",
    "        source_img_path = os.path.join(img_path, img)\n",
    "        source_lbl_path = os.path.join(label_path, lbl)\n",
    "        \n",
    "        train_img_path = os.path.join(\"./data/YOLO_bus/\", camera, \"test\", \"images\", img)\n",
    "        train_lbl_path = os.path.join(\"./data/YOLO_bus/\", camera, \"test\", \"labels\", lbl)\n",
    "\n",
    "        shutil.copyfile(source_img_path, train_img_path)\n",
    "        shutil.copyfile(source_lbl_path, train_lbl_path)\n",
    "\n",
    "    # check\n",
    "    train  = len(os.listdir(os.path.join(\"./data/YOLO_bus/\", camera, \"train\", \"images\")))\n",
    "    tot = len(os.listdir(os.path.join(\"./data/YOLO_bus/\", camera, \"test\", \"images\"))) + len(os.listdir(os.path.join(\"./data/YOLO_bus/\", camera, \"train\", \"images\")))\n",
    "    print(\"For camera, \", camera, \": Test/Train Ratio = \", train/tot)"
   ]
  },
  {
   "cell_type": "code",
   "execution_count": 203,
   "id": "ab60ee09-2441-4fc9-bfd6-973d20f9c14c",
   "metadata": {},
   "outputs": [],
   "source": [
    "def make_yaml(camera):\n",
    "\n",
    "    root = \"C:/Users/allis/ML_Civ_Eng/bus_git/bus/data/YOLO_bus/\"\n",
    "    train_path = os.path.join(root, camera, \"train\", \"images\")\n",
    "    test_path = os.path.join(root, camera, \"test\", \"images\")\n",
    "    \n",
    "    data = {\n",
    "    'train': train_path, # training set images\n",
    "    'val': test_path, # testing set images\n",
    "    'nc': 1,\n",
    "    'names' : [\"bus\"] \n",
    "    }\n",
    "\n",
    "    # Writing the data to a YAML file\n",
    "    yaml_name = camera + \".yaml\"\n",
    "    yaml_path = os.path.join(\"./data/YOLO_yaml/\", yaml_name)\n",
    "    \n",
    "    with open(yaml_path, 'w') as file:\n",
    "        yaml.dump(data, file)"
   ]
  },
  {
   "cell_type": "code",
   "execution_count": 57,
   "id": "73c927e6-6b59-40c5-9e9a-51bf93b28622",
   "metadata": {},
   "outputs": [],
   "source": [
    "cameras_42 = [\n",
    "    \"8f692f55-8118-423b-8bcb-1ea49eaf442b\",\n",
    "    \"1546f761-039c-4b5c-af5e-75c83c9f603f\",\n",
    "    \"F0e5c9aa-7700-4918-834f-c106189bde4b\",\n",
    "    \"83bf2591-579d-415b-a0d4-fe39868b46d1\"\n",
    "]"
   ]
  },
  {
   "cell_type": "code",
   "execution_count": 68,
   "id": "2b5bbe0b-c123-400a-b0eb-ff23fad794ac",
   "metadata": {},
   "outputs": [
    {
     "name": "stdout",
     "output_type": "stream",
     "text": [
      "8f692f55-8118-423b-8bcb-1ea49eaf442b : DONE\n",
      "1546f761-039c-4b5c-af5e-75c83c9f603f : DONE\n",
      "F0e5c9aa-7700-4918-834f-c106189bde4b : DONE\n",
      "83bf2591-579d-415b-a0d4-fe39868b46d1 : DONE\n"
     ]
    }
   ],
   "source": [
    "# pull bus images/annotations\n",
    "for camera in cameras_42:\n",
    "    pull_bus(camera)\n",
    "    print(camera, \": DONE\")"
   ]
  },
  {
   "cell_type": "code",
   "execution_count": 137,
   "id": "084c784c-dd30-4aa1-977e-30719042add5",
   "metadata": {},
   "outputs": [
    {
     "name": "stdout",
     "output_type": "stream",
     "text": [
      "For camera,  8f692f55-8118-423b-8bcb-1ea49eaf442b : Test/Train Ratio =  0.6997716894977168\n",
      "8f692f55-8118-423b-8bcb-1ea49eaf442b : DONE\n",
      "For camera,  1546f761-039c-4b5c-af5e-75c83c9f603f : Test/Train Ratio =  0.6977491961414791\n",
      "1546f761-039c-4b5c-af5e-75c83c9f603f : DONE\n",
      "For camera,  F0e5c9aa-7700-4918-834f-c106189bde4b : Test/Train Ratio =  0.6978922716627635\n",
      "F0e5c9aa-7700-4918-834f-c106189bde4b : DONE\n",
      "For camera,  83bf2591-579d-415b-a0d4-fe39868b46d1 : Test/Train Ratio =  0.6996134732192159\n",
      "83bf2591-579d-415b-a0d4-fe39868b46d1 : DONE\n"
     ]
    }
   ],
   "source": [
    "# split into training and testing sets\n",
    "for camera in cameras_42:\n",
    "    split_train_test(camera, 0.7) # split set as 70% training, 30% testing\n",
    "    print(camera, \": DONE\")"
   ]
  },
  {
   "cell_type": "code",
   "execution_count": 204,
   "id": "7ef7dd9c-0122-4dff-a9d4-6d1547b6d11b",
   "metadata": {},
   "outputs": [
    {
     "name": "stdout",
     "output_type": "stream",
     "text": [
      "8f692f55-8118-423b-8bcb-1ea49eaf442b : DONE\n",
      "1546f761-039c-4b5c-af5e-75c83c9f603f : DONE\n",
      "F0e5c9aa-7700-4918-834f-c106189bde4b : DONE\n",
      "83bf2591-579d-415b-a0d4-fe39868b46d1 : DONE\n"
     ]
    }
   ],
   "source": [
    "# make YAML files for YOLO training\n",
    "for camera in cameras_42:\n",
    "    make_yaml(camera)\n",
    "    print(camera, \": DONE\")"
   ]
  },
  {
   "cell_type": "markdown",
   "id": "fd21b982-3225-4c05-aaa4-51efada7e858",
   "metadata": {},
   "source": [
    "## Training YOLO"
   ]
  },
  {
   "cell_type": "code",
   "execution_count": 141,
   "id": "e897f6f9-12d4-4a62-b918-4cd48bcce512",
   "metadata": {},
   "outputs": [],
   "source": [
    "from ultralytics import YOLO"
   ]
  },
  {
   "cell_type": "code",
   "execution_count": 181,
   "id": "e429ed09-c4f5-4d66-b181-37f0f921893d",
   "metadata": {},
   "outputs": [],
   "source": [
    "# init YOLO model\n",
    "model = YOLO(\"yolov8m.pt\")"
   ]
  },
  {
   "cell_type": "code",
   "execution_count": 154,
   "id": "676c8018-44a6-4714-bc2a-1e2945016271",
   "metadata": {},
   "outputs": [
    {
     "data": {
      "text/plain": [
       "['1546f761-039c-4b5c-af5e-75c83c9f603f.yaml',\n",
       " '83bf2591-579d-415b-a0d4-fe39868b46d1.yaml',\n",
       " '8f692f55-8118-423b-8bcb-1ea49eaf442b.yaml',\n",
       " 'F0e5c9aa-7700-4918-834f-c106189bde4b.yaml']"
      ]
     },
     "execution_count": 154,
     "metadata": {},
     "output_type": "execute_result"
    }
   ],
   "source": [
    "yamls = os.listdir(\"./data/YOLO_yaml/\")\n",
    "yamls"
   ]
  },
  {
   "cell_type": "code",
   "execution_count": null,
   "id": "39e18196-5ec7-4534-b4ee-ca251a59195a",
   "metadata": {},
   "outputs": [
    {
     "name": "stdout",
     "output_type": "stream",
     "text": [
      "New https://pypi.org/project/ultralytics/8.3.111 available  Update with 'pip install -U ultralytics'\n",
      "Ultralytics 8.3.107  Python-3.12.4 torch-2.6.0+cpu CPU (13th Gen Intel Core(TM) i9-13900H)\n",
      "\u001b[34m\u001b[1mengine\\trainer: \u001b[0mtask=detect, mode=train, model=yolov8m.pt, data=./data/YOLO_yaml/F0e5c9aa-7700-4918-834f-c106189bde4b.yaml, epochs=5, time=None, patience=100, batch=16, imgsz=640, save=True, save_period=-1, cache=False, device=None, workers=8, project=None, name=train20, exist_ok=False, pretrained=True, optimizer=auto, verbose=True, seed=0, deterministic=True, single_cls=False, rect=False, cos_lr=False, close_mosaic=10, resume=False, amp=True, fraction=1.0, profile=False, freeze=None, multi_scale=False, overlap_mask=True, mask_ratio=4, dropout=0.0, val=True, split=val, save_json=False, conf=None, iou=0.7, max_det=300, half=False, dnn=False, plots=True, source=None, vid_stride=1, stream_buffer=False, visualize=False, augment=False, agnostic_nms=False, classes=None, retina_masks=False, embed=None, show=False, save_frames=False, save_txt=False, save_conf=False, save_crop=False, show_labels=True, show_conf=True, show_boxes=True, line_width=None, format=torchscript, keras=False, optimize=False, int8=False, dynamic=False, simplify=True, opset=None, workspace=None, nms=False, lr0=0.01, lrf=0.01, momentum=0.937, weight_decay=0.0005, warmup_epochs=3.0, warmup_momentum=0.8, warmup_bias_lr=0.1, box=7.5, cls=0.5, dfl=1.5, pose=12.0, kobj=1.0, nbs=64, hsv_h=0.015, hsv_s=0.7, hsv_v=0.4, degrees=0.0, translate=0.1, scale=0.5, shear=0.0, perspective=0.0, flipud=0.0, fliplr=0.5, bgr=0.0, mosaic=1.0, mixup=0.0, copy_paste=0.0, copy_paste_mode=flip, auto_augment=randaugment, erasing=0.4, crop_fraction=1.0, cfg=None, tracker=botsort.yaml, save_dir=runs\\detect\\train20\n",
      "\n",
      "                   from  n    params  module                                       arguments                     \n",
      "  0                  -1  1      1392  ultralytics.nn.modules.conv.Conv             [3, 48, 3, 2]                 \n",
      "  1                  -1  1     41664  ultralytics.nn.modules.conv.Conv             [48, 96, 3, 2]                \n",
      "  2                  -1  2    111360  ultralytics.nn.modules.block.C2f             [96, 96, 2, True]             \n",
      "  3                  -1  1    166272  ultralytics.nn.modules.conv.Conv             [96, 192, 3, 2]               \n",
      "  4                  -1  4    813312  ultralytics.nn.modules.block.C2f             [192, 192, 4, True]           \n",
      "  5                  -1  1    664320  ultralytics.nn.modules.conv.Conv             [192, 384, 3, 2]              \n",
      "  6                  -1  4   3248640  ultralytics.nn.modules.block.C2f             [384, 384, 4, True]           \n",
      "  7                  -1  1   1991808  ultralytics.nn.modules.conv.Conv             [384, 576, 3, 2]              \n",
      "  8                  -1  2   3985920  ultralytics.nn.modules.block.C2f             [576, 576, 2, True]           \n",
      "  9                  -1  1    831168  ultralytics.nn.modules.block.SPPF            [576, 576, 5]                 \n",
      " 10                  -1  1         0  torch.nn.modules.upsampling.Upsample         [None, 2, 'nearest']          \n",
      " 11             [-1, 6]  1         0  ultralytics.nn.modules.conv.Concat           [1]                           \n",
      " 12                  -1  2   1993728  ultralytics.nn.modules.block.C2f             [960, 384, 2]                 \n",
      " 13                  -1  1         0  torch.nn.modules.upsampling.Upsample         [None, 2, 'nearest']          \n",
      " 14             [-1, 4]  1         0  ultralytics.nn.modules.conv.Concat           [1]                           \n",
      " 15                  -1  2    517632  ultralytics.nn.modules.block.C2f             [576, 192, 2]                 \n",
      " 16                  -1  1    332160  ultralytics.nn.modules.conv.Conv             [192, 192, 3, 2]              \n",
      " 17            [-1, 12]  1         0  ultralytics.nn.modules.conv.Concat           [1]                           \n",
      " 18                  -1  2   1846272  ultralytics.nn.modules.block.C2f             [576, 384, 2]                 \n",
      " 19                  -1  1   1327872  ultralytics.nn.modules.conv.Conv             [384, 384, 3, 2]              \n",
      " 20             [-1, 9]  1         0  ultralytics.nn.modules.conv.Concat           [1]                           \n",
      " 21                  -1  2   4207104  ultralytics.nn.modules.block.C2f             [960, 576, 2]                 \n",
      " 22        [15, 18, 21]  1   3776275  ultralytics.nn.modules.head.Detect           [1, [192, 384, 576]]          \n",
      "Model summary: 169 layers, 25,856,899 parameters, 25,856,883 gradients, 79.1 GFLOPs\n",
      "\n",
      "Transferred 475/475 items from pretrained weights\n",
      "Freezing layer 'model.22.dfl.conv.weight'\n"
     ]
    },
    {
     "name": "stderr",
     "output_type": "stream",
     "text": [
      "\u001b[34m\u001b[1mtrain: \u001b[0mScanning C:\\Users\\allis\\ML_Civ_Eng\\bus_git\\bus\\data\\YOLO_bus\\F0e5c9aa-7700-4918-834f-c106189bde4b\\train\\labels..\u001b[0m"
     ]
    },
    {
     "name": "stdout",
     "output_type": "stream",
     "text": [
      "\u001b[34m\u001b[1mtrain: \u001b[0mWARNING  C:\\Users\\allis\\ML_Civ_Eng\\bus_git\\bus\\data\\YOLO_bus\\F0e5c9aa-7700-4918-834f-c106189bde4b\\train\\images\\20250413T181343.jpg: 1 duplicate labels removed\n"
     ]
    },
    {
     "name": "stderr",
     "output_type": "stream",
     "text": [
      "\n"
     ]
    },
    {
     "name": "stdout",
     "output_type": "stream",
     "text": [
      "\u001b[34m\u001b[1mtrain: \u001b[0mNew cache created: C:\\Users\\allis\\ML_Civ_Eng\\bus_git\\bus\\data\\YOLO_bus\\F0e5c9aa-7700-4918-834f-c106189bde4b\\train\\labels.cache\n"
     ]
    },
    {
     "name": "stderr",
     "output_type": "stream",
     "text": [
      "\u001b[34m\u001b[1mval: \u001b[0mScanning C:\\Users\\allis\\ML_Civ_Eng\\bus_git\\bus\\data\\YOLO_bus\\F0e5c9aa-7700-4918-834f-c106189bde4b\\test\\labels... 1\u001b[0m\n"
     ]
    },
    {
     "name": "stdout",
     "output_type": "stream",
     "text": [
      "\u001b[34m\u001b[1mval: \u001b[0mNew cache created: C:\\Users\\allis\\ML_Civ_Eng\\bus_git\\bus\\data\\YOLO_bus\\F0e5c9aa-7700-4918-834f-c106189bde4b\\test\\labels.cache\n",
      "Plotting labels to runs\\detect\\train20\\labels.jpg... \n",
      "\u001b[34m\u001b[1moptimizer:\u001b[0m 'optimizer=auto' found, ignoring 'lr0=0.01' and 'momentum=0.937' and determining best 'optimizer', 'lr0' and 'momentum' automatically... \n",
      "\u001b[34m\u001b[1moptimizer:\u001b[0m AdamW(lr=0.002, momentum=0.9) with parameter groups 77 weight(decay=0.0), 84 weight(decay=0.0005), 83 bias(decay=0.0)\n",
      "Image sizes 640 train, 640 val\n",
      "Using 0 dataloader workers\n",
      "Logging results to \u001b[1mruns\\detect\\train20\u001b[0m\n",
      "Starting training for 5 epochs...\n",
      "\n",
      "      Epoch    GPU_mem   box_loss   cls_loss   dfl_loss  Instances       Size\n"
     ]
    },
    {
     "name": "stderr",
     "output_type": "stream",
     "text": [
      "  0%|          | 0/19 [00:00<?, ?it/s]"
     ]
    }
   ],
   "source": [
    "model.train(data= \"./data/YOLO_yaml/F0e5c9aa-7700-4918-834f-c106189bde4b.yaml\", epochs = 5)"
   ]
  },
  {
   "cell_type": "markdown",
   "id": "6750d412-f316-4c68-96c5-d76b6cec6135",
   "metadata": {},
   "source": [
    "## YOLO"
   ]
  },
  {
   "cell_type": "code",
   "execution_count": 2,
   "id": "b01eeb04-c157-4abf-843e-fad8ce715cd6",
   "metadata": {},
   "outputs": [],
   "source": [
    "# get paths to all images\n",
    "folder_path = \"./data/camera_images/\"\n",
    "paths = []\n",
    "\n",
    "for path, subdirs, files in os.walk(folder_path):\n",
    "    for name in files:\n",
    "        paths.append(os.path.join(path, name))"
   ]
  },
  {
   "cell_type": "code",
   "execution_count": 6,
   "id": "737894e0-90ba-4a89-b342-062fff0f8ca9",
   "metadata": {},
   "outputs": [
    {
     "name": "stdout",
     "output_type": "stream",
     "text": [
      "\n",
      "image 1/1 C:\\Users\\allis\\ML_Civ_Eng\\bus_git\\bus\\data\\camera_images\\1546f761-039c-4b5c-af5e-75c83c9f603f\\20250412T232611.jpg: 448x640 8 cars, 1436.6ms\n",
      "Speed: 15.3ms preprocess, 1436.6ms inference, 19.3ms postprocess per image at shape (1, 3, 448, 640)\n"
     ]
    }
   ],
   "source": [
    "# run prediction model\n",
    "results = model.predict(paths[1])"
   ]
  },
  {
   "cell_type": "code",
   "execution_count": 12,
   "id": "ccee2a7c-891f-48a5-85d1-de34ecaf3bf4",
   "metadata": {},
   "outputs": [
    {
     "name": "stdout",
     "output_type": "stream",
     "text": [
      "Object type: car\n",
      "Coordinates: [229, 61, 260, 93]\n",
      "Probability: 0.82\n",
      "---\n",
      "Object type: car\n",
      "Coordinates: [156, 50, 184, 79]\n",
      "Probability: 0.74\n",
      "---\n",
      "Object type: car\n",
      "Coordinates: [193, 47, 215, 75]\n",
      "Probability: 0.57\n",
      "---\n",
      "Object type: car\n",
      "Coordinates: [225, 35, 246, 53]\n",
      "Probability: 0.36\n",
      "---\n",
      "Object type: car\n",
      "Coordinates: [215, 23, 236, 34]\n",
      "Probability: 0.35\n",
      "---\n",
      "Object type: car\n",
      "Coordinates: [171, 28, 189, 47]\n",
      "Probability: 0.29\n",
      "---\n",
      "Object type: car\n",
      "Coordinates: [112, 62, 142, 90]\n",
      "Probability: 0.28\n",
      "---\n",
      "Object type: car\n",
      "Coordinates: [196, 26, 214, 45]\n",
      "Probability: 0.25\n",
      "---\n"
     ]
    }
   ],
   "source": [
    "result = results[0]\n",
    "# len(result.boxes)\n",
    "\n",
    "box = result.boxes[0]\n",
    "\n",
    "for box in result.boxes:\n",
    "  class_id = result.names[box.cls[0].item()]\n",
    "  cords = box.xyxy[0].tolist()\n",
    "  cords = [round(x) for x in cords]\n",
    "  conf = round(box.conf[0].item(), 2)\n",
    "\n",
    "  print(\"Object type:\", class_id)\n",
    "  print(\"Coordinates:\", cords)\n",
    "  print(\"Probability:\", conf)\n",
    "  print(\"---\")"
   ]
  }
 ],
 "metadata": {
  "kernelspec": {
   "display_name": "Python 3 (ipykernel)",
   "language": "python",
   "name": "python3"
  },
  "language_info": {
   "codemirror_mode": {
    "name": "ipython",
    "version": 3
   },
   "file_extension": ".py",
   "mimetype": "text/x-python",
   "name": "python",
   "nbconvert_exporter": "python",
   "pygments_lexer": "ipython3",
   "version": "3.12.4"
  }
 },
 "nbformat": 4,
 "nbformat_minor": 5
}
